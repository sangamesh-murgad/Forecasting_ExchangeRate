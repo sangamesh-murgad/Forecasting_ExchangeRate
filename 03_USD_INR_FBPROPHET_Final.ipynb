{
 "cells": [
  {
   "cell_type": "markdown",
   "id": "ae46e7b7",
   "metadata": {},
   "source": [
    "# Import libraries and Read data"
   ]
  },
  {
   "cell_type": "markdown",
   "id": "05a77a1f",
   "metadata": {},
   "source": [
    "Fb Prophet library is an open-source library designed for making forecasts for univariate time series datasets. It is easy to use and designed to automatically find a good set of hyperparameters for the model in an effort to make skillful forecasts for data with trends and seasonal structure by default."
   ]
  },
  {
   "cell_type": "code",
   "execution_count": 1,
   "id": "8b093aec",
   "metadata": {
    "ExecuteTime": {
     "end_time": "2021-08-31T14:16:51.380781Z",
     "start_time": "2021-08-31T14:16:48.496651Z"
    }
   },
   "outputs": [],
   "source": [
    "# Import Libraries\n",
    "\n",
    "import pandas as pd\n",
    "from pandas import to_datetime\n",
    "import numpy as np\n",
    "import matplotlib.pyplot as plt\n",
    "from sklearn.metrics import mean_squared_error, mean_absolute_error\n",
    "import random\n",
    "\n",
    "import fbprophet\n",
    "from fbprophet import Prophet\n",
    "from fbprophet.plot import add_changepoints_to_plot"
   ]
  },
  {
   "cell_type": "code",
   "execution_count": 2,
   "id": "07484838",
   "metadata": {
    "ExecuteTime": {
     "end_time": "2021-08-31T14:16:51.732558Z",
     "start_time": "2021-08-31T14:16:51.387183Z"
    }
   },
   "outputs": [],
   "source": [
    "# Read Data\n",
    "rawdata= pd.read_excel(  r'C:\\Users\\MMM-SM\\21Pypractice\\project\\DEXINUS.xls', skiprows=10, parse_dates=True)"
   ]
  },
  {
   "cell_type": "code",
   "execution_count": 3,
   "id": "4b978662",
   "metadata": {
    "ExecuteTime": {
     "end_time": "2021-08-31T14:16:51.764990Z",
     "start_time": "2021-08-31T14:16:51.736740Z"
    }
   },
   "outputs": [
    {
     "data": {
      "text/html": [
       "<div>\n",
       "<style scoped>\n",
       "    .dataframe tbody tr th:only-of-type {\n",
       "        vertical-align: middle;\n",
       "    }\n",
       "\n",
       "    .dataframe tbody tr th {\n",
       "        vertical-align: top;\n",
       "    }\n",
       "\n",
       "    .dataframe thead th {\n",
       "        text-align: right;\n",
       "    }\n",
       "</style>\n",
       "<table border=\"1\" class=\"dataframe\">\n",
       "  <thead>\n",
       "    <tr style=\"text-align: right;\">\n",
       "      <th></th>\n",
       "      <th>observation_date</th>\n",
       "      <th>DEXINUS</th>\n",
       "    </tr>\n",
       "  </thead>\n",
       "  <tbody>\n",
       "    <tr>\n",
       "      <th>0</th>\n",
       "      <td>1973-01-02</td>\n",
       "      <td>8.02</td>\n",
       "    </tr>\n",
       "    <tr>\n",
       "      <th>1</th>\n",
       "      <td>1973-01-03</td>\n",
       "      <td>8.02</td>\n",
       "    </tr>\n",
       "    <tr>\n",
       "      <th>2</th>\n",
       "      <td>1973-01-04</td>\n",
       "      <td>8.00</td>\n",
       "    </tr>\n",
       "    <tr>\n",
       "      <th>3</th>\n",
       "      <td>1973-01-05</td>\n",
       "      <td>8.01</td>\n",
       "    </tr>\n",
       "    <tr>\n",
       "      <th>4</th>\n",
       "      <td>1973-01-08</td>\n",
       "      <td>8.00</td>\n",
       "    </tr>\n",
       "  </tbody>\n",
       "</table>\n",
       "</div>"
      ],
      "text/plain": [
       "  observation_date  DEXINUS\n",
       "0       1973-01-02     8.02\n",
       "1       1973-01-03     8.02\n",
       "2       1973-01-04     8.00\n",
       "3       1973-01-05     8.01\n",
       "4       1973-01-08     8.00"
      ]
     },
     "execution_count": 3,
     "metadata": {},
     "output_type": "execute_result"
    }
   ],
   "source": [
    "rawdata.head()"
   ]
  },
  {
   "cell_type": "markdown",
   "id": "5d06eeac",
   "metadata": {},
   "source": [
    "# Data preprocessing\n",
    "\n",
    "## Fill `'NA'` Values"
   ]
  },
  {
   "cell_type": "code",
   "execution_count": 4,
   "id": "6a4990ac",
   "metadata": {
    "ExecuteTime": {
     "end_time": "2021-08-31T14:16:51.825297Z",
     "start_time": "2021-08-31T14:16:51.772033Z"
    }
   },
   "outputs": [
    {
     "name": "stdout",
     "output_type": "stream",
     "text": [
      "<class 'pandas.core.frame.DataFrame'>\n",
      "RangeIndex: 12649 entries, 0 to 12648\n",
      "Data columns (total 2 columns):\n",
      " #   Column            Non-Null Count  Dtype         \n",
      "---  ------            --------------  -----         \n",
      " 0   observation_date  12649 non-null  datetime64[ns]\n",
      " 1   DEXINUS           12649 non-null  float64       \n",
      "dtypes: datetime64[ns](1), float64(1)\n",
      "memory usage: 197.8 KB\n"
     ]
    }
   ],
   "source": [
    "rawdata['DEXINUS'].fillna(method='ffill', inplace=True)\n",
    "rawdata.info()"
   ]
  },
  {
   "cell_type": "markdown",
   "id": "e82acfe0",
   "metadata": {},
   "source": [
    "Facebook Prophet predicts data only when it is in a certain format. The dataframe with the data should have column saved as ds for time series data and y for the data to be forecasted. Here, the time series is the column 'Date' and the data to be forecasted is the column 'DEXINUS'. So let’s make a new dataframe with new column names and the same data. Also, ds should be in a datetime format."
   ]
  },
  {
   "cell_type": "markdown",
   "id": "950458ce",
   "metadata": {},
   "source": [
    " ## Rename the columns as per the norms of the FBPROPHET"
   ]
  },
  {
   "cell_type": "code",
   "execution_count": 5,
   "id": "2f9c6b3b",
   "metadata": {
    "ExecuteTime": {
     "end_time": "2021-08-31T14:16:51.873065Z",
     "start_time": "2021-08-31T14:16:51.833280Z"
    }
   },
   "outputs": [
    {
     "data": {
      "text/html": [
       "<div>\n",
       "<style scoped>\n",
       "    .dataframe tbody tr th:only-of-type {\n",
       "        vertical-align: middle;\n",
       "    }\n",
       "\n",
       "    .dataframe tbody tr th {\n",
       "        vertical-align: top;\n",
       "    }\n",
       "\n",
       "    .dataframe thead th {\n",
       "        text-align: right;\n",
       "    }\n",
       "</style>\n",
       "<table border=\"1\" class=\"dataframe\">\n",
       "  <thead>\n",
       "    <tr style=\"text-align: right;\">\n",
       "      <th></th>\n",
       "      <th>ds</th>\n",
       "      <th>y</th>\n",
       "    </tr>\n",
       "  </thead>\n",
       "  <tbody>\n",
       "    <tr>\n",
       "      <th>0</th>\n",
       "      <td>1973-01-02</td>\n",
       "      <td>8.02</td>\n",
       "    </tr>\n",
       "    <tr>\n",
       "      <th>1</th>\n",
       "      <td>1973-01-03</td>\n",
       "      <td>8.02</td>\n",
       "    </tr>\n",
       "    <tr>\n",
       "      <th>2</th>\n",
       "      <td>1973-01-04</td>\n",
       "      <td>8.00</td>\n",
       "    </tr>\n",
       "    <tr>\n",
       "      <th>3</th>\n",
       "      <td>1973-01-05</td>\n",
       "      <td>8.01</td>\n",
       "    </tr>\n",
       "    <tr>\n",
       "      <th>4</th>\n",
       "      <td>1973-01-08</td>\n",
       "      <td>8.00</td>\n",
       "    </tr>\n",
       "  </tbody>\n",
       "</table>\n",
       "</div>"
      ],
      "text/plain": [
       "          ds     y\n",
       "0 1973-01-02  8.02\n",
       "1 1973-01-03  8.02\n",
       "2 1973-01-04  8.00\n",
       "3 1973-01-05  8.01\n",
       "4 1973-01-08  8.00"
      ]
     },
     "execution_count": 5,
     "metadata": {},
     "output_type": "execute_result"
    }
   ],
   "source": [
    "#prepare expected column names\n",
    "df=rawdata.rename(columns={'observation_date':'ds','DEXINUS':'y'})\n",
    "df.head()"
   ]
  },
  {
   "cell_type": "markdown",
   "id": "f3b9fe85",
   "metadata": {},
   "source": [
    "## Select the data from 1990 for training"
   ]
  },
  {
   "cell_type": "code",
   "execution_count": 6,
   "id": "ade1a52b",
   "metadata": {
    "ExecuteTime": {
     "end_time": "2021-08-31T14:16:51.913318Z",
     "start_time": "2021-08-31T14:16:51.878565Z"
    }
   },
   "outputs": [],
   "source": [
    "start_date = '1990-01-01'\n",
    "end_date = '2021-06-25'"
   ]
  },
  {
   "cell_type": "code",
   "execution_count": 7,
   "id": "23c084f9",
   "metadata": {
    "ExecuteTime": {
     "end_time": "2021-08-31T14:16:51.947877Z",
     "start_time": "2021-08-31T14:16:51.920991Z"
    }
   },
   "outputs": [],
   "source": [
    "remove_df = (df['ds'] >= start_date ) & (df['ds'] <= end_date)"
   ]
  },
  {
   "cell_type": "code",
   "execution_count": 8,
   "id": "3dde9318",
   "metadata": {
    "ExecuteTime": {
     "end_time": "2021-08-31T14:16:52.002512Z",
     "start_time": "2021-08-31T14:16:51.953879Z"
    }
   },
   "outputs": [
    {
     "data": {
      "text/html": [
       "<div>\n",
       "<style scoped>\n",
       "    .dataframe tbody tr th:only-of-type {\n",
       "        vertical-align: middle;\n",
       "    }\n",
       "\n",
       "    .dataframe tbody tr th {\n",
       "        vertical-align: top;\n",
       "    }\n",
       "\n",
       "    .dataframe thead th {\n",
       "        text-align: right;\n",
       "    }\n",
       "</style>\n",
       "<table border=\"1\" class=\"dataframe\">\n",
       "  <thead>\n",
       "    <tr style=\"text-align: right;\">\n",
       "      <th></th>\n",
       "      <th>ds</th>\n",
       "      <th>y</th>\n",
       "    </tr>\n",
       "  </thead>\n",
       "  <tbody>\n",
       "    <tr>\n",
       "      <th>4434</th>\n",
       "      <td>1990-01-01</td>\n",
       "      <td>16.96</td>\n",
       "    </tr>\n",
       "    <tr>\n",
       "      <th>4435</th>\n",
       "      <td>1990-01-02</td>\n",
       "      <td>16.96</td>\n",
       "    </tr>\n",
       "    <tr>\n",
       "      <th>4436</th>\n",
       "      <td>1990-01-03</td>\n",
       "      <td>16.99</td>\n",
       "    </tr>\n",
       "    <tr>\n",
       "      <th>4437</th>\n",
       "      <td>1990-01-04</td>\n",
       "      <td>16.94</td>\n",
       "    </tr>\n",
       "    <tr>\n",
       "      <th>4438</th>\n",
       "      <td>1990-01-05</td>\n",
       "      <td>16.93</td>\n",
       "    </tr>\n",
       "    <tr>\n",
       "      <th>...</th>\n",
       "      <td>...</td>\n",
       "      <td>...</td>\n",
       "    </tr>\n",
       "    <tr>\n",
       "      <th>12644</th>\n",
       "      <td>2021-06-21</td>\n",
       "      <td>74.18</td>\n",
       "    </tr>\n",
       "    <tr>\n",
       "      <th>12645</th>\n",
       "      <td>2021-06-22</td>\n",
       "      <td>74.37</td>\n",
       "    </tr>\n",
       "    <tr>\n",
       "      <th>12646</th>\n",
       "      <td>2021-06-23</td>\n",
       "      <td>74.13</td>\n",
       "    </tr>\n",
       "    <tr>\n",
       "      <th>12647</th>\n",
       "      <td>2021-06-24</td>\n",
       "      <td>74.14</td>\n",
       "    </tr>\n",
       "    <tr>\n",
       "      <th>12648</th>\n",
       "      <td>2021-06-25</td>\n",
       "      <td>74.14</td>\n",
       "    </tr>\n",
       "  </tbody>\n",
       "</table>\n",
       "<p>8215 rows × 2 columns</p>\n",
       "</div>"
      ],
      "text/plain": [
       "              ds      y\n",
       "4434  1990-01-01  16.96\n",
       "4435  1990-01-02  16.96\n",
       "4436  1990-01-03  16.99\n",
       "4437  1990-01-04  16.94\n",
       "4438  1990-01-05  16.93\n",
       "...          ...    ...\n",
       "12644 2021-06-21  74.18\n",
       "12645 2021-06-22  74.37\n",
       "12646 2021-06-23  74.13\n",
       "12647 2021-06-24  74.14\n",
       "12648 2021-06-25  74.14\n",
       "\n",
       "[8215 rows x 2 columns]"
      ]
     },
     "execution_count": 8,
     "metadata": {},
     "output_type": "execute_result"
    }
   ],
   "source": [
    "df=df.loc[remove_df]\n",
    "df"
   ]
  },
  {
   "cell_type": "code",
   "execution_count": 9,
   "id": "2b2b4493",
   "metadata": {
    "ExecuteTime": {
     "end_time": "2021-08-31T14:16:52.165439Z",
     "start_time": "2021-08-31T14:16:52.005309Z"
    }
   },
   "outputs": [
    {
     "data": {
      "text/html": [
       "<div>\n",
       "<style scoped>\n",
       "    .dataframe tbody tr th:only-of-type {\n",
       "        vertical-align: middle;\n",
       "    }\n",
       "\n",
       "    .dataframe tbody tr th {\n",
       "        vertical-align: top;\n",
       "    }\n",
       "\n",
       "    .dataframe thead th {\n",
       "        text-align: right;\n",
       "    }\n",
       "</style>\n",
       "<table border=\"1\" class=\"dataframe\">\n",
       "  <thead>\n",
       "    <tr style=\"text-align: right;\">\n",
       "      <th></th>\n",
       "      <th>y</th>\n",
       "    </tr>\n",
       "    <tr>\n",
       "      <th>ds</th>\n",
       "      <th></th>\n",
       "    </tr>\n",
       "  </thead>\n",
       "  <tbody>\n",
       "    <tr>\n",
       "      <th>1990-01-01</th>\n",
       "      <td>16.96</td>\n",
       "    </tr>\n",
       "    <tr>\n",
       "      <th>1990-01-02</th>\n",
       "      <td>16.96</td>\n",
       "    </tr>\n",
       "    <tr>\n",
       "      <th>1990-01-03</th>\n",
       "      <td>16.99</td>\n",
       "    </tr>\n",
       "    <tr>\n",
       "      <th>1990-01-04</th>\n",
       "      <td>16.94</td>\n",
       "    </tr>\n",
       "    <tr>\n",
       "      <th>1990-01-05</th>\n",
       "      <td>16.93</td>\n",
       "    </tr>\n",
       "  </tbody>\n",
       "</table>\n",
       "</div>"
      ],
      "text/plain": [
       "                y\n",
       "ds               \n",
       "1990-01-01  16.96\n",
       "1990-01-02  16.96\n",
       "1990-01-03  16.99\n",
       "1990-01-04  16.94\n",
       "1990-01-05  16.93"
      ]
     },
     "execution_count": 9,
     "metadata": {},
     "output_type": "execute_result"
    }
   ],
   "source": [
    "df.set_index('ds',inplace=True)\n",
    "df.head()"
   ]
  },
  {
   "cell_type": "markdown",
   "id": "8d0d897a",
   "metadata": {},
   "source": [
    "## Split the data for train and test"
   ]
  },
  {
   "cell_type": "code",
   "execution_count": 10,
   "id": "890308cf",
   "metadata": {
    "ExecuteTime": {
     "end_time": "2021-08-31T14:16:52.206536Z",
     "start_time": "2021-08-31T14:16:52.167467Z"
    }
   },
   "outputs": [],
   "source": [
    "split_date = '2019-06-24'\n",
    "train = df.loc[df.index <= split_date].copy()\n",
    "test = df.loc[df.index > split_date].copy()"
   ]
  },
  {
   "cell_type": "code",
   "execution_count": 11,
   "id": "5bef13f4",
   "metadata": {
    "ExecuteTime": {
     "end_time": "2021-08-31T14:16:52.269658Z",
     "start_time": "2021-08-31T14:16:52.211548Z"
    }
   },
   "outputs": [
    {
     "data": {
      "text/html": [
       "<div>\n",
       "<style scoped>\n",
       "    .dataframe tbody tr th:only-of-type {\n",
       "        vertical-align: middle;\n",
       "    }\n",
       "\n",
       "    .dataframe tbody tr th {\n",
       "        vertical-align: top;\n",
       "    }\n",
       "\n",
       "    .dataframe thead th {\n",
       "        text-align: right;\n",
       "    }\n",
       "</style>\n",
       "<table border=\"1\" class=\"dataframe\">\n",
       "  <thead>\n",
       "    <tr style=\"text-align: right;\">\n",
       "      <th></th>\n",
       "      <th>y</th>\n",
       "    </tr>\n",
       "    <tr>\n",
       "      <th>ds</th>\n",
       "      <th></th>\n",
       "    </tr>\n",
       "  </thead>\n",
       "  <tbody>\n",
       "    <tr>\n",
       "      <th>2019-06-18</th>\n",
       "      <td>69.60</td>\n",
       "    </tr>\n",
       "    <tr>\n",
       "      <th>2019-06-19</th>\n",
       "      <td>69.64</td>\n",
       "    </tr>\n",
       "    <tr>\n",
       "      <th>2019-06-20</th>\n",
       "      <td>69.44</td>\n",
       "    </tr>\n",
       "    <tr>\n",
       "      <th>2019-06-21</th>\n",
       "      <td>69.59</td>\n",
       "    </tr>\n",
       "    <tr>\n",
       "      <th>2019-06-24</th>\n",
       "      <td>69.32</td>\n",
       "    </tr>\n",
       "  </tbody>\n",
       "</table>\n",
       "</div>"
      ],
      "text/plain": [
       "                y\n",
       "ds               \n",
       "2019-06-18  69.60\n",
       "2019-06-19  69.64\n",
       "2019-06-20  69.44\n",
       "2019-06-21  69.59\n",
       "2019-06-24  69.32"
      ]
     },
     "execution_count": 11,
     "metadata": {},
     "output_type": "execute_result"
    }
   ],
   "source": [
    "train.tail()"
   ]
  },
  {
   "cell_type": "code",
   "execution_count": 12,
   "id": "13365c03",
   "metadata": {
    "ExecuteTime": {
     "end_time": "2021-08-31T14:16:52.314446Z",
     "start_time": "2021-08-31T14:16:52.274580Z"
    }
   },
   "outputs": [
    {
     "data": {
      "text/html": [
       "<div>\n",
       "<style scoped>\n",
       "    .dataframe tbody tr th:only-of-type {\n",
       "        vertical-align: middle;\n",
       "    }\n",
       "\n",
       "    .dataframe tbody tr th {\n",
       "        vertical-align: top;\n",
       "    }\n",
       "\n",
       "    .dataframe thead th {\n",
       "        text-align: right;\n",
       "    }\n",
       "</style>\n",
       "<table border=\"1\" class=\"dataframe\">\n",
       "  <thead>\n",
       "    <tr style=\"text-align: right;\">\n",
       "      <th></th>\n",
       "      <th>y</th>\n",
       "    </tr>\n",
       "    <tr>\n",
       "      <th>ds</th>\n",
       "      <th></th>\n",
       "    </tr>\n",
       "  </thead>\n",
       "  <tbody>\n",
       "    <tr>\n",
       "      <th>2019-06-25</th>\n",
       "      <td>69.26</td>\n",
       "    </tr>\n",
       "    <tr>\n",
       "      <th>2019-06-26</th>\n",
       "      <td>69.18</td>\n",
       "    </tr>\n",
       "    <tr>\n",
       "      <th>2019-06-27</th>\n",
       "      <td>69.01</td>\n",
       "    </tr>\n",
       "    <tr>\n",
       "      <th>2019-06-28</th>\n",
       "      <td>68.92</td>\n",
       "    </tr>\n",
       "    <tr>\n",
       "      <th>2019-07-01</th>\n",
       "      <td>68.87</td>\n",
       "    </tr>\n",
       "  </tbody>\n",
       "</table>\n",
       "</div>"
      ],
      "text/plain": [
       "                y\n",
       "ds               \n",
       "2019-06-25  69.26\n",
       "2019-06-26  69.18\n",
       "2019-06-27  69.01\n",
       "2019-06-28  68.92\n",
       "2019-07-01  68.87"
      ]
     },
     "execution_count": 12,
     "metadata": {},
     "output_type": "execute_result"
    }
   ],
   "source": [
    "test.head()"
   ]
  },
  {
   "cell_type": "code",
   "execution_count": 13,
   "id": "7253821d",
   "metadata": {
    "ExecuteTime": {
     "end_time": "2021-08-31T14:16:52.341514Z",
     "start_time": "2021-08-31T14:16:52.316667Z"
    }
   },
   "outputs": [
    {
     "data": {
      "text/plain": [
       "((7691, 1), (524, 1))"
      ]
     },
     "execution_count": 13,
     "metadata": {},
     "output_type": "execute_result"
    }
   ],
   "source": [
    "train.shape,test.shape"
   ]
  },
  {
   "cell_type": "markdown",
   "id": "b5ccddc0",
   "metadata": {},
   "source": [
    "# Model building using hyper parameter prior scale\n",
    "\n",
    "## prior scale 0.05"
   ]
  },
  {
   "cell_type": "markdown",
   "id": "745ad870",
   "metadata": {},
   "source": [
    "### Initialize and Train Model"
   ]
  },
  {
   "cell_type": "code",
   "execution_count": 14,
   "id": "c7d80241",
   "metadata": {
    "ExecuteTime": {
     "end_time": "2021-08-31T14:18:30.069716Z",
     "start_time": "2021-08-31T14:16:52.343345Z"
    }
   },
   "outputs": [
    {
     "name": "stderr",
     "output_type": "stream",
     "text": [
      "INFO:fbprophet:Disabling daily seasonality. Run prophet with daily_seasonality=True to override this.\n"
     ]
    },
    {
     "data": {
      "text/plain": [
       "<fbprophet.forecaster.Prophet at 0x1a5f74b1e20>"
      ]
     },
     "execution_count": 14,
     "metadata": {},
     "output_type": "execute_result"
    }
   ],
   "source": [
    "# Initialize the model\n",
    "model = Prophet()\n",
    "# Train the model\n",
    "model.fit(train.reset_index() \\\n",
    "              .rename(columns={'observation_date':'ds',\n",
    "                               'DEXINUS':'y'}))"
   ]
  },
  {
   "cell_type": "markdown",
   "id": "56c52de2",
   "metadata": {},
   "source": [
    "### Test the model on Test data"
   ]
  },
  {
   "cell_type": "code",
   "execution_count": 15,
   "id": "bf13af73",
   "metadata": {
    "ExecuteTime": {
     "end_time": "2021-08-31T14:18:33.205331Z",
     "start_time": "2021-08-31T14:18:30.072864Z"
    }
   },
   "outputs": [
    {
     "data": {
      "text/html": [
       "<div>\n",
       "<style scoped>\n",
       "    .dataframe tbody tr th:only-of-type {\n",
       "        vertical-align: middle;\n",
       "    }\n",
       "\n",
       "    .dataframe tbody tr th {\n",
       "        vertical-align: top;\n",
       "    }\n",
       "\n",
       "    .dataframe thead th {\n",
       "        text-align: right;\n",
       "    }\n",
       "</style>\n",
       "<table border=\"1\" class=\"dataframe\">\n",
       "  <thead>\n",
       "    <tr style=\"text-align: right;\">\n",
       "      <th></th>\n",
       "      <th>ds</th>\n",
       "      <th>trend</th>\n",
       "      <th>yhat_lower</th>\n",
       "      <th>yhat_upper</th>\n",
       "      <th>trend_lower</th>\n",
       "      <th>trend_upper</th>\n",
       "      <th>additive_terms</th>\n",
       "      <th>additive_terms_lower</th>\n",
       "      <th>additive_terms_upper</th>\n",
       "      <th>weekly</th>\n",
       "      <th>weekly_lower</th>\n",
       "      <th>weekly_upper</th>\n",
       "      <th>yearly</th>\n",
       "      <th>yearly_lower</th>\n",
       "      <th>yearly_upper</th>\n",
       "      <th>multiplicative_terms</th>\n",
       "      <th>multiplicative_terms_lower</th>\n",
       "      <th>multiplicative_terms_upper</th>\n",
       "      <th>yhat</th>\n",
       "    </tr>\n",
       "  </thead>\n",
       "  <tbody>\n",
       "    <tr>\n",
       "      <th>0</th>\n",
       "      <td>2019-06-25</td>\n",
       "      <td>70.293855</td>\n",
       "      <td>68.669764</td>\n",
       "      <td>71.896231</td>\n",
       "      <td>70.293855</td>\n",
       "      <td>70.293855</td>\n",
       "      <td>-0.022560</td>\n",
       "      <td>-0.022560</td>\n",
       "      <td>-0.022560</td>\n",
       "      <td>-0.003834</td>\n",
       "      <td>-0.003834</td>\n",
       "      <td>-0.003834</td>\n",
       "      <td>-0.018727</td>\n",
       "      <td>-0.018727</td>\n",
       "      <td>-0.018727</td>\n",
       "      <td>0.0</td>\n",
       "      <td>0.0</td>\n",
       "      <td>0.0</td>\n",
       "      <td>70.271295</td>\n",
       "    </tr>\n",
       "    <tr>\n",
       "      <th>1</th>\n",
       "      <td>2019-06-26</td>\n",
       "      <td>70.298569</td>\n",
       "      <td>68.599305</td>\n",
       "      <td>71.936455</td>\n",
       "      <td>70.298569</td>\n",
       "      <td>70.298569</td>\n",
       "      <td>-0.014040</td>\n",
       "      <td>-0.014040</td>\n",
       "      <td>-0.014040</td>\n",
       "      <td>-0.010381</td>\n",
       "      <td>-0.010381</td>\n",
       "      <td>-0.010381</td>\n",
       "      <td>-0.003659</td>\n",
       "      <td>-0.003659</td>\n",
       "      <td>-0.003659</td>\n",
       "      <td>0.0</td>\n",
       "      <td>0.0</td>\n",
       "      <td>0.0</td>\n",
       "      <td>70.284529</td>\n",
       "    </tr>\n",
       "    <tr>\n",
       "      <th>2</th>\n",
       "      <td>2019-06-27</td>\n",
       "      <td>70.303283</td>\n",
       "      <td>68.662907</td>\n",
       "      <td>72.049456</td>\n",
       "      <td>70.303283</td>\n",
       "      <td>70.303283</td>\n",
       "      <td>0.001647</td>\n",
       "      <td>0.001647</td>\n",
       "      <td>0.001647</td>\n",
       "      <td>-0.009400</td>\n",
       "      <td>-0.009400</td>\n",
       "      <td>-0.009400</td>\n",
       "      <td>0.011047</td>\n",
       "      <td>0.011047</td>\n",
       "      <td>0.011047</td>\n",
       "      <td>0.0</td>\n",
       "      <td>0.0</td>\n",
       "      <td>0.0</td>\n",
       "      <td>70.304930</td>\n",
       "    </tr>\n",
       "    <tr>\n",
       "      <th>3</th>\n",
       "      <td>2019-06-28</td>\n",
       "      <td>70.307997</td>\n",
       "      <td>68.704509</td>\n",
       "      <td>71.883117</td>\n",
       "      <td>70.307997</td>\n",
       "      <td>70.307997</td>\n",
       "      <td>-0.004475</td>\n",
       "      <td>-0.004475</td>\n",
       "      <td>-0.004475</td>\n",
       "      <td>-0.029662</td>\n",
       "      <td>-0.029662</td>\n",
       "      <td>-0.029662</td>\n",
       "      <td>0.025188</td>\n",
       "      <td>0.025188</td>\n",
       "      <td>0.025188</td>\n",
       "      <td>0.0</td>\n",
       "      <td>0.0</td>\n",
       "      <td>0.0</td>\n",
       "      <td>70.303522</td>\n",
       "    </tr>\n",
       "    <tr>\n",
       "      <th>4</th>\n",
       "      <td>2019-07-01</td>\n",
       "      <td>70.322139</td>\n",
       "      <td>68.743377</td>\n",
       "      <td>71.927680</td>\n",
       "      <td>70.322139</td>\n",
       "      <td>70.322139</td>\n",
       "      <td>0.049224</td>\n",
       "      <td>0.049224</td>\n",
       "      <td>0.049224</td>\n",
       "      <td>-0.013037</td>\n",
       "      <td>-0.013037</td>\n",
       "      <td>-0.013037</td>\n",
       "      <td>0.062261</td>\n",
       "      <td>0.062261</td>\n",
       "      <td>0.062261</td>\n",
       "      <td>0.0</td>\n",
       "      <td>0.0</td>\n",
       "      <td>0.0</td>\n",
       "      <td>70.371363</td>\n",
       "    </tr>\n",
       "  </tbody>\n",
       "</table>\n",
       "</div>"
      ],
      "text/plain": [
       "          ds      trend  yhat_lower  yhat_upper  trend_lower  trend_upper  \\\n",
       "0 2019-06-25  70.293855   68.669764   71.896231    70.293855    70.293855   \n",
       "1 2019-06-26  70.298569   68.599305   71.936455    70.298569    70.298569   \n",
       "2 2019-06-27  70.303283   68.662907   72.049456    70.303283    70.303283   \n",
       "3 2019-06-28  70.307997   68.704509   71.883117    70.307997    70.307997   \n",
       "4 2019-07-01  70.322139   68.743377   71.927680    70.322139    70.322139   \n",
       "\n",
       "   additive_terms  additive_terms_lower  additive_terms_upper    weekly  \\\n",
       "0       -0.022560             -0.022560             -0.022560 -0.003834   \n",
       "1       -0.014040             -0.014040             -0.014040 -0.010381   \n",
       "2        0.001647              0.001647              0.001647 -0.009400   \n",
       "3       -0.004475             -0.004475             -0.004475 -0.029662   \n",
       "4        0.049224              0.049224              0.049224 -0.013037   \n",
       "\n",
       "   weekly_lower  weekly_upper    yearly  yearly_lower  yearly_upper  \\\n",
       "0     -0.003834     -0.003834 -0.018727     -0.018727     -0.018727   \n",
       "1     -0.010381     -0.010381 -0.003659     -0.003659     -0.003659   \n",
       "2     -0.009400     -0.009400  0.011047      0.011047      0.011047   \n",
       "3     -0.029662     -0.029662  0.025188      0.025188      0.025188   \n",
       "4     -0.013037     -0.013037  0.062261      0.062261      0.062261   \n",
       "\n",
       "   multiplicative_terms  multiplicative_terms_lower  \\\n",
       "0                   0.0                         0.0   \n",
       "1                   0.0                         0.0   \n",
       "2                   0.0                         0.0   \n",
       "3                   0.0                         0.0   \n",
       "4                   0.0                         0.0   \n",
       "\n",
       "   multiplicative_terms_upper       yhat  \n",
       "0                         0.0  70.271295  \n",
       "1                         0.0  70.284529  \n",
       "2                         0.0  70.304930  \n",
       "3                         0.0  70.303522  \n",
       "4                         0.0  70.371363  "
      ]
     },
     "execution_count": 15,
     "metadata": {},
     "output_type": "execute_result"
    }
   ],
   "source": [
    "# Predict using the model\n",
    "\n",
    "test_fcst = model.predict(df=test.reset_index() \\\n",
    "                          .rename(columns={'observation_date':'ds',\n",
    "                                           'DEXINUS':'y'}))\n",
    "\n",
    "test_fcst.head()"
   ]
  },
  {
   "cell_type": "markdown",
   "id": "ed7f1cb8",
   "metadata": {},
   "source": [
    "In the above table ds, as we know, is the time series data. yhat is the prediction, yhat_lower and yhat_upper are the uncertainty levels(it basically means the prediction and actual values can vary within the bounds of the uncertainty levels)"
   ]
  },
  {
   "cell_type": "markdown",
   "id": "8edb8f92",
   "metadata": {},
   "source": [
    "### Calculate MAPE on Test Data"
   ]
  },
  {
   "cell_type": "code",
   "execution_count": 16,
   "id": "47109679",
   "metadata": {
    "ExecuteTime": {
     "end_time": "2021-08-31T14:18:33.227393Z",
     "start_time": "2021-08-31T14:18:33.208980Z"
    }
   },
   "outputs": [
    {
     "data": {
      "text/plain": [
       "1.804402567283352"
      ]
     },
     "execution_count": 16,
     "metadata": {},
     "output_type": "execute_result"
    }
   ],
   "source": [
    "# Custom function to calculate Mean Absolute Percentage Error\n",
    "def mean_absolute_percentage_error(y_true, y_pred): \n",
    "    \"\"\"Calculates MAPE given y_true and y_pred\"\"\"\n",
    "    y_true, y_pred = np.array(y_true), np.array(y_pred)\n",
    "    return np.mean(np.abs((y_true - y_pred) / y_true)) * 100\n",
    "\n",
    "\n",
    "# Calculate the MAPE for the model\n",
    "mean_absolute_percentage_error(y_true=test['y'],y_pred=test_fcst['yhat'])"
   ]
  },
  {
   "cell_type": "markdown",
   "id": "17d9a7cd",
   "metadata": {},
   "source": [
    "### Plot Test Predictions along side the original data"
   ]
  },
  {
   "cell_type": "code",
   "execution_count": 17,
   "id": "e69777f8",
   "metadata": {
    "ExecuteTime": {
     "end_time": "2021-08-31T14:18:33.859122Z",
     "start_time": "2021-08-31T14:18:33.230931Z"
    }
   },
   "outputs": [
    {
     "data": {
      "image/png": "[encoded data removed]",
      "text/plain": [
       "<Figure size 1080x360 with 1 Axes>"
      ]
     },
     "metadata": {
      "needs_background": "light"
     },
     "output_type": "display_data"
    }
   ],
   "source": [
    "# Plot the forecast\n",
    "#prior scale 0.05\n",
    "f, ax = plt.subplots(1)\n",
    "f.set_figheight(5)\n",
    "f.set_figwidth(15)\n",
    "fig = model.plot(test_fcst,\n",
    "                 ax=ax)\n",
    "plt.title('TRAIN along side TEST Predictions',fontdict={'fontsize':28})\n",
    "plt.xlabel('Time/Date',fontdict={'fontsize':16})\n",
    "plt.ylabel('INR per USD',fontdict={'fontsize':16})\n",
    "plt.show()"
   ]
  },
  {
   "cell_type": "markdown",
   "id": "df726fdb",
   "metadata": {},
   "source": [
    "## Prediction on future data with prior scale 0.05"
   ]
  },
  {
   "cell_type": "code",
   "execution_count": 18,
   "id": "c6a1e81d",
   "metadata": {
    "ExecuteTime": {
     "end_time": "2021-08-31T14:18:33.893747Z",
     "start_time": "2021-08-31T14:18:33.863870Z"
    }
   },
   "outputs": [
    {
     "data": {
      "text/html": [
       "<div>\n",
       "<style scoped>\n",
       "    .dataframe tbody tr th:only-of-type {\n",
       "        vertical-align: middle;\n",
       "    }\n",
       "\n",
       "    .dataframe tbody tr th {\n",
       "        vertical-align: top;\n",
       "    }\n",
       "\n",
       "    .dataframe thead th {\n",
       "        text-align: right;\n",
       "    }\n",
       "</style>\n",
       "<table border=\"1\" class=\"dataframe\">\n",
       "  <thead>\n",
       "    <tr style=\"text-align: right;\">\n",
       "      <th></th>\n",
       "      <th>ds</th>\n",
       "      <th>y</th>\n",
       "    </tr>\n",
       "  </thead>\n",
       "  <tbody>\n",
       "    <tr>\n",
       "      <th>0</th>\n",
       "      <td>1990-01-01</td>\n",
       "      <td>16.96</td>\n",
       "    </tr>\n",
       "    <tr>\n",
       "      <th>1</th>\n",
       "      <td>1990-01-02</td>\n",
       "      <td>16.96</td>\n",
       "    </tr>\n",
       "    <tr>\n",
       "      <th>2</th>\n",
       "      <td>1990-01-03</td>\n",
       "      <td>16.99</td>\n",
       "    </tr>\n",
       "    <tr>\n",
       "      <th>3</th>\n",
       "      <td>1990-01-04</td>\n",
       "      <td>16.94</td>\n",
       "    </tr>\n",
       "    <tr>\n",
       "      <th>4</th>\n",
       "      <td>1990-01-05</td>\n",
       "      <td>16.93</td>\n",
       "    </tr>\n",
       "  </tbody>\n",
       "</table>\n",
       "</div>"
      ],
      "text/plain": [
       "          ds      y\n",
       "0 1990-01-01  16.96\n",
       "1 1990-01-02  16.96\n",
       "2 1990-01-03  16.99\n",
       "3 1990-01-04  16.94\n",
       "4 1990-01-05  16.93"
      ]
     },
     "execution_count": 18,
     "metadata": {},
     "output_type": "execute_result"
    }
   ],
   "source": [
    "df=df.reset_index()\n",
    "df.head()"
   ]
  },
  {
   "cell_type": "markdown",
   "id": "934c0497",
   "metadata": {},
   "source": [
    "### Reinitialize the data for future prediction"
   ]
  },
  {
   "cell_type": "code",
   "execution_count": 19,
   "id": "1297e46e",
   "metadata": {
    "ExecuteTime": {
     "end_time": "2021-08-31T14:20:23.536466Z",
     "start_time": "2021-08-31T14:18:33.897138Z"
    }
   },
   "outputs": [
    {
     "name": "stderr",
     "output_type": "stream",
     "text": [
      "INFO:fbprophet:Disabling daily seasonality. Run prophet with daily_seasonality=True to override this.\n"
     ]
    },
    {
     "data": {
      "text/plain": [
       "<fbprophet.forecaster.Prophet at 0x1a5f82cc3a0>"
      ]
     },
     "execution_count": 19,
     "metadata": {},
     "output_type": "execute_result"
    }
   ],
   "source": [
    "\n",
    "model_= Prophet()\n",
    "model_.fit(df)"
   ]
  },
  {
   "cell_type": "markdown",
   "id": "50a5b4c6",
   "metadata": {},
   "source": [
    "### Make future data for next 300 days"
   ]
  },
  {
   "cell_type": "code",
   "execution_count": 20,
   "id": "02425265",
   "metadata": {
    "ExecuteTime": {
     "end_time": "2021-08-31T14:20:23.552248Z",
     "start_time": "2021-08-31T14:20:23.538625Z"
    }
   },
   "outputs": [],
   "source": [
    "future_global=model_.make_future_dataframe(periods=300,freq='D')"
   ]
  },
  {
   "cell_type": "markdown",
   "id": "5878dbed",
   "metadata": {},
   "source": [
    "### Predict for next 300 days"
   ]
  },
  {
   "cell_type": "code",
   "execution_count": 21,
   "id": "20056b99",
   "metadata": {
    "ExecuteTime": {
     "end_time": "2021-08-31T14:20:34.587429Z",
     "start_time": "2021-08-31T14:20:23.554242Z"
    }
   },
   "outputs": [
    {
     "data": {
      "text/html": [
       "<div>\n",
       "<style scoped>\n",
       "    .dataframe tbody tr th:only-of-type {\n",
       "        vertical-align: middle;\n",
       "    }\n",
       "\n",
       "    .dataframe tbody tr th {\n",
       "        vertical-align: top;\n",
       "    }\n",
       "\n",
       "    .dataframe thead th {\n",
       "        text-align: right;\n",
       "    }\n",
       "</style>\n",
       "<table border=\"1\" class=\"dataframe\">\n",
       "  <thead>\n",
       "    <tr style=\"text-align: right;\">\n",
       "      <th></th>\n",
       "      <th>ds</th>\n",
       "      <th>trend</th>\n",
       "      <th>yhat_lower</th>\n",
       "      <th>yhat_upper</th>\n",
       "      <th>trend_lower</th>\n",
       "      <th>trend_upper</th>\n",
       "      <th>additive_terms</th>\n",
       "      <th>additive_terms_lower</th>\n",
       "      <th>additive_terms_upper</th>\n",
       "      <th>weekly</th>\n",
       "      <th>weekly_lower</th>\n",
       "      <th>weekly_upper</th>\n",
       "      <th>yearly</th>\n",
       "      <th>yearly_lower</th>\n",
       "      <th>yearly_upper</th>\n",
       "      <th>multiplicative_terms</th>\n",
       "      <th>multiplicative_terms_lower</th>\n",
       "      <th>multiplicative_terms_upper</th>\n",
       "      <th>yhat</th>\n",
       "    </tr>\n",
       "  </thead>\n",
       "  <tbody>\n",
       "    <tr>\n",
       "      <th>0</th>\n",
       "      <td>1990-01-01</td>\n",
       "      <td>16.635797</td>\n",
       "      <td>14.905866</td>\n",
       "      <td>18.303674</td>\n",
       "      <td>16.635797</td>\n",
       "      <td>16.635797</td>\n",
       "      <td>-0.010131</td>\n",
       "      <td>-0.010131</td>\n",
       "      <td>-0.010131</td>\n",
       "      <td>-0.049998</td>\n",
       "      <td>-0.049998</td>\n",
       "      <td>-0.049998</td>\n",
       "      <td>0.039866</td>\n",
       "      <td>0.039866</td>\n",
       "      <td>0.039866</td>\n",
       "      <td>0.0</td>\n",
       "      <td>0.0</td>\n",
       "      <td>0.0</td>\n",
       "      <td>16.625666</td>\n",
       "    </tr>\n",
       "    <tr>\n",
       "      <th>1</th>\n",
       "      <td>1990-01-02</td>\n",
       "      <td>16.641314</td>\n",
       "      <td>14.991204</td>\n",
       "      <td>18.345644</td>\n",
       "      <td>16.641314</td>\n",
       "      <td>16.641314</td>\n",
       "      <td>-0.008074</td>\n",
       "      <td>-0.008074</td>\n",
       "      <td>-0.008074</td>\n",
       "      <td>-0.040976</td>\n",
       "      <td>-0.040976</td>\n",
       "      <td>-0.040976</td>\n",
       "      <td>0.032902</td>\n",
       "      <td>0.032902</td>\n",
       "      <td>0.032902</td>\n",
       "      <td>0.0</td>\n",
       "      <td>0.0</td>\n",
       "      <td>0.0</td>\n",
       "      <td>16.633240</td>\n",
       "    </tr>\n",
       "    <tr>\n",
       "      <th>2</th>\n",
       "      <td>1990-01-03</td>\n",
       "      <td>16.646830</td>\n",
       "      <td>15.057259</td>\n",
       "      <td>18.380299</td>\n",
       "      <td>16.646830</td>\n",
       "      <td>16.646830</td>\n",
       "      <td>-0.022023</td>\n",
       "      <td>-0.022023</td>\n",
       "      <td>-0.022023</td>\n",
       "      <td>-0.047448</td>\n",
       "      <td>-0.047448</td>\n",
       "      <td>-0.047448</td>\n",
       "      <td>0.025425</td>\n",
       "      <td>0.025425</td>\n",
       "      <td>0.025425</td>\n",
       "      <td>0.0</td>\n",
       "      <td>0.0</td>\n",
       "      <td>0.0</td>\n",
       "      <td>16.624807</td>\n",
       "    </tr>\n",
       "    <tr>\n",
       "      <th>3</th>\n",
       "      <td>1990-01-04</td>\n",
       "      <td>16.652346</td>\n",
       "      <td>15.001700</td>\n",
       "      <td>18.288435</td>\n",
       "      <td>16.652346</td>\n",
       "      <td>16.652346</td>\n",
       "      <td>-0.030136</td>\n",
       "      <td>-0.030136</td>\n",
       "      <td>-0.030136</td>\n",
       "      <td>-0.047561</td>\n",
       "      <td>-0.047561</td>\n",
       "      <td>-0.047561</td>\n",
       "      <td>0.017424</td>\n",
       "      <td>0.017424</td>\n",
       "      <td>0.017424</td>\n",
       "      <td>0.0</td>\n",
       "      <td>0.0</td>\n",
       "      <td>0.0</td>\n",
       "      <td>16.622210</td>\n",
       "    </tr>\n",
       "    <tr>\n",
       "      <th>4</th>\n",
       "      <td>1990-01-05</td>\n",
       "      <td>16.657862</td>\n",
       "      <td>14.973791</td>\n",
       "      <td>18.372496</td>\n",
       "      <td>16.657862</td>\n",
       "      <td>16.657862</td>\n",
       "      <td>-0.057561</td>\n",
       "      <td>-0.057561</td>\n",
       "      <td>-0.057561</td>\n",
       "      <td>-0.066466</td>\n",
       "      <td>-0.066466</td>\n",
       "      <td>-0.066466</td>\n",
       "      <td>0.008905</td>\n",
       "      <td>0.008905</td>\n",
       "      <td>0.008905</td>\n",
       "      <td>0.0</td>\n",
       "      <td>0.0</td>\n",
       "      <td>0.0</td>\n",
       "      <td>16.600301</td>\n",
       "    </tr>\n",
       "    <tr>\n",
       "      <th>...</th>\n",
       "      <td>...</td>\n",
       "      <td>...</td>\n",
       "      <td>...</td>\n",
       "      <td>...</td>\n",
       "      <td>...</td>\n",
       "      <td>...</td>\n",
       "      <td>...</td>\n",
       "      <td>...</td>\n",
       "      <td>...</td>\n",
       "      <td>...</td>\n",
       "      <td>...</td>\n",
       "      <td>...</td>\n",
       "      <td>...</td>\n",
       "      <td>...</td>\n",
       "      <td>...</td>\n",
       "      <td>...</td>\n",
       "      <td>...</td>\n",
       "      <td>...</td>\n",
       "      <td>...</td>\n",
       "    </tr>\n",
       "    <tr>\n",
       "      <th>8510</th>\n",
       "      <td>2022-04-17</td>\n",
       "      <td>75.930044</td>\n",
       "      <td>73.446504</td>\n",
       "      <td>77.955005</td>\n",
       "      <td>74.544168</td>\n",
       "      <td>77.162795</td>\n",
       "      <td>-0.249273</td>\n",
       "      <td>-0.249273</td>\n",
       "      <td>-0.249273</td>\n",
       "      <td>0.126224</td>\n",
       "      <td>0.126224</td>\n",
       "      <td>0.126224</td>\n",
       "      <td>-0.375497</td>\n",
       "      <td>-0.375497</td>\n",
       "      <td>-0.375497</td>\n",
       "      <td>0.0</td>\n",
       "      <td>0.0</td>\n",
       "      <td>0.0</td>\n",
       "      <td>75.680771</td>\n",
       "    </tr>\n",
       "    <tr>\n",
       "      <th>8511</th>\n",
       "      <td>2022-04-18</td>\n",
       "      <td>75.934989</td>\n",
       "      <td>73.192325</td>\n",
       "      <td>77.804501</td>\n",
       "      <td>74.550756</td>\n",
       "      <td>77.174159</td>\n",
       "      <td>-0.422660</td>\n",
       "      <td>-0.422660</td>\n",
       "      <td>-0.422660</td>\n",
       "      <td>-0.049998</td>\n",
       "      <td>-0.049998</td>\n",
       "      <td>-0.049998</td>\n",
       "      <td>-0.372662</td>\n",
       "      <td>-0.372662</td>\n",
       "      <td>-0.372662</td>\n",
       "      <td>0.0</td>\n",
       "      <td>0.0</td>\n",
       "      <td>0.0</td>\n",
       "      <td>75.512329</td>\n",
       "    </tr>\n",
       "    <tr>\n",
       "      <th>8512</th>\n",
       "      <td>2022-04-19</td>\n",
       "      <td>75.939934</td>\n",
       "      <td>73.025076</td>\n",
       "      <td>77.956647</td>\n",
       "      <td>74.544665</td>\n",
       "      <td>77.185449</td>\n",
       "      <td>-0.411163</td>\n",
       "      <td>-0.411163</td>\n",
       "      <td>-0.411163</td>\n",
       "      <td>-0.040976</td>\n",
       "      <td>-0.040976</td>\n",
       "      <td>-0.040976</td>\n",
       "      <td>-0.370187</td>\n",
       "      <td>-0.370187</td>\n",
       "      <td>-0.370187</td>\n",
       "      <td>0.0</td>\n",
       "      <td>0.0</td>\n",
       "      <td>0.0</td>\n",
       "      <td>75.528771</td>\n",
       "    </tr>\n",
       "    <tr>\n",
       "      <th>8513</th>\n",
       "      <td>2022-04-20</td>\n",
       "      <td>75.944879</td>\n",
       "      <td>73.240729</td>\n",
       "      <td>77.822215</td>\n",
       "      <td>74.541217</td>\n",
       "      <td>77.196596</td>\n",
       "      <td>-0.415551</td>\n",
       "      <td>-0.415551</td>\n",
       "      <td>-0.415551</td>\n",
       "      <td>-0.047448</td>\n",
       "      <td>-0.047448</td>\n",
       "      <td>-0.047448</td>\n",
       "      <td>-0.368103</td>\n",
       "      <td>-0.368103</td>\n",
       "      <td>-0.368103</td>\n",
       "      <td>0.0</td>\n",
       "      <td>0.0</td>\n",
       "      <td>0.0</td>\n",
       "      <td>75.529328</td>\n",
       "    </tr>\n",
       "    <tr>\n",
       "      <th>8514</th>\n",
       "      <td>2022-04-21</td>\n",
       "      <td>75.949824</td>\n",
       "      <td>73.237957</td>\n",
       "      <td>77.747884</td>\n",
       "      <td>74.531441</td>\n",
       "      <td>77.207742</td>\n",
       "      <td>-0.413983</td>\n",
       "      <td>-0.413983</td>\n",
       "      <td>-0.413983</td>\n",
       "      <td>-0.047561</td>\n",
       "      <td>-0.047561</td>\n",
       "      <td>-0.047561</td>\n",
       "      <td>-0.366422</td>\n",
       "      <td>-0.366422</td>\n",
       "      <td>-0.366422</td>\n",
       "      <td>0.0</td>\n",
       "      <td>0.0</td>\n",
       "      <td>0.0</td>\n",
       "      <td>75.535841</td>\n",
       "    </tr>\n",
       "  </tbody>\n",
       "</table>\n",
       "<p>8515 rows × 19 columns</p>\n",
       "</div>"
      ],
      "text/plain": [
       "             ds      trend  yhat_lower  yhat_upper  trend_lower  trend_upper  \\\n",
       "0    1990-01-01  16.635797   14.905866   18.303674    16.635797    16.635797   \n",
       "1    1990-01-02  16.641314   14.991204   18.345644    16.641314    16.641314   \n",
       "2    1990-01-03  16.646830   15.057259   18.380299    16.646830    16.646830   \n",
       "3    1990-01-04  16.652346   15.001700   18.288435    16.652346    16.652346   \n",
       "4    1990-01-05  16.657862   14.973791   18.372496    16.657862    16.657862   \n",
       "...         ...        ...         ...         ...          ...          ...   \n",
       "8510 2022-04-17  75.930044   73.446504   77.955005    74.544168    77.162795   \n",
       "8511 2022-04-18  75.934989   73.192325   77.804501    74.550756    77.174159   \n",
       "8512 2022-04-19  75.939934   73.025076   77.956647    74.544665    77.185449   \n",
       "8513 2022-04-20  75.944879   73.240729   77.822215    74.541217    77.196596   \n",
       "8514 2022-04-21  75.949824   73.237957   77.747884    74.531441    77.207742   \n",
       "\n",
       "      additive_terms  additive_terms_lower  additive_terms_upper    weekly  \\\n",
       "0          -0.010131             -0.010131             -0.010131 -0.049998   \n",
       "1          -0.008074             -0.008074             -0.008074 -0.040976   \n",
       "2          -0.022023             -0.022023             -0.022023 -0.047448   \n",
       "3          -0.030136             -0.030136             -0.030136 -0.047561   \n",
       "4          -0.057561             -0.057561             -0.057561 -0.066466   \n",
       "...              ...                   ...                   ...       ...   \n",
       "8510       -0.249273             -0.249273             -0.249273  0.126224   \n",
       "8511       -0.422660             -0.422660             -0.422660 -0.049998   \n",
       "8512       -0.411163             -0.411163             -0.411163 -0.040976   \n",
       "8513       -0.415551             -0.415551             -0.415551 -0.047448   \n",
       "8514       -0.413983             -0.413983             -0.413983 -0.047561   \n",
       "\n",
       "      weekly_lower  weekly_upper    yearly  yearly_lower  yearly_upper  \\\n",
       "0        -0.049998     -0.049998  0.039866      0.039866      0.039866   \n",
       "1        -0.040976     -0.040976  0.032902      0.032902      0.032902   \n",
       "2        -0.047448     -0.047448  0.025425      0.025425      0.025425   \n",
       "3        -0.047561     -0.047561  0.017424      0.017424      0.017424   \n",
       "4        -0.066466     -0.066466  0.008905      0.008905      0.008905   \n",
       "...            ...           ...       ...           ...           ...   \n",
       "8510      0.126224      0.126224 -0.375497     -0.375497     -0.375497   \n",
       "8511     -0.049998     -0.049998 -0.372662     -0.372662     -0.372662   \n",
       "8512     -0.040976     -0.040976 -0.370187     -0.370187     -0.370187   \n",
       "8513     -0.047448     -0.047448 -0.368103     -0.368103     -0.368103   \n",
       "8514     -0.047561     -0.047561 -0.366422     -0.366422     -0.366422   \n",
       "\n",
       "      multiplicative_terms  multiplicative_terms_lower  \\\n",
       "0                      0.0                         0.0   \n",
       "1                      0.0                         0.0   \n",
       "2                      0.0                         0.0   \n",
       "3                      0.0                         0.0   \n",
       "4                      0.0                         0.0   \n",
       "...                    ...                         ...   \n",
       "8510                   0.0                         0.0   \n",
       "8511                   0.0                         0.0   \n",
       "8512                   0.0                         0.0   \n",
       "8513                   0.0                         0.0   \n",
       "8514                   0.0                         0.0   \n",
       "\n",
       "      multiplicative_terms_upper       yhat  \n",
       "0                            0.0  16.625666  \n",
       "1                            0.0  16.633240  \n",
       "2                            0.0  16.624807  \n",
       "3                            0.0  16.622210  \n",
       "4                            0.0  16.600301  \n",
       "...                          ...        ...  \n",
       "8510                         0.0  75.680771  \n",
       "8511                         0.0  75.512329  \n",
       "8512                         0.0  75.528771  \n",
       "8513                         0.0  75.529328  \n",
       "8514                         0.0  75.535841  \n",
       "\n",
       "[8515 rows x 19 columns]"
      ]
     },
     "execution_count": 21,
     "metadata": {},
     "output_type": "execute_result"
    }
   ],
   "source": [
    "prediction=model_.predict(future_global)\n",
    "prediction"
   ]
  },
  {
   "cell_type": "code",
   "execution_count": 22,
   "id": "a93f8621",
   "metadata": {
    "ExecuteTime": {
     "end_time": "2021-08-31T14:20:34.621268Z",
     "start_time": "2021-08-31T14:20:34.591180Z"
    },
    "scrolled": false
   },
   "outputs": [
    {
     "data": {
      "text/html": [
       "<div>\n",
       "<style scoped>\n",
       "    .dataframe tbody tr th:only-of-type {\n",
       "        vertical-align: middle;\n",
       "    }\n",
       "\n",
       "    .dataframe tbody tr th {\n",
       "        vertical-align: top;\n",
       "    }\n",
       "\n",
       "    .dataframe thead th {\n",
       "        text-align: right;\n",
       "    }\n",
       "</style>\n",
       "<table border=\"1\" class=\"dataframe\">\n",
       "  <thead>\n",
       "    <tr style=\"text-align: right;\">\n",
       "      <th></th>\n",
       "      <th>ds</th>\n",
       "      <th>yhat</th>\n",
       "      <th>yhat_lower</th>\n",
       "      <th>yhat_upper</th>\n",
       "    </tr>\n",
       "  </thead>\n",
       "  <tbody>\n",
       "    <tr>\n",
       "      <th>8510</th>\n",
       "      <td>2022-04-17</td>\n",
       "      <td>75.680771</td>\n",
       "      <td>73.446504</td>\n",
       "      <td>77.955005</td>\n",
       "    </tr>\n",
       "    <tr>\n",
       "      <th>8511</th>\n",
       "      <td>2022-04-18</td>\n",
       "      <td>75.512329</td>\n",
       "      <td>73.192325</td>\n",
       "      <td>77.804501</td>\n",
       "    </tr>\n",
       "    <tr>\n",
       "      <th>8512</th>\n",
       "      <td>2022-04-19</td>\n",
       "      <td>75.528771</td>\n",
       "      <td>73.025076</td>\n",
       "      <td>77.956647</td>\n",
       "    </tr>\n",
       "    <tr>\n",
       "      <th>8513</th>\n",
       "      <td>2022-04-20</td>\n",
       "      <td>75.529328</td>\n",
       "      <td>73.240729</td>\n",
       "      <td>77.822215</td>\n",
       "    </tr>\n",
       "    <tr>\n",
       "      <th>8514</th>\n",
       "      <td>2022-04-21</td>\n",
       "      <td>75.535841</td>\n",
       "      <td>73.237957</td>\n",
       "      <td>77.747884</td>\n",
       "    </tr>\n",
       "  </tbody>\n",
       "</table>\n",
       "</div>"
      ],
      "text/plain": [
       "             ds       yhat  yhat_lower  yhat_upper\n",
       "8510 2022-04-17  75.680771   73.446504   77.955005\n",
       "8511 2022-04-18  75.512329   73.192325   77.804501\n",
       "8512 2022-04-19  75.528771   73.025076   77.956647\n",
       "8513 2022-04-20  75.529328   73.240729   77.822215\n",
       "8514 2022-04-21  75.535841   73.237957   77.747884"
      ]
     },
     "execution_count": 22,
     "metadata": {},
     "output_type": "execute_result"
    }
   ],
   "source": [
    "prediction[['ds','yhat','yhat_lower','yhat_upper']].tail()"
   ]
  },
  {
   "cell_type": "markdown",
   "id": "c80546c9",
   "metadata": {},
   "source": [
    "### Plotting predictions along side the original data"
   ]
  },
  {
   "cell_type": "code",
   "execution_count": 23,
   "id": "46251871",
   "metadata": {
    "ExecuteTime": {
     "end_time": "2021-08-31T14:20:35.551805Z",
     "start_time": "2021-08-31T14:20:34.628400Z"
    }
   },
   "outputs": [
    {
     "data": {
      "image/png": "[encoded data removed]",
      "text/plain": [
       "<Figure size 720x432 with 1 Axes>"
      ]
     },
     "metadata": {},
     "output_type": "display_data"
    }
   ],
   "source": [
    "fig=model.plot(prediction)\n",
    "a=add_changepoints_to_plot(fig.gca(),model_,prediction)\n",
    "plt.title('Pridictions along side the original data', {'fontsize': 28,\n",
    "          'fontweight': 4,\n",
    "          'color': 'blue', \n",
    "          'verticalalignment' : 'center_baseline'},\n",
    "           pad=.9)\n",
    "plt.xlabel('Time/Date',fontdict={'fontsize':16})\n",
    "plt.ylabel('INR per USD',fontdict={'fontsize':16})\n",
    "plt.show()"
   ]
  },
  {
   "cell_type": "code",
   "execution_count": 24,
   "id": "3459cbf9",
   "metadata": {
    "ExecuteTime": {
     "end_time": "2021-08-31T14:20:35.569943Z",
     "start_time": "2021-08-31T14:20:35.557225Z"
    }
   },
   "outputs": [
    {
     "data": {
      "text/plain": [
       "263    1991-01-03\n",
       "526    1992-01-07\n",
       "789    1993-01-08\n",
       "1051   1994-01-11\n",
       "1314   1995-01-13\n",
       "1577   1996-01-17\n",
       "1840   1997-01-20\n",
       "2103   1998-01-22\n",
       "2366   1999-01-26\n",
       "2628   2000-01-27\n",
       "2891   2001-01-30\n",
       "3154   2002-02-01\n",
       "3417   2003-02-05\n",
       "3680   2004-02-09\n",
       "3943   2005-02-10\n",
       "4205   2006-02-13\n",
       "4468   2007-02-15\n",
       "4731   2008-02-19\n",
       "4994   2009-02-20\n",
       "5257   2010-02-24\n",
       "5520   2011-02-28\n",
       "5782   2012-02-29\n",
       "6045   2013-03-04\n",
       "6308   2014-03-06\n",
       "6571   2015-03-10\n",
       "Name: ds, dtype: datetime64[ns]"
      ]
     },
     "execution_count": 24,
     "metadata": {},
     "output_type": "execute_result"
    }
   ],
   "source": [
    "model_.changepoints"
   ]
  },
  {
   "cell_type": "markdown",
   "id": "1ca09d4f",
   "metadata": {},
   "source": [
    "## Plotting prediction vs actuals "
   ]
  },
  {
   "cell_type": "code",
   "execution_count": 25,
   "id": "cb9aa5a7",
   "metadata": {
    "ExecuteTime": {
     "end_time": "2021-08-31T14:20:36.376221Z",
     "start_time": "2021-08-31T14:20:35.573499Z"
    }
   },
   "outputs": [
    {
     "data": {
      "image/png": "[encoded data removed]",
      "text/plain": [
       "<Figure size 1152x288 with 1 Axes>"
      ]
     },
     "metadata": {
      "needs_background": "light"
     },
     "output_type": "display_data"
    }
   ],
   "source": [
    "# Plot the forecast\n",
    "#prior scale 0.05\n",
    "f, ax = plt.subplots(1)\n",
    "f.set_figheight(4)\n",
    "f.set_figwidth(16)\n",
    "fig = model_.plot(prediction,\n",
    "                 ax=ax)\n",
    "plt.title('Prediction along side Actuals',fontdict={'fontsize': 28})\n",
    "plt.xlabel('Time/Date',fontdict={'fontsize':16})\n",
    "plt.ylabel('INR per USD',fontdict={'fontsize':16})\n",
    "plt.show()"
   ]
  },
  {
   "cell_type": "markdown",
   "id": "8d859e41",
   "metadata": {},
   "source": [
    "The light blue is the uncertainty level(yhat_upper and yhat_lower), the dark blue is the prediction(yhat) and the black dots are the original data. We can see that the predicted data is very close to the actual data. In the last 30 daya, there is no “actual” data, but looking at the performance of our model in years where data is available it is safe to say that the predictions are close to accurate."
   ]
  },
  {
   "cell_type": "markdown",
   "id": "33fbef75",
   "metadata": {},
   "source": [
    "### Plot components of FBPROPHET model"
   ]
  },
  {
   "cell_type": "code",
   "execution_count": 26,
   "id": "931a7fcb",
   "metadata": {
    "ExecuteTime": {
     "end_time": "2021-08-31T14:20:37.608123Z",
     "start_time": "2021-08-31T14:20:36.378408Z"
    }
   },
   "outputs": [
    {
     "data": {
      "image/png": "[encoded data removed]",
      "text/plain": [
       "<Figure size 648x648 with 3 Axes>"
      ]
     },
     "metadata": {},
     "output_type": "display_data"
    }
   ],
   "source": [
    "# Plot the components of the model\n",
    "fig = model_.plot_components(prediction)"
   ]
  },
  {
   "cell_type": "code",
   "execution_count": 27,
   "id": "f6b77373",
   "metadata": {
    "ExecuteTime": {
     "end_time": "2021-08-31T14:20:37.636911Z",
     "start_time": "2021-08-31T14:20:37.610492Z"
    }
   },
   "outputs": [
    {
     "data": {
      "text/html": [
       "<div>\n",
       "<style scoped>\n",
       "    .dataframe tbody tr th:only-of-type {\n",
       "        vertical-align: middle;\n",
       "    }\n",
       "\n",
       "    .dataframe tbody tr th {\n",
       "        vertical-align: top;\n",
       "    }\n",
       "\n",
       "    .dataframe thead th {\n",
       "        text-align: right;\n",
       "    }\n",
       "</style>\n",
       "<table border=\"1\" class=\"dataframe\">\n",
       "  <thead>\n",
       "    <tr style=\"text-align: right;\">\n",
       "      <th></th>\n",
       "      <th>ds</th>\n",
       "      <th>yhat</th>\n",
       "      <th>y</th>\n",
       "    </tr>\n",
       "  </thead>\n",
       "  <tbody>\n",
       "    <tr>\n",
       "      <th>8510</th>\n",
       "      <td>2022-04-17</td>\n",
       "      <td>75.680771</td>\n",
       "      <td>NaN</td>\n",
       "    </tr>\n",
       "    <tr>\n",
       "      <th>8511</th>\n",
       "      <td>2022-04-18</td>\n",
       "      <td>75.512329</td>\n",
       "      <td>NaN</td>\n",
       "    </tr>\n",
       "    <tr>\n",
       "      <th>8512</th>\n",
       "      <td>2022-04-19</td>\n",
       "      <td>75.528771</td>\n",
       "      <td>NaN</td>\n",
       "    </tr>\n",
       "    <tr>\n",
       "      <th>8513</th>\n",
       "      <td>2022-04-20</td>\n",
       "      <td>75.529328</td>\n",
       "      <td>NaN</td>\n",
       "    </tr>\n",
       "    <tr>\n",
       "      <th>8514</th>\n",
       "      <td>2022-04-21</td>\n",
       "      <td>75.535841</td>\n",
       "      <td>NaN</td>\n",
       "    </tr>\n",
       "  </tbody>\n",
       "</table>\n",
       "</div>"
      ],
      "text/plain": [
       "             ds       yhat   y\n",
       "8510 2022-04-17  75.680771 NaN\n",
       "8511 2022-04-18  75.512329 NaN\n",
       "8512 2022-04-19  75.528771 NaN\n",
       "8513 2022-04-20  75.529328 NaN\n",
       "8514 2022-04-21  75.535841 NaN"
      ]
     },
     "execution_count": 27,
     "metadata": {},
     "output_type": "execute_result"
    }
   ],
   "source": [
    "metric_df = prediction.set_index('ds')[['yhat']].join(df.set_index('ds').y).reset_index()\n",
    "metric_df.tail()"
   ]
  },
  {
   "cell_type": "code",
   "execution_count": 28,
   "id": "da962b67",
   "metadata": {
    "ExecuteTime": {
     "end_time": "2021-08-31T14:20:37.711232Z",
     "start_time": "2021-08-31T14:20:37.637910Z"
    }
   },
   "outputs": [],
   "source": [
    "metric_df.dropna(inplace=True)"
   ]
  },
  {
   "cell_type": "code",
   "execution_count": 29,
   "id": "d2e0e8ab",
   "metadata": {
    "ExecuteTime": {
     "end_time": "2021-08-31T14:20:37.747724Z",
     "start_time": "2021-08-31T14:20:37.714236Z"
    }
   },
   "outputs": [
    {
     "data": {
      "text/plain": [
       "2.015558806602295"
      ]
     },
     "execution_count": 29,
     "metadata": {},
     "output_type": "execute_result"
    }
   ],
   "source": [
    "mean_absolute_percentage_error(y_true=metric_df['y'],y_pred=metric_df['yhat'])"
   ]
  },
  {
   "cell_type": "markdown",
   "id": "21d4d922",
   "metadata": {},
   "source": [
    "# HyperParameter Tuning using ParameterGrid"
   ]
  },
  {
   "cell_type": "markdown",
   "id": "188310cf",
   "metadata": {},
   "source": [
    "* `n_changepoints`- is the number of change happen in the data. Prophet model detects them by its own. By default, its value is 25, which are uniformly placed in the first 80% of the time series.\n",
    "\n",
    "* `changepoint_prior_scale` - to indicate how flexible the changepoints are allowed to be. In other words, how much can the changepoints fit to the data. If you make it high it will be more flexible, but you can end up overfitting. By default, this parameter is set to 0.05"
   ]
  },
  {
   "cell_type": "markdown",
   "id": "d872c151",
   "metadata": {
    "ExecuteTime": {
     "end_time": "2021-08-31T12:11:34.173439Z",
     "start_time": "2021-08-31T12:11:34.158688Z"
    }
   },
   "source": [
    "### Defining the parameter grid"
   ]
  },
  {
   "cell_type": "code",
   "execution_count": 30,
   "id": "15c496f0",
   "metadata": {
    "ExecuteTime": {
     "end_time": "2021-08-31T14:20:37.790907Z",
     "start_time": "2021-08-31T14:20:37.752940Z"
    }
   },
   "outputs": [
    {
     "name": "stdout",
     "output_type": "stream",
     "text": [
      "Total Possible Models 20\n"
     ]
    }
   ],
   "source": [
    "from sklearn.model_selection import ParameterGrid\n",
    "params_grid = {'changepoint_prior_scale':[0.05,0.095,0.1,0.2],'n_changepoints' : [30,35,40,45,50]}\n",
    "grid = ParameterGrid(params_grid)\n",
    "cnt = 0\n",
    "for p in grid:\n",
    "    cnt = cnt+1\n",
    "\n",
    "print('Total Possible Models',cnt)"
   ]
  },
  {
   "cell_type": "markdown",
   "id": "1fe92195",
   "metadata": {},
   "source": [
    "## Prophet Model Tuning"
   ]
  },
  {
   "cell_type": "code",
   "execution_count": 31,
   "id": "1d195557",
   "metadata": {
    "ExecuteTime": {
     "end_time": "2021-08-31T14:20:37.817635Z",
     "start_time": "2021-08-31T14:20:37.792904Z"
    },
    "scrolled": true
   },
   "outputs": [
    {
     "data": {
      "text/html": [
       "<div>\n",
       "<style scoped>\n",
       "    .dataframe tbody tr th:only-of-type {\n",
       "        vertical-align: middle;\n",
       "    }\n",
       "\n",
       "    .dataframe tbody tr th {\n",
       "        vertical-align: top;\n",
       "    }\n",
       "\n",
       "    .dataframe thead th {\n",
       "        text-align: right;\n",
       "    }\n",
       "</style>\n",
       "<table border=\"1\" class=\"dataframe\">\n",
       "  <thead>\n",
       "    <tr style=\"text-align: right;\">\n",
       "      <th></th>\n",
       "      <th>ds</th>\n",
       "      <th>y</th>\n",
       "    </tr>\n",
       "  </thead>\n",
       "  <tbody>\n",
       "    <tr>\n",
       "      <th>0</th>\n",
       "      <td>1990-01-01</td>\n",
       "      <td>16.96</td>\n",
       "    </tr>\n",
       "    <tr>\n",
       "      <th>1</th>\n",
       "      <td>1990-01-02</td>\n",
       "      <td>16.96</td>\n",
       "    </tr>\n",
       "    <tr>\n",
       "      <th>2</th>\n",
       "      <td>1990-01-03</td>\n",
       "      <td>16.99</td>\n",
       "    </tr>\n",
       "    <tr>\n",
       "      <th>3</th>\n",
       "      <td>1990-01-04</td>\n",
       "      <td>16.94</td>\n",
       "    </tr>\n",
       "    <tr>\n",
       "      <th>4</th>\n",
       "      <td>1990-01-05</td>\n",
       "      <td>16.93</td>\n",
       "    </tr>\n",
       "  </tbody>\n",
       "</table>\n",
       "</div>"
      ],
      "text/plain": [
       "          ds      y\n",
       "0 1990-01-01  16.96\n",
       "1 1990-01-02  16.96\n",
       "2 1990-01-03  16.99\n",
       "3 1990-01-04  16.94\n",
       "4 1990-01-05  16.93"
      ]
     },
     "execution_count": 31,
     "metadata": {},
     "output_type": "execute_result"
    }
   ],
   "source": [
    "df=df.reset_index(drop=True)\n",
    "df.head()"
   ]
  },
  {
   "cell_type": "code",
   "execution_count": 32,
   "id": "873ed69a",
   "metadata": {
    "ExecuteTime": {
     "end_time": "2021-08-31T14:20:37.855695Z",
     "start_time": "2021-08-31T14:20:37.820193Z"
    }
   },
   "outputs": [],
   "source": [
    "train=train.reset_index(drop=True)"
   ]
  },
  {
   "cell_type": "code",
   "execution_count": 33,
   "id": "1a5dfca8",
   "metadata": {
    "ExecuteTime": {
     "end_time": "2021-08-31T14:59:51.274274Z",
     "start_time": "2021-08-31T14:20:37.858112Z"
    }
   },
   "outputs": [
    {
     "name": "stdout",
     "output_type": "stream",
     "text": [
      "{'changepoint_prior_scale': 0.05, 'n_changepoints': 30}\n"
     ]
    },
    {
     "name": "stderr",
     "output_type": "stream",
     "text": [
      "INFO:fbprophet:Disabling daily seasonality. Run prophet with daily_seasonality=True to override this.\n",
      "INFO:fbprophet:Disabling daily seasonality. Run prophet with daily_seasonality=True to override this.\n"
     ]
    },
    {
     "name": "stdout",
     "output_type": "stream",
     "text": [
      "Mean Absolute Percentage Error(MAPE)------------------------------------ 1.9631522715421492\n",
      "{'changepoint_prior_scale': 0.05, 'n_changepoints': 35}\n"
     ]
    },
    {
     "name": "stderr",
     "output_type": "stream",
     "text": [
      "INFO:fbprophet:Disabling daily seasonality. Run prophet with daily_seasonality=True to override this.\n"
     ]
    },
    {
     "name": "stdout",
     "output_type": "stream",
     "text": [
      "Mean Absolute Percentage Error(MAPE)------------------------------------ 1.834441809088236\n",
      "{'changepoint_prior_scale': 0.05, 'n_changepoints': 40}\n"
     ]
    },
    {
     "name": "stderr",
     "output_type": "stream",
     "text": [
      "INFO:fbprophet:Disabling daily seasonality. Run prophet with daily_seasonality=True to override this.\n"
     ]
    },
    {
     "name": "stdout",
     "output_type": "stream",
     "text": [
      "Mean Absolute Percentage Error(MAPE)------------------------------------ 1.765027563306919\n",
      "{'changepoint_prior_scale': 0.05, 'n_changepoints': 45}\n"
     ]
    },
    {
     "name": "stderr",
     "output_type": "stream",
     "text": [
      "INFO:fbprophet:Disabling daily seasonality. Run prophet with daily_seasonality=True to override this.\n"
     ]
    },
    {
     "name": "stdout",
     "output_type": "stream",
     "text": [
      "Mean Absolute Percentage Error(MAPE)------------------------------------ 1.7374081504198648\n",
      "{'changepoint_prior_scale': 0.05, 'n_changepoints': 50}\n"
     ]
    },
    {
     "name": "stderr",
     "output_type": "stream",
     "text": [
      "INFO:fbprophet:Disabling daily seasonality. Run prophet with daily_seasonality=True to override this.\n"
     ]
    },
    {
     "name": "stdout",
     "output_type": "stream",
     "text": [
      "Mean Absolute Percentage Error(MAPE)------------------------------------ 1.7062186961283503\n",
      "{'changepoint_prior_scale': 0.095, 'n_changepoints': 30}\n"
     ]
    },
    {
     "name": "stderr",
     "output_type": "stream",
     "text": [
      "INFO:fbprophet:Disabling daily seasonality. Run prophet with daily_seasonality=True to override this.\n"
     ]
    },
    {
     "name": "stdout",
     "output_type": "stream",
     "text": [
      "Mean Absolute Percentage Error(MAPE)------------------------------------ 1.9002451334399686\n",
      "{'changepoint_prior_scale': 0.095, 'n_changepoints': 35}\n"
     ]
    },
    {
     "name": "stderr",
     "output_type": "stream",
     "text": [
      "INFO:fbprophet:Disabling daily seasonality. Run prophet with daily_seasonality=True to override this.\n"
     ]
    },
    {
     "name": "stdout",
     "output_type": "stream",
     "text": [
      "Mean Absolute Percentage Error(MAPE)------------------------------------ 1.7731305829080526\n",
      "{'changepoint_prior_scale': 0.095, 'n_changepoints': 40}\n"
     ]
    },
    {
     "name": "stderr",
     "output_type": "stream",
     "text": [
      "INFO:fbprophet:Disabling daily seasonality. Run prophet with daily_seasonality=True to override this.\n"
     ]
    },
    {
     "name": "stdout",
     "output_type": "stream",
     "text": [
      "Mean Absolute Percentage Error(MAPE)------------------------------------ 1.666817286375843\n",
      "{'changepoint_prior_scale': 0.095, 'n_changepoints': 45}\n",
      "Mean Absolute Percentage Error(MAPE)------------------------------------ 1.605679282394\n",
      "{'changepoint_prior_scale': 0.095, 'n_changepoints': 50}\n"
     ]
    },
    {
     "name": "stderr",
     "output_type": "stream",
     "text": [
      "INFO:fbprophet:Disabling daily seasonality. Run prophet with daily_seasonality=True to override this.\n",
      "INFO:fbprophet:Disabling daily seasonality. Run prophet with daily_seasonality=True to override this.\n"
     ]
    },
    {
     "name": "stdout",
     "output_type": "stream",
     "text": [
      "Mean Absolute Percentage Error(MAPE)------------------------------------ 1.5503535342012238\n",
      "{'changepoint_prior_scale': 0.1, 'n_changepoints': 30}\n",
      "Mean Absolute Percentage Error(MAPE)------------------------------------ 1.8968531830980753\n",
      "{'changepoint_prior_scale': 0.1, 'n_changepoints': 35}\n"
     ]
    },
    {
     "name": "stderr",
     "output_type": "stream",
     "text": [
      "INFO:fbprophet:Disabling daily seasonality. Run prophet with daily_seasonality=True to override this.\n"
     ]
    },
    {
     "name": "stdout",
     "output_type": "stream",
     "text": [
      "Mean Absolute Percentage Error(MAPE)------------------------------------ 1.7712802845609925\n",
      "{'changepoint_prior_scale': 0.1, 'n_changepoints': 40}\n"
     ]
    },
    {
     "name": "stderr",
     "output_type": "stream",
     "text": [
      "INFO:fbprophet:Disabling daily seasonality. Run prophet with daily_seasonality=True to override this.\n"
     ]
    },
    {
     "name": "stdout",
     "output_type": "stream",
     "text": [
      "Mean Absolute Percentage Error(MAPE)------------------------------------ 1.663020676375477\n",
      "{'changepoint_prior_scale': 0.1, 'n_changepoints': 45}\n"
     ]
    },
    {
     "name": "stderr",
     "output_type": "stream",
     "text": [
      "INFO:fbprophet:Disabling daily seasonality. Run prophet with daily_seasonality=True to override this.\n"
     ]
    },
    {
     "name": "stdout",
     "output_type": "stream",
     "text": [
      "Mean Absolute Percentage Error(MAPE)------------------------------------ 1.6014114197204294\n",
      "{'changepoint_prior_scale': 0.1, 'n_changepoints': 50}\n"
     ]
    },
    {
     "name": "stderr",
     "output_type": "stream",
     "text": [
      "INFO:fbprophet:Disabling daily seasonality. Run prophet with daily_seasonality=True to override this.\n"
     ]
    },
    {
     "name": "stdout",
     "output_type": "stream",
     "text": [
      "Mean Absolute Percentage Error(MAPE)------------------------------------ 1.5374502548319378\n",
      "{'changepoint_prior_scale': 0.2, 'n_changepoints': 30}\n"
     ]
    },
    {
     "name": "stderr",
     "output_type": "stream",
     "text": [
      "INFO:fbprophet:Disabling daily seasonality. Run prophet with daily_seasonality=True to override this.\n",
      "INFO:fbprophet:Disabling daily seasonality. Run prophet with daily_seasonality=True to override this.\n"
     ]
    },
    {
     "name": "stdout",
     "output_type": "stream",
     "text": [
      "Mean Absolute Percentage Error(MAPE)------------------------------------ 1.886808943314179\n",
      "{'changepoint_prior_scale': 0.2, 'n_changepoints': 35}\n"
     ]
    },
    {
     "name": "stderr",
     "output_type": "stream",
     "text": [
      "INFO:fbprophet:Disabling daily seasonality. Run prophet with daily_seasonality=True to override this.\n"
     ]
    },
    {
     "name": "stdout",
     "output_type": "stream",
     "text": [
      "Mean Absolute Percentage Error(MAPE)------------------------------------ 1.7476377865189585\n",
      "{'changepoint_prior_scale': 0.2, 'n_changepoints': 40}\n"
     ]
    },
    {
     "name": "stderr",
     "output_type": "stream",
     "text": [
      "INFO:fbprophet:Disabling daily seasonality. Run prophet with daily_seasonality=True to override this.\n"
     ]
    },
    {
     "name": "stdout",
     "output_type": "stream",
     "text": [
      "Mean Absolute Percentage Error(MAPE)------------------------------------ 1.6369770355507456\n",
      "{'changepoint_prior_scale': 0.2, 'n_changepoints': 45}\n"
     ]
    },
    {
     "name": "stderr",
     "output_type": "stream",
     "text": [
      "INFO:fbprophet:Disabling daily seasonality. Run prophet with daily_seasonality=True to override this.\n"
     ]
    },
    {
     "name": "stdout",
     "output_type": "stream",
     "text": [
      "Mean Absolute Percentage Error(MAPE)------------------------------------ 1.5606724880642588\n",
      "{'changepoint_prior_scale': 0.2, 'n_changepoints': 50}\n",
      "Mean Absolute Percentage Error(MAPE)------------------------------------ 1.4999304686866908\n"
     ]
    }
   ],
   "source": [
    "strt='2019-01-01'\n",
    "end='2021-06-25'\n",
    "model_parameters = pd.DataFrame(columns = ['MAPE','Parameters'])\n",
    "for p in grid:\n",
    "    test = pd.DataFrame()\n",
    "    print(p)\n",
    "    random.seed(0)\n",
    "    model=Prophet(changepoint_prior_scale = p['changepoint_prior_scale'],\n",
    "                         n_changepoints = p['n_changepoints'],interval_width=0.95)\n",
    "    model.fit(df)\n",
    "    future_global=model.make_future_dataframe(periods=30,freq='D')\n",
    "    prediction1=model.predict(future_global)\n",
    "    prediction1[['ds','yhat','yhat_lower','yhat_upper']].tail()\n",
    "    metric_df1 = prediction1.set_index('ds')[['yhat']].join(df.set_index('ds').y).reset_index()\n",
    "    metric_df1.tail()\n",
    "    metric_df1.dropna(inplace=True)\n",
    "   \n",
    "    MAPE=mean_absolute_percentage_error(y_true=metric_df1['y'],y_pred=metric_df1['yhat'])\n",
    "    print('Mean Absolute Percentage Error(MAPE)------------------------------------',MAPE)\n",
    "    model_parameters = model_parameters.append({'MAPE':MAPE,'Parameters':p},ignore_index=True)"
   ]
  },
  {
   "cell_type": "markdown",
   "id": "2d57d4fa",
   "metadata": {},
   "source": [
    "### Sorting the models based on MAPE"
   ]
  },
  {
   "cell_type": "code",
   "execution_count": 34,
   "id": "349690d1",
   "metadata": {
    "ExecuteTime": {
     "end_time": "2021-08-31T14:59:51.289432Z",
     "start_time": "2021-08-31T14:59:51.276272Z"
    }
   },
   "outputs": [
    {
     "data": {
      "text/html": [
       "<div>\n",
       "<style scoped>\n",
       "    .dataframe tbody tr th:only-of-type {\n",
       "        vertical-align: middle;\n",
       "    }\n",
       "\n",
       "    .dataframe tbody tr th {\n",
       "        vertical-align: top;\n",
       "    }\n",
       "\n",
       "    .dataframe thead th {\n",
       "        text-align: right;\n",
       "    }\n",
       "</style>\n",
       "<table border=\"1\" class=\"dataframe\">\n",
       "  <thead>\n",
       "    <tr style=\"text-align: right;\">\n",
       "      <th></th>\n",
       "      <th>MAPE</th>\n",
       "      <th>Parameters</th>\n",
       "    </tr>\n",
       "  </thead>\n",
       "  <tbody>\n",
       "    <tr>\n",
       "      <th>0</th>\n",
       "      <td>1.499930</td>\n",
       "      <td>{'changepoint_prior_scale': 0.2, 'n_changepoin...</td>\n",
       "    </tr>\n",
       "    <tr>\n",
       "      <th>1</th>\n",
       "      <td>1.537450</td>\n",
       "      <td>{'changepoint_prior_scale': 0.1, 'n_changepoin...</td>\n",
       "    </tr>\n",
       "    <tr>\n",
       "      <th>2</th>\n",
       "      <td>1.550354</td>\n",
       "      <td>{'changepoint_prior_scale': 0.095, 'n_changepo...</td>\n",
       "    </tr>\n",
       "    <tr>\n",
       "      <th>3</th>\n",
       "      <td>1.560672</td>\n",
       "      <td>{'changepoint_prior_scale': 0.2, 'n_changepoin...</td>\n",
       "    </tr>\n",
       "    <tr>\n",
       "      <th>4</th>\n",
       "      <td>1.601411</td>\n",
       "      <td>{'changepoint_prior_scale': 0.1, 'n_changepoin...</td>\n",
       "    </tr>\n",
       "  </tbody>\n",
       "</table>\n",
       "</div>"
      ],
      "text/plain": [
       "       MAPE                                         Parameters\n",
       "0  1.499930  {'changepoint_prior_scale': 0.2, 'n_changepoin...\n",
       "1  1.537450  {'changepoint_prior_scale': 0.1, 'n_changepoin...\n",
       "2  1.550354  {'changepoint_prior_scale': 0.095, 'n_changepo...\n",
       "3  1.560672  {'changepoint_prior_scale': 0.2, 'n_changepoin...\n",
       "4  1.601411  {'changepoint_prior_scale': 0.1, 'n_changepoin..."
      ]
     },
     "execution_count": 34,
     "metadata": {},
     "output_type": "execute_result"
    }
   ],
   "source": [
    "parameters = model_parameters.sort_values(by=['MAPE'])\n",
    "parameters = parameters.reset_index(drop=True)\n",
    "parameters.head()  "
   ]
  },
  {
   "cell_type": "markdown",
   "id": "3e67f556",
   "metadata": {},
   "source": [
    "Out of total 15 models, we will select the parameters which has the least MAPE to train the final model and predict the next 30 days Dollar Exchange Rates."
   ]
  },
  {
   "cell_type": "code",
   "execution_count": 35,
   "id": "b501e988",
   "metadata": {
    "ExecuteTime": {
     "end_time": "2021-08-31T14:59:51.321347Z",
     "start_time": "2021-08-31T14:59:51.292466Z"
    }
   },
   "outputs": [
    {
     "name": "stdout",
     "output_type": "stream",
     "text": [
      "{'changepoint_prior_scale': 0.2, 'n_changepoints': 50}\n"
     ]
    }
   ],
   "source": [
    "print(parameters.iloc[0,1])"
   ]
  },
  {
   "cell_type": "markdown",
   "id": "f0748909",
   "metadata": {},
   "source": [
    "## Building the final Model"
   ]
  },
  {
   "cell_type": "code",
   "execution_count": 36,
   "id": "0d410932",
   "metadata": {
    "ExecuteTime": {
     "end_time": "2021-08-31T15:02:29.819409Z",
     "start_time": "2021-08-31T14:59:51.323341Z"
    }
   },
   "outputs": [
    {
     "name": "stderr",
     "output_type": "stream",
     "text": [
      "INFO:fbprophet:Disabling daily seasonality. Run prophet with daily_seasonality=True to override this.\n"
     ]
    },
    {
     "data": {
      "text/plain": [
       "<fbprophet.forecaster.Prophet at 0x1a58630c8b0>"
      ]
     },
     "execution_count": 36,
     "metadata": {},
     "output_type": "execute_result"
    }
   ],
   "source": [
    "final_model_ = Prophet(changepoint_prior_scale=0.2,n_changepoints=50)\n",
    "final_model_.fit(df)"
   ]
  },
  {
   "cell_type": "markdown",
   "id": "855798f3",
   "metadata": {},
   "source": [
    "### predicting for next 300 days"
   ]
  },
  {
   "cell_type": "code",
   "execution_count": 37,
   "id": "9b867f50",
   "metadata": {
    "ExecuteTime": {
     "end_time": "2021-08-31T15:02:29.835295Z",
     "start_time": "2021-08-31T15:02:29.822367Z"
    }
   },
   "outputs": [],
   "source": [
    "final_future=final_model_.make_future_dataframe(periods=300,freq='D')"
   ]
  },
  {
   "cell_type": "code",
   "execution_count": 38,
   "id": "a75309de",
   "metadata": {
    "ExecuteTime": {
     "end_time": "2021-08-31T15:02:36.728230Z",
     "start_time": "2021-08-31T15:02:29.837291Z"
    }
   },
   "outputs": [
    {
     "data": {
      "text/html": [
       "<div>\n",
       "<style scoped>\n",
       "    .dataframe tbody tr th:only-of-type {\n",
       "        vertical-align: middle;\n",
       "    }\n",
       "\n",
       "    .dataframe tbody tr th {\n",
       "        vertical-align: top;\n",
       "    }\n",
       "\n",
       "    .dataframe thead th {\n",
       "        text-align: right;\n",
       "    }\n",
       "</style>\n",
       "<table border=\"1\" class=\"dataframe\">\n",
       "  <thead>\n",
       "    <tr style=\"text-align: right;\">\n",
       "      <th></th>\n",
       "      <th>ds</th>\n",
       "      <th>yhat</th>\n",
       "      <th>yhat_lower</th>\n",
       "      <th>yhat_upper</th>\n",
       "    </tr>\n",
       "  </thead>\n",
       "  <tbody>\n",
       "    <tr>\n",
       "      <th>8510</th>\n",
       "      <td>2022-04-17</td>\n",
       "      <td>75.125847</td>\n",
       "      <td>71.885844</td>\n",
       "      <td>78.203147</td>\n",
       "    </tr>\n",
       "    <tr>\n",
       "      <th>8511</th>\n",
       "      <td>2022-04-18</td>\n",
       "      <td>75.375623</td>\n",
       "      <td>72.126020</td>\n",
       "      <td>78.131544</td>\n",
       "    </tr>\n",
       "    <tr>\n",
       "      <th>8512</th>\n",
       "      <td>2022-04-19</td>\n",
       "      <td>75.391535</td>\n",
       "      <td>71.799528</td>\n",
       "      <td>78.622013</td>\n",
       "    </tr>\n",
       "    <tr>\n",
       "      <th>8513</th>\n",
       "      <td>2022-04-20</td>\n",
       "      <td>75.391663</td>\n",
       "      <td>72.025891</td>\n",
       "      <td>78.500000</td>\n",
       "    </tr>\n",
       "    <tr>\n",
       "      <th>8514</th>\n",
       "      <td>2022-04-21</td>\n",
       "      <td>75.397740</td>\n",
       "      <td>72.057848</td>\n",
       "      <td>78.427630</td>\n",
       "    </tr>\n",
       "  </tbody>\n",
       "</table>\n",
       "</div>"
      ],
      "text/plain": [
       "             ds       yhat  yhat_lower  yhat_upper\n",
       "8510 2022-04-17  75.125847   71.885844   78.203147\n",
       "8511 2022-04-18  75.375623   72.126020   78.131544\n",
       "8512 2022-04-19  75.391535   71.799528   78.622013\n",
       "8513 2022-04-20  75.391663   72.025891   78.500000\n",
       "8514 2022-04-21  75.397740   72.057848   78.427630"
      ]
     },
     "execution_count": 38,
     "metadata": {},
     "output_type": "execute_result"
    }
   ],
   "source": [
    "final_prediction=final_model_.predict(final_future)\n",
    "final_prediction[['ds','yhat','yhat_lower','yhat_upper']].tail()"
   ]
  },
  {
   "cell_type": "markdown",
   "id": "29e850d8",
   "metadata": {},
   "source": [
    "## Plotting the prediction along side actuals"
   ]
  },
  {
   "cell_type": "code",
   "execution_count": 39,
   "id": "bd34adf4",
   "metadata": {
    "ExecuteTime": {
     "end_time": "2021-08-31T15:02:37.061056Z",
     "start_time": "2021-08-31T15:02:36.730257Z"
    }
   },
   "outputs": [
    {
     "data": {
      "image/png": "[encoded data removed]",
      "text/plain": [
       "<Figure size 1080x360 with 1 Axes>"
      ]
     },
     "metadata": {
      "needs_background": "light"
     },
     "output_type": "display_data"
    }
   ],
   "source": [
    "# Plot the forecast\n",
    "# prior scale 0.095\n",
    "f, ax = plt.subplots(1)\n",
    "f.set_figheight(5)\n",
    "f.set_figwidth(15)\n",
    "fig =final_model_.plot(final_prediction,\n",
    "                 ax=ax)\n",
    "plt.title('Plotting Final Prediction',fontdict={'fontsize' : 28})\n",
    "plt.xlabel('Time/Date',fontdict={'fontsize':16})\n",
    "plt.ylabel('INR per USD',fontdict={'fontsize':16})\n",
    "plt.show()"
   ]
  },
  {
   "cell_type": "markdown",
   "id": "65fd4555",
   "metadata": {},
   "source": [
    "## Incorporating change points"
   ]
  },
  {
   "cell_type": "code",
   "execution_count": 40,
   "id": "24c51ea6",
   "metadata": {
    "ExecuteTime": {
     "end_time": "2021-08-31T15:02:37.452930Z",
     "start_time": "2021-08-31T15:02:37.062886Z"
    }
   },
   "outputs": [
    {
     "ename": "NameError",
     "evalue": "name 'Plt' is not defined",
     "output_type": "error",
     "traceback": [
      "\u001b[1;31m---------------------------------------------------------------------------\u001b[0m",
      "\u001b[1;31mNameError\u001b[0m                                 Traceback (most recent call last)",
      "\u001b[1;32m<ipython-input-40-eff1a5f93d93>\u001b[0m in \u001b[0;36m<module>\u001b[1;34m\u001b[0m\n\u001b[0;32m      4\u001b[0m \u001b[0mplt\u001b[0m\u001b[1;33m.\u001b[0m\u001b[0mxlabel\u001b[0m\u001b[1;33m(\u001b[0m\u001b[1;34m'Time/Date'\u001b[0m\u001b[1;33m,\u001b[0m\u001b[0mfontdict\u001b[0m\u001b[1;33m=\u001b[0m\u001b[1;33m{\u001b[0m\u001b[1;34m'fontsize'\u001b[0m\u001b[1;33m:\u001b[0m\u001b[1;36m16\u001b[0m\u001b[1;33m}\u001b[0m\u001b[1;33m)\u001b[0m\u001b[1;33m\u001b[0m\u001b[1;33m\u001b[0m\u001b[0m\n\u001b[0;32m      5\u001b[0m \u001b[0mplt\u001b[0m\u001b[1;33m.\u001b[0m\u001b[0mylabel\u001b[0m\u001b[1;33m(\u001b[0m\u001b[1;34m'INR per USD'\u001b[0m\u001b[1;33m,\u001b[0m\u001b[0mfontdict\u001b[0m\u001b[1;33m=\u001b[0m\u001b[1;33m{\u001b[0m\u001b[1;34m'fontsize'\u001b[0m\u001b[1;33m:\u001b[0m\u001b[1;36m16\u001b[0m\u001b[1;33m}\u001b[0m\u001b[1;33m)\u001b[0m\u001b[1;33m\u001b[0m\u001b[1;33m\u001b[0m\u001b[0m\n\u001b[1;32m----> 6\u001b[1;33m \u001b[0mPlt\u001b[0m\u001b[1;33m.\u001b[0m\u001b[0mshow\u001b[0m\u001b[1;33m(\u001b[0m\u001b[1;33m)\u001b[0m\u001b[1;33m\u001b[0m\u001b[1;33m\u001b[0m\u001b[0m\n\u001b[0m",
      "\u001b[1;31mNameError\u001b[0m: name 'Plt' is not defined"
     ]
    },
    {
     "data": {
      "image/png": "[encoded data removed]",
      "text/plain": [
       "<Figure size 720x432 with 1 Axes>"
      ]
     },
     "metadata": {},
     "output_type": "display_data"
    }
   ],
   "source": [
    "fig=final_model_.plot(final_prediction)\n",
    "a=add_changepoints_to_plot(fig.gca(),final_model_,final_prediction)\n",
    "plt.title('Plot with Change points', fontdict={'fontsize':28})\n",
    "plt.xlabel('Time/Date',fontdict={'fontsize':16})\n",
    "plt.ylabel('INR per USD',fontdict={'fontsize':16})\n",
    "Plt.show()"
   ]
  },
  {
   "cell_type": "code",
   "execution_count": 41,
   "id": "de266e63",
   "metadata": {
    "ExecuteTime": {
     "end_time": "2021-08-31T17:26:22.403247Z",
     "start_time": "2021-08-31T17:26:22.204838Z"
    }
   },
   "outputs": [
    {
     "data": {
      "text/html": [
       "<div>\n",
       "<style scoped>\n",
       "    .dataframe tbody tr th:only-of-type {\n",
       "        vertical-align: middle;\n",
       "    }\n",
       "\n",
       "    .dataframe tbody tr th {\n",
       "        vertical-align: top;\n",
       "    }\n",
       "\n",
       "    .dataframe thead th {\n",
       "        text-align: right;\n",
       "    }\n",
       "</style>\n",
       "<table border=\"1\" class=\"dataframe\">\n",
       "  <thead>\n",
       "    <tr style=\"text-align: right;\">\n",
       "      <th></th>\n",
       "      <th>ds</th>\n",
       "      <th>yhat</th>\n",
       "      <th>y</th>\n",
       "    </tr>\n",
       "  </thead>\n",
       "  <tbody>\n",
       "    <tr>\n",
       "      <th>8503</th>\n",
       "      <td>2022-04-10</td>\n",
       "      <td>75.071149</td>\n",
       "      <td>NaN</td>\n",
       "    </tr>\n",
       "    <tr>\n",
       "      <th>8504</th>\n",
       "      <td>2022-04-11</td>\n",
       "      <td>75.321052</td>\n",
       "      <td>NaN</td>\n",
       "    </tr>\n",
       "    <tr>\n",
       "      <th>8505</th>\n",
       "      <td>2022-04-12</td>\n",
       "      <td>75.337809</td>\n",
       "      <td>NaN</td>\n",
       "    </tr>\n",
       "    <tr>\n",
       "      <th>8506</th>\n",
       "      <td>2022-04-13</td>\n",
       "      <td>75.339392</td>\n",
       "      <td>NaN</td>\n",
       "    </tr>\n",
       "    <tr>\n",
       "      <th>8507</th>\n",
       "      <td>2022-04-14</td>\n",
       "      <td>75.347413</td>\n",
       "      <td>NaN</td>\n",
       "    </tr>\n",
       "    <tr>\n",
       "      <th>8508</th>\n",
       "      <td>2022-04-15</td>\n",
       "      <td>75.336739</td>\n",
       "      <td>NaN</td>\n",
       "    </tr>\n",
       "    <tr>\n",
       "      <th>8509</th>\n",
       "      <td>2022-04-16</td>\n",
       "      <td>75.118235</td>\n",
       "      <td>NaN</td>\n",
       "    </tr>\n",
       "    <tr>\n",
       "      <th>8510</th>\n",
       "      <td>2022-04-17</td>\n",
       "      <td>75.125847</td>\n",
       "      <td>NaN</td>\n",
       "    </tr>\n",
       "    <tr>\n",
       "      <th>8511</th>\n",
       "      <td>2022-04-18</td>\n",
       "      <td>75.375623</td>\n",
       "      <td>NaN</td>\n",
       "    </tr>\n",
       "    <tr>\n",
       "      <th>8512</th>\n",
       "      <td>2022-04-19</td>\n",
       "      <td>75.391535</td>\n",
       "      <td>NaN</td>\n",
       "    </tr>\n",
       "    <tr>\n",
       "      <th>8513</th>\n",
       "      <td>2022-04-20</td>\n",
       "      <td>75.391663</td>\n",
       "      <td>NaN</td>\n",
       "    </tr>\n",
       "    <tr>\n",
       "      <th>8514</th>\n",
       "      <td>2022-04-21</td>\n",
       "      <td>75.397740</td>\n",
       "      <td>NaN</td>\n",
       "    </tr>\n",
       "  </tbody>\n",
       "</table>\n",
       "</div>"
      ],
      "text/plain": [
       "             ds       yhat   y\n",
       "8503 2022-04-10  75.071149 NaN\n",
       "8504 2022-04-11  75.321052 NaN\n",
       "8505 2022-04-12  75.337809 NaN\n",
       "8506 2022-04-13  75.339392 NaN\n",
       "8507 2022-04-14  75.347413 NaN\n",
       "8508 2022-04-15  75.336739 NaN\n",
       "8509 2022-04-16  75.118235 NaN\n",
       "8510 2022-04-17  75.125847 NaN\n",
       "8511 2022-04-18  75.375623 NaN\n",
       "8512 2022-04-19  75.391535 NaN\n",
       "8513 2022-04-20  75.391663 NaN\n",
       "8514 2022-04-21  75.397740 NaN"
      ]
     },
     "execution_count": 41,
     "metadata": {},
     "output_type": "execute_result"
    }
   ],
   "source": [
    "final_metric_df = final_prediction.set_index('ds')[['yhat']].join(df.set_index('ds').y).reset_index()\n",
    "final_metric_df.tail(12)"
   ]
  },
  {
   "cell_type": "code",
   "execution_count": 42,
   "id": "ce83ef02",
   "metadata": {
    "ExecuteTime": {
     "end_time": "2021-08-31T17:26:23.443525Z",
     "start_time": "2021-08-31T17:26:23.426706Z"
    }
   },
   "outputs": [
    {
     "data": {
      "text/plain": [
       "1.4999304686866908"
      ]
     },
     "execution_count": 42,
     "metadata": {},
     "output_type": "execute_result"
    }
   ],
   "source": [
    "final_metric_df.dropna(inplace=True)\n",
    "mean_absolute_percentage_error(y_true=final_metric_df['y'],y_pred=final_metric_df['yhat'])"
   ]
  },
  {
   "cell_type": "markdown",
   "id": "33587f7c",
   "metadata": {},
   "source": [
    "# Conclusion\n",
    "\n",
    "We have achieved the MAPE score of 1.49 on the overall data which seems to be good. However, we shall decide on the model after comparing with other models."
   ]
  }
 ],
 "metadata": {
  "hide_input": false,
  "kernelspec": {
   "display_name": "Python 3",
   "language": "python",
   "name": "python3"
  },
  "language_info": {
   "codemirror_mode": {
    "name": "ipython",
    "version": 3
   },
   "file_extension": ".py",
   "mimetype": "text/x-python",
   "name": "python",
   "nbconvert_exporter": "python",
   "pygments_lexer": "ipython3",
   "version": "3.8.10"
  },
  "toc": {
   "base_numbering": 1,
   "nav_menu": {},
   "number_sections": true,
   "sideBar": true,
   "skip_h1_title": false,
   "title_cell": "Table of Contents",
   "title_sidebar": "Contents",
   "toc_cell": false,
   "toc_position": {},
   "toc_section_display": true,
   "toc_window_display": false
  },
  "varInspector": {
   "cols": {
    "lenName": 16,
    "lenType": 16,
    "lenVar": 40
   },
   "kernels_config": {
    "python": {
     "delete_cmd_postfix": "",
     "delete_cmd_prefix": "del ",
     "library": "var_list.py",
     "varRefreshCmd": "print(var_dic_list())"
    },
    "r": {
     "delete_cmd_postfix": ") ",
     "delete_cmd_prefix": "rm(",
     "library": "var_list.r",
     "varRefreshCmd": "cat(var_dic_list()) "
    }
   },
   "types_to_exclude": [
    "module",
    "function",
    "builtin_function_or_method",
    "instance",
    "_Feature"
   ],
   "window_display": false
  }
 },
 "nbformat": 4,
 "nbformat_minor": 5
}
