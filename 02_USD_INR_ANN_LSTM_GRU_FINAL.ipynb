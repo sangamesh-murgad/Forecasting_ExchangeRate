{
 "cells": [
  {
   "cell_type": "markdown",
   "metadata": {
    "id": "hFICqq4n-5n_"
   },
   "source": [
    "# Import Libraries"
   ]
  },
  {
   "cell_type": "code",
   "execution_count": 1,
   "metadata": {
    "ExecuteTime": {
     "end_time": "2021-08-31T09:26:14.532956Z",
     "start_time": "2021-08-31T09:26:09.122052Z"
    },
    "id": "g4lhkvHf1qGe"
   },
   "outputs": [],
   "source": [
    "import numpy as np\n",
    "import pandas as pd\n",
    "import matplotlib.pyplot as plt\n",
    "%matplotlib inline\n",
    "import matplotlib\n",
    "\n",
    "from datetime import datetime, timedelta, date\n",
    "from statsmodels.graphics.tsaplots import plot_acf\n",
    "from statsmodels.graphics.tsaplots import plot_pacf\n",
    "\n",
    "from statsmodels.tsa.stattools import adfuller\n",
    "from statsmodels.tsa.seasonal import seasonal_decompose\n",
    "\n",
    "import sklearn.metrics as metrics\n",
    "from sklearn.metrics import mean_squared_error as MSE\n",
    "# from sklearn.metrics import mean_absolute_percentage_error as MAPE\n",
    "from sklearn.metrics import r2_score\n",
    "\n",
    "from keras.models import Sequential\n",
    "from keras.layers import Dense\n",
    "from keras.optimizers import Adam\n",
    "import keras.backend as K\n",
    "from keras import layers\n",
    "from keras.initializers import Zeros\n",
    "from keras.callbacks import EarlyStopping\n",
    "from keras.models import load_model\n",
    "import tensorflow as tf\n",
    "from keras.layers import Dropout\n",
    "\n",
    "\n",
    "# Set random seed\n",
    "np.random.seed(0)\n",
    "from sklearn.preprocessing import MinMaxScaler"
   ]
  },
  {
   "cell_type": "code",
   "execution_count": 2,
   "metadata": {
    "ExecuteTime": {
     "end_time": "2021-08-31T09:26:14.548261Z",
     "start_time": "2021-08-31T09:26:14.532956Z"
    },
    "id": "v-JXsx9t1qGn"
   },
   "outputs": [],
   "source": [
    "# Set figure size for all matplotlib figures\n",
    "fig_size = plt.rcParams[\"figure.figsize\"]\n",
    "fig_size[0] = 10\n",
    "fig_size[1] = 5"
   ]
  },
  {
   "cell_type": "markdown",
   "metadata": {
    "id": "YJtIrKwQ_VTz"
   },
   "source": [
    "## Read The Data"
   ]
  },
  {
   "cell_type": "code",
   "execution_count": 3,
   "metadata": {
    "ExecuteTime": {
     "end_time": "2021-08-31T09:26:15.003874Z",
     "start_time": "2021-08-31T09:26:14.550222Z"
    },
    "colab": {
     "base_uri": "https://localhost:8080/",
     "height": 388
    },
    "id": "OWJhjyrC1qGo",
    "outputId": "be340766-83d1-4e6d-ba2c-1d060cf75f37"
   },
   "outputs": [
    {
     "data": {
      "text/html": [
       "<div>\n",
       "<style scoped>\n",
       "    .dataframe tbody tr th:only-of-type {\n",
       "        vertical-align: middle;\n",
       "    }\n",
       "\n",
       "    .dataframe tbody tr th {\n",
       "        vertical-align: top;\n",
       "    }\n",
       "\n",
       "    .dataframe thead th {\n",
       "        text-align: right;\n",
       "    }\n",
       "</style>\n",
       "<table border=\"1\" class=\"dataframe\">\n",
       "  <thead>\n",
       "    <tr style=\"text-align: right;\">\n",
       "      <th></th>\n",
       "      <th>DEXINUS</th>\n",
       "    </tr>\n",
       "    <tr>\n",
       "      <th>observation_date</th>\n",
       "      <th></th>\n",
       "    </tr>\n",
       "  </thead>\n",
       "  <tbody>\n",
       "    <tr>\n",
       "      <th>1973-01-02</th>\n",
       "      <td>8.02</td>\n",
       "    </tr>\n",
       "    <tr>\n",
       "      <th>1973-01-03</th>\n",
       "      <td>8.02</td>\n",
       "    </tr>\n",
       "    <tr>\n",
       "      <th>1973-01-04</th>\n",
       "      <td>8.00</td>\n",
       "    </tr>\n",
       "    <tr>\n",
       "      <th>1973-01-05</th>\n",
       "      <td>8.01</td>\n",
       "    </tr>\n",
       "    <tr>\n",
       "      <th>1973-01-08</th>\n",
       "      <td>8.00</td>\n",
       "    </tr>\n",
       "    <tr>\n",
       "      <th>1973-01-09</th>\n",
       "      <td>8.00</td>\n",
       "    </tr>\n",
       "    <tr>\n",
       "      <th>1973-01-10</th>\n",
       "      <td>8.00</td>\n",
       "    </tr>\n",
       "    <tr>\n",
       "      <th>1973-01-11</th>\n",
       "      <td>8.00</td>\n",
       "    </tr>\n",
       "    <tr>\n",
       "      <th>1973-01-12</th>\n",
       "      <td>8.00</td>\n",
       "    </tr>\n",
       "    <tr>\n",
       "      <th>1973-01-15</th>\n",
       "      <td>8.00</td>\n",
       "    </tr>\n",
       "  </tbody>\n",
       "</table>\n",
       "</div>"
      ],
      "text/plain": [
       "                  DEXINUS\n",
       "observation_date         \n",
       "1973-01-02           8.02\n",
       "1973-01-03           8.02\n",
       "1973-01-04           8.00\n",
       "1973-01-05           8.01\n",
       "1973-01-08           8.00\n",
       "1973-01-09           8.00\n",
       "1973-01-10           8.00\n",
       "1973-01-11           8.00\n",
       "1973-01-12           8.00\n",
       "1973-01-15           8.00"
      ]
     },
     "execution_count": 3,
     "metadata": {},
     "output_type": "execute_result"
    }
   ],
   "source": [
    "df = pd.read_excel( r'C:\\Users\\MMM-SM\\21Pypractice\\project\\DEXINUS.xls',\n",
    "                   skiprows=10,\n",
    "                   index_col=[0],\n",
    "                   parse_dates=True)\n",
    "df.head(10)"
   ]
  },
  {
   "cell_type": "code",
   "execution_count": 4,
   "metadata": {
    "ExecuteTime": {
     "end_time": "2021-08-31T09:26:15.159932Z",
     "start_time": "2021-08-31T09:26:15.005871Z"
    },
    "id": "-tLlNBs41qGr"
   },
   "outputs": [],
   "source": [
    "#Fill missing values using interpolation\n",
    "df['DEXINUS'].interpolate(method='linear',\n",
    "                          limit_direction='forward',\n",
    "                          inplace=True)"
   ]
  },
  {
   "cell_type": "code",
   "execution_count": 5,
   "metadata": {
    "ExecuteTime": {
     "end_time": "2021-08-31T09:26:15.239041Z",
     "start_time": "2021-08-31T09:26:15.161888Z"
    },
    "id": "iBj9uh421qGt",
    "scrolled": true
   },
   "outputs": [],
   "source": [
    "# df.isna().sum()"
   ]
  },
  {
   "cell_type": "markdown",
   "metadata": {
    "id": "DvNA0aK81qGu"
   },
   "source": [
    "# Scaling and Splitting - Train test split"
   ]
  },
  {
   "cell_type": "code",
   "execution_count": 6,
   "metadata": {
    "ExecuteTime": {
     "end_time": "2021-08-31T09:26:15.394650Z",
     "start_time": "2021-08-31T09:26:15.240042Z"
    },
    "colab": {
     "base_uri": "https://localhost:8080/"
    },
    "id": "Tj43lAyX1qGv",
    "outputId": "ce556009-6cbf-4b98-9ef8-96bf1451fd3f"
   },
   "outputs": [
    {
     "data": {
      "text/plain": [
       "array([[0.01189794],\n",
       "       [0.01189794],\n",
       "       [0.01161124],\n",
       "       ...,\n",
       "       [0.95957569],\n",
       "       [0.95971904],\n",
       "       [0.95971904]])"
      ]
     },
     "execution_count": 6,
     "metadata": {},
     "output_type": "execute_result"
    }
   ],
   "source": [
    "# Applying the minmax scaler for scaling of the data\n",
    "\n",
    "from sklearn.preprocessing import MinMaxScaler\n",
    "scaler = MinMaxScaler()\n",
    "scaler.fit(df)\n",
    "data1 = scaler.transform(df)\n",
    "data1"
   ]
  },
  {
   "cell_type": "code",
   "execution_count": 7,
   "metadata": {
    "ExecuteTime": {
     "end_time": "2021-08-31T09:26:15.518844Z",
     "start_time": "2021-08-31T09:26:15.395647Z"
    },
    "colab": {
     "base_uri": "https://localhost:8080/"
    },
    "id": "MtI8qCLO2QX0",
    "outputId": "950071ee-7ce6-4164-a6d6-b86e2d9bd5ab"
   },
   "outputs": [
    {
     "data": {
      "text/plain": [
       "12649"
      ]
     },
     "execution_count": 7,
     "metadata": {},
     "output_type": "execute_result"
    }
   ],
   "source": [
    "len(data1)"
   ]
  },
  {
   "cell_type": "code",
   "execution_count": 8,
   "metadata": {
    "ExecuteTime": {
     "end_time": "2021-08-31T09:26:15.672488Z",
     "start_time": "2021-08-31T09:26:15.523823Z"
    },
    "colab": {
     "base_uri": "https://localhost:8080/"
    },
    "id": "2W1anZdg1qGw",
    "outputId": "efc9c1e5-482f-4e23-c41c-2e462fb59d66"
   },
   "outputs": [
    {
     "name": "stdout",
     "output_type": "stream",
     "text": [
      "12124 12649 <class 'numpy.ndarray'>\n"
     ]
    },
    {
     "data": {
      "text/plain": [
       "(12123, 524, 12123, 524)"
      ]
     },
     "execution_count": 8,
     "metadata": {},
     "output_type": "execute_result"
    }
   ],
   "source": [
    "# Train and Test split\n",
    "\n",
    "train_size = int(12649-525)  #95% for training\n",
    "print(train_size,len(data1),type(data1))\n",
    "\n",
    "train = data1[:train_size]\n",
    "test = data1[train_size:]\n",
    "\n",
    "X_train = train[:-1] # Creating train data by expellig the last record. making it yesterday's data\n",
    "y_train = train[1:]  # Creating train data by expelling the first record. making it next day's data\n",
    "\n",
    "X_test = test[:-1] # Creating test data by expellig the last record. making it yesterday's data\n",
    "y_test = test[1:]  # Creating test data by expelling the first record. making it next day's data\n",
    "len(X_train),len(X_test), len(y_train), len(y_test)"
   ]
  },
  {
   "cell_type": "code",
   "execution_count": 9,
   "metadata": {
    "ExecuteTime": {
     "end_time": "2021-08-31T09:26:15.795520Z",
     "start_time": "2021-08-31T09:26:15.674267Z"
    },
    "colab": {
     "base_uri": "https://localhost:8080/"
    },
    "id": "ksnT4Upx1qGx",
    "outputId": "a9d24098-b07a-474d-cbf8-4cd61a504c2f"
   },
   "outputs": [
    {
     "name": "stdout",
     "output_type": "stream",
     "text": [
      "[[0.89521216]\n",
      " [0.89234518]\n",
      " [0.89449541]]\n",
      "[[0.890625  ]\n",
      " [0.88976491]\n",
      " [0.88861812]\n",
      " [0.88618119]\n",
      " [0.88489106]]\n"
     ]
    }
   ],
   "source": [
    "# pd.DataFrame(zip(X_train,y_train))\n",
    "print(train[-3:],end='\\n')\n",
    "print(test[:5])"
   ]
  },
  {
   "cell_type": "markdown",
   "metadata": {
    "id": "EGkFKpUM1qGy"
   },
   "source": [
    "# Model Building"
   ]
  },
  {
   "cell_type": "markdown",
   "metadata": {},
   "source": [
    "## Artificial Neural Network - ANN"
   ]
  },
  {
   "cell_type": "code",
   "execution_count": 10,
   "metadata": {
    "ExecuteTime": {
     "end_time": "2021-08-31T09:26:15.903753Z",
     "start_time": "2021-08-31T09:26:15.801458Z"
    },
    "id": "yiRwqp-B1qGy"
   },
   "outputs": [],
   "source": [
    "# Defining custom function for Adjusted R-Squared\n",
    "\n",
    "def adj_r2_score(r2, n, k):\n",
    "    return 1 - ((1 - r2) * ((n - 1) / (n - k - 1)))"
   ]
  },
  {
   "cell_type": "markdown",
   "metadata": {},
   "source": [
    "### Initialize the model"
   ]
  },
  {
   "cell_type": "code",
   "execution_count": 11,
   "metadata": {
    "ExecuteTime": {
     "end_time": "2021-08-31T09:26:16.516672Z",
     "start_time": "2021-08-31T09:26:15.910754Z"
    },
    "colab": {
     "base_uri": "https://localhost:8080/"
    },
    "id": "nnvwn5Zj1qGz",
    "outputId": "c5db4bff-0535-4454-d081-c1ce80ab4708"
   },
   "outputs": [
    {
     "name": "stdout",
     "output_type": "stream",
     "text": [
      "Model: \"sequential\"\n",
      "_________________________________________________________________\n",
      "Layer (type)                 Output Shape              Param #   \n",
      "=================================================================\n",
      "dense (Dense)                (None, 30)                60        \n",
      "_________________________________________________________________\n",
      "dense_1 (Dense)              (None, 1)                 31        \n",
      "=================================================================\n",
      "Total params: 91\n",
      "Trainable params: 91\n",
      "Non-trainable params: 0\n",
      "_________________________________________________________________\n"
     ]
    }
   ],
   "source": [
    "# Initiate the ANN Network Components\n",
    "\n",
    "K.clear_session()\n",
    "\n",
    "model = Sequential()\n",
    "model.add(Dense(30, input_dim=1, activation='relu'))\n",
    "model.add(Dense(1))\n",
    "model.summary()"
   ]
  },
  {
   "cell_type": "markdown",
   "metadata": {},
   "source": [
    "### Compile and Train the model"
   ]
  },
  {
   "cell_type": "code",
   "execution_count": 12,
   "metadata": {
    "ExecuteTime": {
     "end_time": "2021-08-31T09:28:01.596884Z",
     "start_time": "2021-08-31T09:26:16.518667Z"
    },
    "colab": {
     "base_uri": "https://localhost:8080/"
    },
    "id": "9CiD0TVI1qG0",
    "outputId": "64e37af3-1396-4760-8c0c-a36c4c8a4ec1"
   },
   "outputs": [
    {
     "name": "stdout",
     "output_type": "stream",
     "text": [
      "Epoch 1/100\n",
      "12123/12123 [==============================] - 27s 801us/step - loss: 6.3781e-06 - rmse: 0.0020\n",
      "Epoch 2/100\n",
      "12123/12123 [==============================] - 9s 762us/step - loss: 0.0025 - rmse: 0.0172\n",
      "Epoch 3/100\n",
      "12123/12123 [==============================] - 9s 782us/step - loss: 0.0012 - rmse: 0.0155\n",
      "Epoch 4/100\n",
      "12123/12123 [==============================] - 10s 787us/step - loss: 5.2064e-04 - rmse: 0.0138\n",
      "Epoch 5/100\n",
      "12123/12123 [==============================] - 10s 788us/step - loss: 2.8960e-04 - rmse: 0.0125\n",
      "Epoch 6/100\n",
      "12123/12123 [==============================] - 10s 788us/step - loss: 2.0704e-04 - rmse: 0.0115\n",
      "Epoch 7/100\n",
      "12123/12123 [==============================] - 9s 782us/step - loss: 1.3356e-04 - rmse: 0.0107\n",
      "Epoch 8/100\n",
      "12123/12123 [==============================] - 10s 789us/step - loss: 7.5823e-05 - rmse: 0.0101\n",
      "Epoch 9/100\n",
      "12123/12123 [==============================] - 9s 780us/step - loss: 1.1203e-04 - rmse: 0.0096\n",
      "Epoch 00009: early stopping\n"
     ]
    }
   ],
   "source": [
    "# Compile the model with relevent ealuation metrics\n",
    "\n",
    "model.compile(loss=tf.keras.metrics.mean_squared_error,\n",
    "              metrics=[tf.keras.metrics.RootMeanSquaredError(name='rmse')],\n",
    "              optimizer='adam')\n",
    "\n",
    "early_stop = EarlyStopping(monitor='loss', patience=8, verbose=1)\n",
    "\n",
    "# Training the model with Train Dataset\n",
    "\n",
    "history = model.fit(X_train,\n",
    "                    y_train,\n",
    "                    epochs=100,\n",
    "                    batch_size=1,\n",
    "                    verbose=1,\n",
    "                    callbacks=[early_stop],\n",
    "                    shuffle=False,\n",
    "                    ) #workers=5"
   ]
  },
  {
   "cell_type": "markdown",
   "metadata": {},
   "source": [
    "### Check the performance metrics"
   ]
  },
  {
   "cell_type": "code",
   "execution_count": 13,
   "metadata": {
    "ExecuteTime": {
     "end_time": "2021-08-31T09:28:03.086629Z",
     "start_time": "2021-08-31T09:28:01.598332Z"
    },
    "colab": {
     "base_uri": "https://localhost:8080/"
    },
    "id": "TyJliu0j1qG1",
    "outputId": "99f2c74f-f051-43ad-c72a-68dddf231726"
   },
   "outputs": [
    {
     "name": "stdout",
     "output_type": "stream",
     "text": [
      " \u001b[7m On Train Data \u001b[0m\n",
      "\n",
      "The  R2 score on the Train set is :\t0.920\n",
      "The  MAE on the Train set is      :\t4.946\n",
      "The  RMSE on the Train set is     :\t5.624\n",
      "The  MAPE on the Train Set is     :\t36.151%\n",
      "\n",
      "\n",
      " \u001b[7m On Test Data \u001b[0m\n",
      "\n",
      "The  R2 score on the Test set is  :\t0.891\n",
      "The  MAE on the Test set is       :\t0.534\n",
      "The  RMSE on the Test set is      :\t0.622\n",
      "The  MAPE on the Test Set is     :\t0.723%\n"
     ]
    }
   ],
   "source": [
    "from sklearn.metrics import r2_score\n",
    "\n",
    "# Defining MAPE for calculating Mean Absolute Percentage Error (MAPE)\n",
    "\n",
    "def MAPE(y,yhat):\n",
    "    return np.mean(np.abs((y - yhat)/y)*100)\n",
    "\n",
    "# Calculating Performance metrics on Train Data.\n",
    "\n",
    "y_train_pred = scaler.inverse_transform(model.predict(X_train))\n",
    "train_mse = metrics.mean_squared_error(scaler.inverse_transform(y_train), y_train_pred)\n",
    "rmse_train = np.sqrt(train_mse)\n",
    "\n",
    "print(' \\033[7m On Train Data \\033[0m\\n')\n",
    "print(\"The  R2 score on the Train set is :\\t{:0.3f}\".format(\n",
    "    r2_score(scaler.inverse_transform(y_train), y_train_pred)))\n",
    "print(\"The  MAE on the Train set is      :\\t{:0.3f}\".format(\n",
    "    metrics.mean_absolute_error(scaler.inverse_transform(y_train), y_train_pred)))\n",
    "\n",
    "print(\"The  RMSE on the Train set is     :\\t{:0.3f}\".format(rmse_train))\n",
    "r2_train = r2_score(scaler.inverse_transform(y_train), y_train_pred)\n",
    "\n",
    "print(\"The  MAPE on the Train Set is     :\\t{:.3f}%\"\\\n",
    "      .format(MAPE(scaler.inverse_transform(y_train),y_train_pred)))\n",
    "\n",
    "# Calculating Performance metrics on Test Data.\n",
    "\n",
    "y_pred_test = scaler.inverse_transform(model.predict(X_test))\n",
    "test_mse = metrics.mean_squared_error(scaler.inverse_transform(y_test), y_pred_test)\n",
    "rmse_test = np.sqrt(test_mse)\n",
    "\n",
    "print('\\n\\n \\033[7m On Test Data \\033[0m\\n')\n",
    "print(\"The  R2 score on the Test set is  :\\t{:0.3f}\".format(\n",
    "    r2_score(scaler.inverse_transform(y_test), y_pred_test)))\n",
    "r2_test = r2_score(scaler.inverse_transform(y_test), y_pred_test)\n",
    "\n",
    "print(\"The  MAE on the Test set is       :\\t{:0.3f}\".format(\n",
    "    metrics.mean_absolute_error(scaler.inverse_transform(y_test), y_pred_test)))\n",
    "print(\"The  RMSE on the Test set is      :\\t{:0.3f}\".format(rmse_test))\n",
    "\n",
    "print(\"The  MAPE on the Test Set is     :\\t{:.3f}%\".\\\n",
    "      format(MAPE(scaler.inverse_transform(y_test),y_pred_test)))"
   ]
  },
  {
   "cell_type": "markdown",
   "metadata": {
    "id": "9JOflrQPAyXP"
   },
   "source": [
    "### Plotting the prediction vs actuals on Test data"
   ]
  },
  {
   "cell_type": "code",
   "execution_count": 14,
   "metadata": {
    "ExecuteTime": {
     "end_time": "2021-08-31T09:28:03.541943Z",
     "start_time": "2021-08-31T09:28:03.088592Z"
    },
    "colab": {
     "base_uri": "https://localhost:8080/",
     "height": 241
    },
    "id": "76WkoJEk1qG4",
    "outputId": "db6a7463-a8a1-421f-ae11-ab0123a7c6e7"
   },
   "outputs": [
    {
     "data": {
      "image/png": "[encoded data removed]",
      "text/plain": [
       "<Figure size 864x216 with 1 Axes>"
      ]
     },
     "metadata": {
      "needs_background": "light"
     },
     "output_type": "display_data"
    }
   ],
   "source": [
    "plt.figure(figsize=(12, 3))\n",
    "plt.plot(scaler.inverse_transform(y_test), label='True')\n",
    "plt.plot(y_pred_test, label='ANN')\n",
    "# plt.plot(rate_data_log[:10118].index,y_train, label='True')\n",
    "# plt.plot(rate_data_log[:10118].index,y_train_pred, label='ANN')\n",
    "plt.title(\"ANN's_Prediction - Test Data\")\n",
    "plt.xlabel('Observation')\n",
    "plt.ylabel('INR_Scaled')\n",
    "plt.legend()\n",
    "plt.show()"
   ]
  },
  {
   "cell_type": "code",
   "execution_count": 15,
   "metadata": {
    "ExecuteTime": {
     "end_time": "2021-08-31T09:28:03.587638Z",
     "start_time": "2021-08-31T09:28:03.542940Z"
    },
    "colab": {
     "base_uri": "https://localhost:8080/"
    },
    "id": "Cjfo5NK41qG2",
    "outputId": "26de1e7f-67a2-491b-c449-9e78552d4994"
   },
   "outputs": [
    {
     "data": {
      "text/html": [
       "<div>\n",
       "<style scoped>\n",
       "    .dataframe tbody tr th:only-of-type {\n",
       "        vertical-align: middle;\n",
       "    }\n",
       "\n",
       "    .dataframe tbody tr th {\n",
       "        vertical-align: top;\n",
       "    }\n",
       "\n",
       "    .dataframe thead th {\n",
       "        text-align: right;\n",
       "    }\n",
       "</style>\n",
       "<table border=\"1\" class=\"dataframe\">\n",
       "  <thead>\n",
       "    <tr style=\"text-align: right;\">\n",
       "      <th></th>\n",
       "      <th>yTrue</th>\n",
       "      <th>yHat</th>\n",
       "    </tr>\n",
       "  </thead>\n",
       "  <tbody>\n",
       "    <tr>\n",
       "      <th>517</th>\n",
       "      <td>74.16</td>\n",
       "      <td>72.766624</td>\n",
       "    </tr>\n",
       "    <tr>\n",
       "      <th>518</th>\n",
       "      <td>74.14</td>\n",
       "      <td>73.502769</td>\n",
       "    </tr>\n",
       "    <tr>\n",
       "      <th>519</th>\n",
       "      <td>74.18</td>\n",
       "      <td>73.485451</td>\n",
       "    </tr>\n",
       "    <tr>\n",
       "      <th>520</th>\n",
       "      <td>74.37</td>\n",
       "      <td>73.520088</td>\n",
       "    </tr>\n",
       "    <tr>\n",
       "      <th>521</th>\n",
       "      <td>74.13</td>\n",
       "      <td>73.684647</td>\n",
       "    </tr>\n",
       "    <tr>\n",
       "      <th>522</th>\n",
       "      <td>74.14</td>\n",
       "      <td>73.476791</td>\n",
       "    </tr>\n",
       "    <tr>\n",
       "      <th>523</th>\n",
       "      <td>74.14</td>\n",
       "      <td>73.485451</td>\n",
       "    </tr>\n",
       "  </tbody>\n",
       "</table>\n",
       "</div>"
      ],
      "text/plain": [
       "     yTrue       yHat\n",
       "517  74.16  72.766624\n",
       "518  74.14  73.502769\n",
       "519  74.18  73.485451\n",
       "520  74.37  73.520088\n",
       "521  74.13  73.684647\n",
       "522  74.14  73.476791\n",
       "523  74.14  73.485451"
      ]
     },
     "execution_count": 15,
     "metadata": {},
     "output_type": "execute_result"
    }
   ],
   "source": [
    "Temp = pd.concat([\n",
    "    pd.DataFrame(scaler.inverse_transform(y_test), columns=['yTrue']),\n",
    "    pd.DataFrame(y_pred_test, columns=['yHat'])\n",
    "    ],\n",
    "                 axis=1)\n",
    "\n",
    "Temp.tail(7)"
   ]
  },
  {
   "cell_type": "markdown",
   "metadata": {
    "id": "MmzF8LZPBDxi"
   },
   "source": [
    "### Plotting prediciton vs Actuals on Train Data"
   ]
  },
  {
   "cell_type": "code",
   "execution_count": 16,
   "metadata": {
    "ExecuteTime": {
     "end_time": "2021-08-31T09:28:03.900361Z",
     "start_time": "2021-08-31T09:28:03.589593Z"
    },
    "colab": {
     "base_uri": "https://localhost:8080/",
     "height": 241
    },
    "id": "qtQilLy81qG5",
    "outputId": "d3028d45-d766-45fe-8ba4-a68748add5be"
   },
   "outputs": [
    {
     "data": {
      "image/png": "[encoded data removed]",
      "text/plain": [
       "<Figure size 864x216 with 1 Axes>"
      ]
     },
     "metadata": {
      "needs_background": "light"
     },
     "output_type": "display_data"
    }
   ],
   "source": [
    "plt.figure(figsize=(12, 3))\n",
    "# plt.plot(y_test, label='True')\n",
    "# plt.plot(y_pred_test, label='ANN')\n",
    "plt.plot(df[:12123].index, scaler.inverse_transform(y_train), label='True')\n",
    "plt.plot(df[:12123].index, y_train_pred, label='ANN')\n",
    "plt.title(\"ANN's_Prediction - Train Data\")\n",
    "plt.xlabel('Observation')\n",
    "plt.ylabel('INR_Scaled')\n",
    "plt.legend()\n",
    "plt.show()"
   ]
  },
  {
   "cell_type": "markdown",
   "metadata": {
    "id": "DcPPoECM1qG5"
   },
   "source": [
    "## LSTM\n",
    "\n",
    "Long Term Short Memory (LSTM) networks are another variant of RNNs. They are capable of retaining long term dependencies among the sequence of events or data points."
   ]
  },
  {
   "cell_type": "markdown",
   "metadata": {
    "id": "qc39yTedBYus"
   },
   "source": [
    "### Reshape the data for LSTM model"
   ]
  },
  {
   "cell_type": "code",
   "execution_count": 17,
   "metadata": {
    "ExecuteTime": {
     "end_time": "2021-08-31T09:28:03.916316Z",
     "start_time": "2021-08-31T09:28:03.901356Z"
    },
    "colab": {
     "base_uri": "https://localhost:8080/"
    },
    "id": "9Ck2vViG1qG6",
    "outputId": "f2eae6ee-fe60-4b65-cb24-b95ef5995a40"
   },
   "outputs": [
    {
     "name": "stdout",
     "output_type": "stream",
     "text": [
      "12124 -  12649 -  <class 'list'>\n"
     ]
    },
    {
     "data": {
      "text/plain": [
       "(12124, 525)"
      ]
     },
     "execution_count": 17,
     "metadata": {},
     "output_type": "execute_result"
    }
   ],
   "source": [
    "data2 = list(data1.reshape(12649))\n",
    "train_size = int(12649-525)#12649-525\n",
    "print(train_size,len(data2),type(data2), sep = ' -  ')\n",
    "\n",
    "train1 = data2[:train_size]\n",
    "test1 = data2[train_size:]\n",
    "\n",
    "train_list = [x for x in train1]\n",
    "predictions = []\n",
    "len(train1),len(test1)"
   ]
  },
  {
   "cell_type": "code",
   "execution_count": 18,
   "metadata": {
    "ExecuteTime": {
     "end_time": "2021-08-31T09:28:03.963197Z",
     "start_time": "2021-08-31T09:28:03.919309Z"
    },
    "id": "YJCA6Biu1qG9"
   },
   "outputs": [],
   "source": [
    "## Define a custom fuction to create a lagged array with custom lag size for LSTM model\n",
    "\n",
    "def gen_XY(t_list, size):\n",
    "    '''\n",
    "    Generates an autoregressive lagged array.\n",
    "    \n",
    "    Parameters\n",
    "    ----------\n",
    "    1. t_list: (list) Data to generate an autoregressive array out of.\n",
    "    2. size: (int) Number of lagged values to consider.\n",
    "    \n",
    "    Returns\n",
    "    ----------\n",
    "    1. X: (np.ndarray) Autoregressive feature array.\n",
    "    2. Y.T: (np.ndarray) Column array with values of response variable.\n",
    "    \n",
    "    '''\n",
    "    X = np.zeros([1, size])\n",
    "    Y = []\n",
    "    temp_list = []\n",
    "    for i in range(len(t_list) - size):\n",
    "        add_list = t_list[i:i + size]\n",
    "        target = t_list[i + size]\n",
    "        X = np.append(X, np.array([add_list]), axis=0)\n",
    "        Y.append(target)\n",
    "\n",
    "    X = np.delete(X, 0, axis=0)\n",
    "    Y = np.array(Y)\n",
    "\n",
    "    return X, Y.T"
   ]
  },
  {
   "cell_type": "code",
   "execution_count": 19,
   "metadata": {
    "ExecuteTime": {
     "end_time": "2021-08-31T09:28:04.182451Z",
     "start_time": "2021-08-31T09:28:03.964228Z"
    },
    "id": "FlpjMT6g1qG9"
   },
   "outputs": [],
   "source": [
    "# Call the custom function and generate the train and test data\n",
    "\n",
    "X_train, y_train = gen_XY(train1, 1)\n",
    "X_test, y_test = gen_XY(test1, 1)"
   ]
  },
  {
   "cell_type": "code",
   "execution_count": 20,
   "metadata": {
    "ExecuteTime": {
     "end_time": "2021-08-31T09:28:04.260634Z",
     "start_time": "2021-08-31T09:28:04.184860Z"
    },
    "colab": {
     "base_uri": "https://localhost:8080/"
    },
    "id": "k-NQ-WP51qG-",
    "outputId": "6ec54abd-d39a-4869-cac1-99beff90b6c0"
   },
   "outputs": [
    {
     "name": "stdout",
     "output_type": "stream",
     "text": [
      "(12123,) (524,) <class 'numpy.ndarray'>\n",
      "[0.01189794 0.01161124 0.01175459 0.01161124 0.01161124]\n",
      "[[0.01189794]\n",
      " [0.01161124]\n",
      " [0.01175459]\n",
      " ...\n",
      " [0.89521216]\n",
      " [0.89234518]\n",
      " [0.89449541]]\n"
     ]
    }
   ],
   "source": [
    "# Check y_train & y_test data shape\n",
    "print(y_train.shape,y_test.shape,type(y_train),end='\\n')\n",
    "\n",
    "# print y_train & y_test data as is\n",
    "print(y_train[:5], end='\\n')\n",
    "\n",
    "# reshape y_train for two dimentions\n",
    "print(y_train.reshape(12123,-1))"
   ]
  },
  {
   "cell_type": "code",
   "execution_count": 21,
   "metadata": {
    "ExecuteTime": {
     "end_time": "2021-08-31T09:28:04.368901Z",
     "start_time": "2021-08-31T09:28:04.264467Z"
    },
    "colab": {
     "base_uri": "https://localhost:8080/"
    },
    "id": "yuluMA7k1qG-",
    "outputId": "57cc513a-f9ed-4bae-cdd4-f60513a43679"
   },
   "outputs": [
    {
     "data": {
      "text/plain": [
       "(12123, 1)"
      ]
     },
     "execution_count": 21,
     "metadata": {},
     "output_type": "execute_result"
    }
   ],
   "source": [
    "# Check the shape of Xtrain\n",
    "X_train.shape"
   ]
  },
  {
   "cell_type": "markdown",
   "metadata": {},
   "source": [
    "**LSTM Expect the data to be in 3 dimensions**"
   ]
  },
  {
   "cell_type": "code",
   "execution_count": 22,
   "metadata": {
    "ExecuteTime": {
     "end_time": "2021-08-31T09:28:04.479507Z",
     "start_time": "2021-08-31T09:28:04.372890Z"
    },
    "id": "_kY-m7XQ1qG_"
   },
   "outputs": [],
   "source": [
    "#LSTM Preprocessing\n",
    "X_tr_t = X_train.reshape(X_train.shape[0], 1, X_train.shape[1])\n",
    "X_tst_t = X_test.reshape(X_test.shape[0], 1, X_test.shape[1])"
   ]
  },
  {
   "cell_type": "code",
   "execution_count": 23,
   "metadata": {
    "ExecuteTime": {
     "end_time": "2021-08-31T09:28:04.558045Z",
     "start_time": "2021-08-31T09:28:04.489938Z"
    },
    "colab": {
     "base_uri": "https://localhost:8080/"
    },
    "id": "9jY7Puk31qG_",
    "outputId": "f1de7982-4ddf-406c-c69b-622c21e99658"
   },
   "outputs": [
    {
     "name": "stdout",
     "output_type": "stream",
     "text": [
      "(12123, 1, 1) (524, 1, 1)\n"
     ]
    },
    {
     "data": {
      "text/plain": [
       "array([[[0.01189794]],\n",
       "\n",
       "       [[0.01189794]],\n",
       "\n",
       "       [[0.01161124]],\n",
       "\n",
       "       [[0.01175459]],\n",
       "\n",
       "       [[0.01161124]]])"
      ]
     },
     "execution_count": 23,
     "metadata": {},
     "output_type": "execute_result"
    }
   ],
   "source": [
    "# Check the reshaped data\n",
    "\n",
    "print(X_tr_t.shape,X_tst_t.shape)\n",
    "X_tr_t[:5]"
   ]
  },
  {
   "cell_type": "markdown",
   "metadata": {
    "id": "fhuwTK_8B1tD"
   },
   "source": [
    "### Model Initialization and Training"
   ]
  },
  {
   "cell_type": "code",
   "execution_count": 35,
   "metadata": {
    "ExecuteTime": {
     "end_time": "2021-08-31T09:33:06.680473Z",
     "start_time": "2021-08-31T09:33:06.573758Z"
    },
    "colab": {
     "base_uri": "https://localhost:8080/"
    },
    "id": "3bB5nT_01qG_",
    "outputId": "aa2ffc78-2896-4c90-aa2b-64d05acafd03",
    "scrolled": false
   },
   "outputs": [
    {
     "name": "stdout",
     "output_type": "stream",
     "text": [
      "Model: \"sequential\"\n",
      "_________________________________________________________________\n",
      "Layer (type)                 Output Shape              Param #   \n",
      "=================================================================\n",
      "lstm (LSTM)                  (None, 50)                10400     \n",
      "_________________________________________________________________\n",
      "dense (Dense)                (None, 1)                 51        \n",
      "=================================================================\n",
      "Total params: 10,451\n",
      "Trainable params: 10,451\n",
      "Non-trainable params: 0\n",
      "_________________________________________________________________\n"
     ]
    }
   ],
   "source": [
    "from keras.layers import LSTM\n",
    "\n",
    "K.clear_session()\n",
    "model_lstm = Sequential()\n",
    "model_lstm.add(\n",
    "    LSTM(50,\n",
    "         input_shape=(1,X_train.shape[1]),\n",
    "         activation='relu',\n",
    "#          kernel_initializer='lecun_uniform',\n",
    "         return_sequences=False))\n",
    "model_lstm.add(Dense(1))\n",
    "model_lstm.summary()"
   ]
  },
  {
   "cell_type": "markdown",
   "metadata": {
    "id": "qZyCmNGJ1qHA"
   },
   "source": [
    "**Observation:As we can see from the above code, we have used 50 neurons in the LSTM cell with activation function relu, kernel initializer lecun_uniform, and return sequence False.**"
   ]
  },
  {
   "cell_type": "code",
   "execution_count": 36,
   "metadata": {
    "ExecuteTime": {
     "end_time": "2021-08-31T09:34:36.534904Z",
     "start_time": "2021-08-31T09:33:12.086920Z"
    },
    "colab": {
     "base_uri": "https://localhost:8080/"
    },
    "id": "KfZwbEJ81qHA",
    "outputId": "f5791f8d-106c-46b9-b86d-b319e91ff847"
   },
   "outputs": [
    {
     "name": "stdout",
     "output_type": "stream",
     "text": [
      "Epoch 1/100\n",
      "12123/12123 [==============================] - 15s 1ms/step - loss: 6.0406e-06 - rmse: 0.0019\n",
      "Epoch 2/100\n",
      "12123/12123 [==============================] - 14s 1ms/step - loss: 0.0024 - rmse: 0.0168\n",
      "Epoch 3/100\n",
      "12123/12123 [==============================] - 14s 1ms/step - loss: 0.0011 - rmse: 0.0151\n",
      "Epoch 4/100\n",
      "12123/12123 [==============================] - 14s 1ms/step - loss: 5.9882e-04 - rmse: 0.0135\n",
      "Epoch 5/100\n",
      "12123/12123 [==============================] - 14s 1ms/step - loss: 3.8728e-04 - rmse: 0.0124\n",
      "Epoch 6/100\n",
      "12123/12123 [==============================] - 14s 1ms/step - loss: 2.6026e-04 - rmse: 0.0115\n",
      "Epoch 00006: early stopping\n"
     ]
    }
   ],
   "source": [
    "# Compile the model with relavent metrics\n",
    "model_lstm.compile(\n",
    "    loss=tf.keras.metrics.mean_squared_error,\n",
    "    metrics=[tf.keras.metrics.RootMeanSquaredError(name='rmse')],\n",
    "    optimizer='adam')\n",
    "early_stop = EarlyStopping(monitor='loss', patience=5, verbose=1)\n",
    "\n",
    "# Train the model with Train data\n",
    "history_model_lstm = model_lstm.fit(X_tr_t,\n",
    "                                    y_train,\n",
    "                                    epochs=100,\n",
    "                                    batch_size=1,\n",
    "                                    verbose=1,\n",
    "                                    shuffle=False,\n",
    "                                    callbacks=[early_stop])"
   ]
  },
  {
   "cell_type": "markdown",
   "metadata": {
    "id": "k8aY2EXlDPm0"
   },
   "source": [
    "### Checking the Accuracy of LSTM Model "
   ]
  },
  {
   "cell_type": "code",
   "execution_count": 37,
   "metadata": {
    "ExecuteTime": {
     "end_time": "2021-08-31T09:35:12.217904Z",
     "start_time": "2021-08-31T09:35:11.425042Z"
    },
    "colab": {
     "base_uri": "https://localhost:8080/"
    },
    "id": "8ObVr76B1qHA",
    "outputId": "e6ff36a0-c08b-4d92-f4e1-e9d75e930b39"
   },
   "outputs": [
    {
     "name": "stdout",
     "output_type": "stream",
     "text": [
      " \u001b[7mOn Train Data\u001b[0m\n",
      "\n",
      "-----------------------\n",
      "The R2 score on the Train set is           :\t0.864\n",
      "The MAE on the Train set is                :\t5.789\n",
      "The RMSE on the Train set is               :\t7.360\n",
      "The Adjusted R2 score on the Train set is  :\t0.863\n",
      "The MAPE on Train set is                   :\t48.511 %\n",
      "\n",
      "\n",
      "\n",
      " \u001b[7mOn Test Data\u001b[0m\n",
      "\n",
      " ----------------------\n",
      "The R2 score on the Test set is            :\t0.979\n",
      "The Adjusted R2 score on the Test set is   :\t0.979\n",
      "The MAE on the Test set is                 :\t0.193\n",
      "The RMSE on the Test set is                :\t0.270\n",
      "The MAPE on the Test Set is                :\t0.264 %\n"
     ]
    }
   ],
   "source": [
    "# Calculating performance metrics on Train data\n",
    "\n",
    "y_train_pred_lstm = scaler.inverse_transform(model_lstm.predict(X_tr_t))\n",
    "iy_train = scaler.inverse_transform(y_train.reshape(12123, -1))\n",
    "train_mse = metrics.mean_squared_error(iy_train, y_train_pred_lstm)\n",
    "rmse_train = np.sqrt(train_mse)\n",
    "\n",
    "print(' \\033[7mOn Train Data\\033[0m\\n')\n",
    "print('-----------------------')\n",
    "print(\"The R2 score on the Train set is           :\\t{:0.3f}\".format(\n",
    "    r2_score(iy_train, y_train_pred_lstm)))\n",
    "print(\"The MAE on the Train set is                :\\t{:0.3f}\".format(\n",
    "    metrics.mean_absolute_error(iy_train, y_train_pred_lstm)))\n",
    "\n",
    "print(\"The RMSE on the Train set is               :\\t{:0.3f}\".format(\n",
    "    rmse_train))\n",
    "r2_train = r2_score(iy_train, y_train_pred_lstm)\n",
    "print(\"The Adjusted R2 score on the Train set is  :\\t{:0.3f}\".format(\n",
    "    adj_r2_score(r2_train, X_train.shape[0], X_train.shape[1])))\n",
    "print('The MAPE on Train set is                   :\\t{:.3f} %\\n'.format(\n",
    "    MAPE(iy_train, y_train_pred_lstm)))\n",
    "\n",
    "# Calculating performance metrics on Test data\n",
    "\n",
    "y_pred_test_lstm = scaler.inverse_transform(model_lstm.predict(X_tst_t))\n",
    "iy_test = scaler.inverse_transform(y_test.reshape(524, -1))\n",
    "test_mse = metrics.mean_squared_error(iy_test, y_pred_test_lstm)\n",
    "rmse_test = np.sqrt(test_mse)\n",
    "\n",
    "print('\\n\\n \\033[7mOn Test Data\\033[0m\\n')\n",
    "print(' ----------------------')\n",
    "print(\"The R2 score on the Test set is            :\\t{:0.3f}\".format(\n",
    "    r2_score(iy_test, y_pred_test_lstm)))\n",
    "r2_test = r2_score(iy_test, y_pred_test_lstm)\n",
    "print(\"The Adjusted R2 score on the Test set is   :\\t{:0.3f}\".format(\n",
    "    adj_r2_score(r2_test, X_test.shape[0], X_test.shape[1])))\n",
    "print(\"The MAE on the Test set is                 :\\t{:0.3f}\".format(\n",
    "    metrics.mean_absolute_error(iy_test, y_pred_test_lstm)))\n",
    "print(\"The RMSE on the Test set is                :\\t{:0.3f}\".format(\n",
    "    rmse_test))\n",
    "print('The MAPE on the Test Set is                :\\t{:.3f} %'.format(\n",
    "    MAPE(iy_test, y_pred_test_lstm)))"
   ]
  },
  {
   "cell_type": "markdown",
   "metadata": {
    "id": "aoHKCPvHDZcV"
   },
   "source": [
    "### Plotting the prediction vs Actual on Test Data"
   ]
  },
  {
   "cell_type": "code",
   "execution_count": 27,
   "metadata": {
    "ExecuteTime": {
     "end_time": "2021-08-31T09:29:38.301907Z",
     "start_time": "2021-08-31T09:29:38.145298Z"
    },
    "colab": {
     "base_uri": "https://localhost:8080/",
     "height": 241
    },
    "id": "1TEW6iWV1qHB",
    "outputId": "f384606f-c070-4e6a-992b-e938ff3b4b20",
    "scrolled": false
   },
   "outputs": [
    {
     "data": {
      "image/png": "[encoded data removed]",
      "text/plain": [
       "<Figure size 864x216 with 1 Axes>"
      ]
     },
     "metadata": {
      "needs_background": "light"
     },
     "output_type": "display_data"
    }
   ],
   "source": [
    "plt.figure(figsize=(12, 3))\n",
    "plt.plot(iy_test, label='True')\n",
    "plt.plot(y_pred_test_lstm, label='LSTM')\n",
    "plt.title(\"LSTM's_Prediction - Test Data\")\n",
    "plt.xlabel('Observation')\n",
    "plt.ylabel('INR_Scaled')\n",
    "plt.legend()\n",
    "plt.show()"
   ]
  },
  {
   "cell_type": "markdown",
   "metadata": {
    "id": "ruwB0lzaDgoA"
   },
   "source": [
    "### Plotting Prediction vs Actuals on Train Data"
   ]
  },
  {
   "cell_type": "code",
   "execution_count": 28,
   "metadata": {
    "ExecuteTime": {
     "end_time": "2021-08-31T09:29:38.477438Z",
     "start_time": "2021-08-31T09:29:38.303870Z"
    },
    "colab": {
     "base_uri": "https://localhost:8080/",
     "height": 241
    },
    "id": "cZ4x2lzwcYZw",
    "outputId": "125a7062-cbaf-40c1-e19d-aacd57c248c8"
   },
   "outputs": [
    {
     "data": {
      "image/png": "[encoded data removed]",
      "text/plain": [
       "<Figure size 864x216 with 1 Axes>"
      ]
     },
     "metadata": {
      "needs_background": "light"
     },
     "output_type": "display_data"
    }
   ],
   "source": [
    "plt.figure(figsize=(12, 3))\n",
    "plt.plot(iy_train, label='True')\n",
    "plt.plot(y_train_pred_lstm, label='LSTM')\n",
    "plt.title(\"LSTM's_Prediction - Train Data\")\n",
    "plt.xlabel('Observation')\n",
    "plt.ylabel('INR_Scaled')\n",
    "plt.legend()\n",
    "plt.show()"
   ]
  },
  {
   "cell_type": "markdown",
   "metadata": {
    "id": "kOnUfD2L1qHB"
   },
   "source": [
    "As we can see from above plot, LSTM performs well for test data than ANN. IT can be ovserved that on Train data LSTM tries to keep the most recent information for prediction and predicts the nearterm better than the past. "
   ]
  },
  {
   "cell_type": "markdown",
   "metadata": {
    "id": "RxzUF6NQ1qHC"
   },
   "source": [
    "## Gated Recurrent Unit - GRU\n",
    "\n",
    "Gated Recurrent Unit (GRU) and LSTM both have the characterstics to retain the long term dependency of past sequence of events. The major difference between the two is LSTMs control the exposure of memory content (cell state) while GRUs expose the entire cell state to other units in the network.\n",
    "\n",
    "We can use the same data shape of LSTM for GRU hence we can directly prodeceed to model building."
   ]
  },
  {
   "cell_type": "markdown",
   "metadata": {},
   "source": [
    "### Initialization of GRU Model"
   ]
  },
  {
   "cell_type": "code",
   "execution_count": 50,
   "metadata": {
    "ExecuteTime": {
     "end_time": "2021-08-31T09:42:14.975830Z",
     "start_time": "2021-08-31T09:42:14.845683Z"
    },
    "colab": {
     "base_uri": "https://localhost:8080/"
    },
    "id": "pcJmmC3x1qHC",
    "outputId": "2b687ab6-9e23-4149-ae84-2a76bd779a11",
    "scrolled": true
   },
   "outputs": [
    {
     "name": "stdout",
     "output_type": "stream",
     "text": [
      "Model: \"sequential\"\n",
      "_________________________________________________________________\n",
      "Layer (type)                 Output Shape              Param #   \n",
      "=================================================================\n",
      "gru (GRU)                    (None, 7)                 210       \n",
      "_________________________________________________________________\n",
      "dense (Dense)                (None, 1)                 8         \n",
      "=================================================================\n",
      "Total params: 218\n",
      "Trainable params: 218\n",
      "Non-trainable params: 0\n",
      "_________________________________________________________________\n"
     ]
    }
   ],
   "source": [
    "#GRU\n",
    "from keras.layers import GRU\n",
    "\n",
    "K.clear_session()\n",
    "model_gru = Sequential()\n",
    "model_gru.add(\n",
    "    GRU(7,\n",
    "        input_shape=(1, X_train.shape[1]),\n",
    "        activation='linear',\n",
    "        kernel_initializer='lecun_uniform',\n",
    "        return_sequences=False))\n",
    "model_gru.add(Dense(1))\n",
    "model_gru.summary()"
   ]
  },
  {
   "cell_type": "markdown",
   "metadata": {
    "id": "PDwoRNpU1qHD"
   },
   "source": [
    "**We have build a light weight GRU model having only 7 neurons in hidden layer due to which total model parameters are only 218**"
   ]
  },
  {
   "cell_type": "code",
   "execution_count": 51,
   "metadata": {
    "ExecuteTime": {
     "end_time": "2021-08-31T09:44:16.493959Z",
     "start_time": "2021-08-31T09:42:57.012398Z"
    },
    "colab": {
     "base_uri": "https://localhost:8080/"
    },
    "id": "-AJ17jBR1qHD",
    "outputId": "44176695-2264-45d2-c183-bcc4dd2eb2f3"
   },
   "outputs": [
    {
     "name": "stdout",
     "output_type": "stream",
     "text": [
      "Epoch 1/100\n",
      "12123/12123 [==============================] - 14s 1ms/step - loss: 4.9807e-06 - rmse: 0.0021\n",
      "Epoch 2/100\n",
      "12123/12123 [==============================] - 13s 1ms/step - loss: 4.1834e-04 - rmse: 0.0071\n",
      "Epoch 3/100\n",
      "12123/12123 [==============================] - 13s 1ms/step - loss: 2.2075e-04 - rmse: 0.0066\n",
      "Epoch 4/100\n",
      "12123/12123 [==============================] - 13s 1ms/step - loss: 1.4850e-04 - rmse: 0.0062\n",
      "Epoch 5/100\n",
      "12123/12123 [==============================] - 13s 1ms/step - loss: 1.1759e-04 - rmse: 0.0059\n",
      "Epoch 6/100\n",
      "12123/12123 [==============================] - 13s 1ms/step - loss: 1.0277e-04 - rmse: 0.0057\n",
      "Epoch 00006: early stopping\n"
     ]
    }
   ],
   "source": [
    "# Compile the model with relavent parametres\n",
    "\n",
    "model_gru.compile(loss=tf.keras.metrics.mean_squared_error,\n",
    "                  metrics=[tf.keras.metrics.RootMeanSquaredError(name='rmse')],\n",
    "                  optimizer='adam')\n",
    "early_stop = EarlyStopping(monitor='loss', patience=5, verbose=1)\n",
    "\n",
    "# Train the model\n",
    "history_model_gru = model_gru.fit(X_tr_t,\n",
    "                                  y_train,\n",
    "                                  epochs=100,\n",
    "                                  batch_size=1,\n",
    "                                  verbose=1,\n",
    "                                  shuffle=False,\n",
    "                                  callbacks=[early_stop])"
   ]
  },
  {
   "cell_type": "markdown",
   "metadata": {
    "id": "-6jJgujlEq_H"
   },
   "source": [
    "### Check the accuracy on both train and test"
   ]
  },
  {
   "cell_type": "code",
   "execution_count": 52,
   "metadata": {
    "ExecuteTime": {
     "end_time": "2021-08-31T09:44:48.916201Z",
     "start_time": "2021-08-31T09:44:48.187754Z"
    },
    "colab": {
     "base_uri": "https://localhost:8080/"
    },
    "id": "RBfpG2FM1qHD",
    "outputId": "31b2f97b-47b3-4220-e520-cbf61ef6b563"
   },
   "outputs": [
    {
     "name": "stdout",
     "output_type": "stream",
     "text": [
      "\n",
      " \u001b[7mThe Score on Train Data\u001b[0m\n",
      " ----------------------\n",
      "The R2 score on the Train set is            :\t0.916\n",
      "The  MAE on the Train set is                :\t4.536\n",
      "The  RMSE on the Train set is               :\t5.777\n",
      "The Adjusted R2 score on the Train set is   :\t0.916\n",
      "The MAPE on the Train set is                :\t38.116 %\n",
      "\n",
      "\n",
      "\n",
      " \u001b[7mThe Score on Test Data\u001b[0m\n",
      " ---------------------\n",
      "The R2 score on the Test set is             :\t0.980\n",
      "The Adjusted R2 score on the Test set is    :\t0.980\n",
      "The  MAE on the Test set is                 :\t0.188\n",
      "The  RMSE on the Test set is                :\t0.263\n",
      "The MAPE on Test set is                     :\t0.257 %\n"
     ]
    }
   ],
   "source": [
    "# Calculating the performance metrics for test data\n",
    "\n",
    "y_train_pred_gru = scaler.inverse_transform(model_gru.predict(X_tr_t))\n",
    "train_mse = metrics.mean_squared_error(iy_train, y_train_pred_gru)\n",
    "rmse_train = np.sqrt(train_mse)\n",
    "\n",
    "print('\\n \\033[7mThe Score on Train Data\\033[0m')\n",
    "print(' ----------------------')\n",
    "\n",
    "print(\"The R2 score on the Train set is            :\\t{:0.3f}\".format(\n",
    "    r2_score(iy_train, y_train_pred_gru)))\n",
    "print(\"The  MAE on the Train set is                :\\t{:0.3f}\".format(\n",
    "    metrics.mean_absolute_error(iy_train, y_train_pred_gru)))\n",
    "\n",
    "print(\"The  RMSE on the Train set is               :\\t{:0.3f}\".format(rmse_train))\n",
    "r2_train = r2_score(iy_train, y_train_pred_gru)\n",
    "print(\"The Adjusted R2 score on the Train set is   :\\t{:0.3f}\".format(\n",
    "    adj_r2_score(r2_train, X_train.shape[0], X_train.shape[1])))\n",
    "print('The MAPE on the Train set is                :\\t{:.3f} %\\n'.format(\n",
    "    MAPE(iy_train,y_train_pred_gru)))\n",
    "\n",
    "# Calculating the performance metrics for test data\n",
    "\n",
    "y_pred_test_gru = scaler.inverse_transform(model_gru.predict(X_tst_t))\n",
    "test_mse = metrics.mean_squared_error(iy_test, y_pred_test_gru)\n",
    "rmse_test = np.sqrt(test_mse)\n",
    "\n",
    "print('\\n\\n \\033[7mThe Score on Test Data\\033[0m')\n",
    "print(' ---------------------')\n",
    "print(\"The R2 score on the Test set is             :\\t{:0.3f}\".format(\n",
    "    r2_score(iy_test, y_pred_test_gru)))\n",
    "r2_test = r2_score(iy_test, y_pred_test_gru)\n",
    "print(\"The Adjusted R2 score on the Test set is    :\\t{:0.3f}\".format(\n",
    "    adj_r2_score(r2_test, X_test.shape[0], X_test.shape[1])))\n",
    "print(\"The  MAE on the Test set is                 :\\t{:0.3f}\".format(\n",
    "    metrics.mean_absolute_error(iy_test, y_pred_test_gru)))\n",
    "print(\"The  RMSE on the Test set is                :\\t{:0.3f}\".format(rmse_test))\n",
    "print('The MAPE on Test set is                     :\\t{:.3f} %'.format(\n",
    "    MAPE(iy_test,y_pred_test_gru)))"
   ]
  },
  {
   "cell_type": "markdown",
   "metadata": {
    "id": "ROhawTeCE1Qm"
   },
   "source": [
    "### plotting the prediction vs actuals on Test Data"
   ]
  },
  {
   "cell_type": "code",
   "execution_count": 53,
   "metadata": {
    "ExecuteTime": {
     "end_time": "2021-08-31T09:44:56.620602Z",
     "start_time": "2021-08-31T09:44:56.463251Z"
    },
    "colab": {
     "base_uri": "https://localhost:8080/",
     "height": 241
    },
    "id": "5ZMoRtAe1qHD",
    "outputId": "3d96f3b3-6fb4-4ab3-f568-034fd28fda96"
   },
   "outputs": [
    {
     "data": {
      "image/png": "[encoded data removed]",
      "text/plain": [
       "<Figure size 864x216 with 1 Axes>"
      ]
     },
     "metadata": {
      "needs_background": "light"
     },
     "output_type": "display_data"
    }
   ],
   "source": [
    "#GRU Prediction PLot\n",
    "plt.figure(figsize=(12, 3))\n",
    "plt.plot(iy_test, label='True')\n",
    "plt.plot(y_pred_test_gru, label='GRU')\n",
    "plt.title(\"GRU's_Prediction - Test Data\")\n",
    "plt.xlabel('Observation')\n",
    "plt.ylabel('INR_Scaled')\n",
    "plt.legend()\n",
    "plt.show()"
   ]
  },
  {
   "cell_type": "markdown",
   "metadata": {
    "id": "d2rWcFaTE7ae"
   },
   "source": [
    "### Plotting the Prediction vs Actuals on the Train Data"
   ]
  },
  {
   "cell_type": "code",
   "execution_count": 33,
   "metadata": {
    "ExecuteTime": {
     "end_time": "2021-08-31T09:30:59.218207Z",
     "start_time": "2021-08-31T09:30:59.047232Z"
    },
    "colab": {
     "base_uri": "https://localhost:8080/",
     "height": 241
    },
    "id": "MB5U17uQ1qHE",
    "outputId": "b843fdce-3fb7-499f-9e96-03fd8c46be64"
   },
   "outputs": [
    {
     "data": {
      "image/png": "[encoded data removed]",
      "text/plain": [
       "<Figure size 864x216 with 1 Axes>"
      ]
     },
     "metadata": {
      "needs_background": "light"
     },
     "output_type": "display_data"
    }
   ],
   "source": [
    "plt.figure(figsize=(12, 3))\n",
    "plt.plot(iy_train, label='True')\n",
    "plt.plot(y_train_pred_gru, label='GRU')\n",
    "plt.title(\"GRU's_Prediction - Train Data\")\n",
    "plt.xlabel('Observation')\n",
    "plt.ylabel('INR_Scaled')\n",
    "\n",
    "plt.legend()\n",
    "plt.show()"
   ]
  },
  {
   "cell_type": "code",
   "execution_count": 54,
   "metadata": {
    "ExecuteTime": {
     "end_time": "2021-08-31T09:46:02.284739Z",
     "start_time": "2021-08-31T09:46:02.266799Z"
    },
    "colab": {
     "base_uri": "https://localhost:8080/"
    },
    "id": "HkmIQx971qHE",
    "outputId": "101f523e-7fb6-45b4-c597-92e88a59d18b"
   },
   "outputs": [
    {
     "name": "stdout",
     "output_type": "stream",
     "text": [
      "\n",
      " \u001b[7mComparing all the Neural Network Models\u001b[0m\n",
      " ---------------------------------------\n",
      "\n",
      "\"The MAPE on ANN model is \t: \t 0.784%\"\n",
      "\"The MAPE on GRU model is \t: \t 0.257%\"\n",
      "\"The MAPE on LSTM model is \t: \t 0.264%\"\n"
     ]
    }
   ],
   "source": [
    "print('\\n \\033[7mComparing all the Neural Network Models\\033[0m')\n",
    "print(' ---------------------------------------\\n')\n",
    "\n",
    "print('''\"The MAPE on ANN model is \\t: \\t 0.784%\"\n",
    "\"The MAPE on GRU model is \\t: \\t 0.257%\"\n",
    "\"The MAPE on LSTM model is \\t: \\t 0.264%\"''')"
   ]
  },
  {
   "cell_type": "markdown",
   "metadata": {
    "id": "8ZyAmjfIFm4L"
   },
   "source": [
    "# Building the final model with full data -> see another notebook"
   ]
  }
 ],
 "metadata": {
  "colab": {
   "collapsed_sections": [],
   "name": "ANN_LSTM_GRU_FINAL.ipynb",
   "provenance": []
  },
  "hide_input": false,
  "kernelspec": {
   "display_name": "Python 3",
   "language": "python",
   "name": "python3"
  },
  "language_info": {
   "codemirror_mode": {
    "name": "ipython",
    "version": 3
   },
   "file_extension": ".py",
   "mimetype": "text/x-python",
   "name": "python",
   "nbconvert_exporter": "python",
   "pygments_lexer": "ipython3",
   "version": "3.8.10"
  },
  "toc": {
   "base_numbering": 1,
   "nav_menu": {},
   "number_sections": true,
   "sideBar": true,
   "skip_h1_title": false,
   "title_cell": "Table of Contents",
   "title_sidebar": "Contents",
   "toc_cell": false,
   "toc_position": {},
   "toc_section_display": true,
   "toc_window_display": false
  },
  "varInspector": {
   "cols": {
    "lenName": 16,
    "lenType": 16,
    "lenVar": 40
   },
   "kernels_config": {
    "python": {
     "delete_cmd_postfix": "",
     "delete_cmd_prefix": "del ",
     "library": "var_list.py",
     "varRefreshCmd": "print(var_dic_list())"
    },
    "r": {
     "delete_cmd_postfix": ") ",
     "delete_cmd_prefix": "rm(",
     "library": "var_list.r",
     "varRefreshCmd": "cat(var_dic_list()) "
    }
   },
   "types_to_exclude": [
    "module",
    "function",
    "builtin_function_or_method",
    "instance",
    "_Feature"
   ],
   "window_display": false
  }
 },
 "nbformat": 4,
 "nbformat_minor": 1
}
