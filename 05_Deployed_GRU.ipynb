{
 "cells": [
  {
   "cell_type": "markdown",
   "metadata": {
    "id": "76nzQIBCHKww"
   },
   "source": [
    "# Import libraries & Read Data"
   ]
  },
  {
   "cell_type": "code",
   "execution_count": 1,
   "metadata": {
    "ExecuteTime": {
     "end_time": "2021-08-31T11:07:09.745078Z",
     "start_time": "2021-08-31T11:07:04.394540Z"
    },
    "id": "pamNB90zl6NZ"
   },
   "outputs": [],
   "source": [
    "import numpy as np\n",
    "import pandas as pd\n",
    "import matplotlib.pyplot as plt\n",
    "%matplotlib inline\n",
    "import matplotlib\n",
    "from datetime import datetime, timedelta, date\n",
    "from statsmodels.graphics.tsaplots import plot_acf\n",
    "from statsmodels.graphics.tsaplots import plot_pacf\n",
    "\n",
    "from statsmodels.tsa.stattools import adfuller\n",
    "from statsmodels.tsa.seasonal import seasonal_decompose\n",
    "\n",
    "import sklearn.metrics as metrics\n",
    "from sklearn.metrics import mean_squared_error as MSE\n",
    "# from sklearn.metrics import mean_absolute_percentage_error as MAPE\n",
    "from sklearn.metrics import r2_score\n",
    "\n",
    "import tensorflow as tf\n",
    "from keras.models import Sequential\n",
    "from keras.layers import Dense\n",
    "# from keras.optimizers import adam_v2\n",
    "import keras.backend as K\n",
    "from keras import layers\n",
    "from keras.initializers import Zeros\n",
    "from keras.callbacks import EarlyStopping\n",
    "from keras.models import load_model\n",
    "from keras.layers import Dropout\n",
    "from pickle import dump\n",
    "\n",
    "# Set random seed\n",
    "np.random.seed(0)\n",
    "\n",
    "def adj_r2_score(r2, n, k):\n",
    "    return 1 - ((1 - r2) * ((n - 1) / (n - k - 1)))"
   ]
  },
  {
   "cell_type": "code",
   "execution_count": 2,
   "metadata": {
    "ExecuteTime": {
     "end_time": "2021-08-31T11:07:09.760747Z",
     "start_time": "2021-08-31T11:07:09.745078Z"
    },
    "id": "4XzBK3M8mP3a"
   },
   "outputs": [],
   "source": [
    "# Set figure size for all matplotlib figures\n",
    "fig_size = plt.rcParams[\"figure.figsize\"]\n",
    "fig_size[0] = 10\n",
    "fig_size[1] = 5"
   ]
  },
  {
   "cell_type": "code",
   "execution_count": 3,
   "metadata": {
    "ExecuteTime": {
     "end_time": "2021-08-31T11:07:10.092298Z",
     "start_time": "2021-08-31T11:07:09.764662Z"
    },
    "colab": {
     "base_uri": "https://localhost:8080/",
     "height": 388
    },
    "id": "Vw0-0V3-mPd7",
    "outputId": "db2c0b77-e593-490b-b07f-32b04481af91"
   },
   "outputs": [
    {
     "data": {
      "text/html": [
       "<div>\n",
       "<style scoped>\n",
       "    .dataframe tbody tr th:only-of-type {\n",
       "        vertical-align: middle;\n",
       "    }\n",
       "\n",
       "    .dataframe tbody tr th {\n",
       "        vertical-align: top;\n",
       "    }\n",
       "\n",
       "    .dataframe thead th {\n",
       "        text-align: right;\n",
       "    }\n",
       "</style>\n",
       "<table border=\"1\" class=\"dataframe\">\n",
       "  <thead>\n",
       "    <tr style=\"text-align: right;\">\n",
       "      <th></th>\n",
       "      <th>DEXINUS</th>\n",
       "    </tr>\n",
       "    <tr>\n",
       "      <th>observation_date</th>\n",
       "      <th></th>\n",
       "    </tr>\n",
       "  </thead>\n",
       "  <tbody>\n",
       "    <tr>\n",
       "      <th>1973-01-02</th>\n",
       "      <td>8.02</td>\n",
       "    </tr>\n",
       "    <tr>\n",
       "      <th>1973-01-03</th>\n",
       "      <td>8.02</td>\n",
       "    </tr>\n",
       "    <tr>\n",
       "      <th>1973-01-04</th>\n",
       "      <td>8.00</td>\n",
       "    </tr>\n",
       "    <tr>\n",
       "      <th>1973-01-05</th>\n",
       "      <td>8.01</td>\n",
       "    </tr>\n",
       "    <tr>\n",
       "      <th>1973-01-08</th>\n",
       "      <td>8.00</td>\n",
       "    </tr>\n",
       "    <tr>\n",
       "      <th>1973-01-09</th>\n",
       "      <td>8.00</td>\n",
       "    </tr>\n",
       "    <tr>\n",
       "      <th>1973-01-10</th>\n",
       "      <td>8.00</td>\n",
       "    </tr>\n",
       "    <tr>\n",
       "      <th>1973-01-11</th>\n",
       "      <td>8.00</td>\n",
       "    </tr>\n",
       "    <tr>\n",
       "      <th>1973-01-12</th>\n",
       "      <td>8.00</td>\n",
       "    </tr>\n",
       "    <tr>\n",
       "      <th>1973-01-15</th>\n",
       "      <td>8.00</td>\n",
       "    </tr>\n",
       "  </tbody>\n",
       "</table>\n",
       "</div>"
      ],
      "text/plain": [
       "                  DEXINUS\n",
       "observation_date         \n",
       "1973-01-02           8.02\n",
       "1973-01-03           8.02\n",
       "1973-01-04           8.00\n",
       "1973-01-05           8.01\n",
       "1973-01-08           8.00\n",
       "1973-01-09           8.00\n",
       "1973-01-10           8.00\n",
       "1973-01-11           8.00\n",
       "1973-01-12           8.00\n",
       "1973-01-15           8.00"
      ]
     },
     "execution_count": 3,
     "metadata": {},
     "output_type": "execute_result"
    }
   ],
   "source": [
    "df = pd.read_excel( r'C:\\Users\\MMM-SM\\21Pypractice\\project\\DEXINUS.xls',\n",
    "                   skiprows=10,\n",
    "                   index_col=[0],\n",
    "                   parse_dates=True)\n",
    "df.head(10)"
   ]
  },
  {
   "cell_type": "code",
   "execution_count": 4,
   "metadata": {
    "ExecuteTime": {
     "end_time": "2021-08-31T11:07:10.123608Z",
     "start_time": "2021-08-31T11:07:10.094296Z"
    },
    "colab": {
     "base_uri": "https://localhost:8080/",
     "height": 598
    },
    "id": "zLp2qzueV1pi",
    "outputId": "d1c271d1-b083-4d80-b644-81f7016451ca"
   },
   "outputs": [
    {
     "name": "stdout",
     "output_type": "stream",
     "text": [
      "<class 'pandas.core.frame.DataFrame'>\n",
      "DatetimeIndex: 12649 entries, 1973-01-02 to 2021-06-25\n",
      "Data columns (total 1 columns):\n",
      " #   Column   Non-Null Count  Dtype  \n",
      "---  ------   --------------  -----  \n",
      " 0   DEXINUS  12155 non-null  float64\n",
      "dtypes: float64(1)\n",
      "memory usage: 197.6 KB\n",
      "None\n"
     ]
    }
   ],
   "source": [
    "print(df.info())"
   ]
  },
  {
   "cell_type": "code",
   "execution_count": 5,
   "metadata": {
    "ExecuteTime": {
     "end_time": "2021-08-31T11:07:10.279211Z",
     "start_time": "2021-08-31T11:07:10.126559Z"
    },
    "id": "Z2kZ6T-dmPIa"
   },
   "outputs": [],
   "source": [
    "#Fill missing values using interpolation\n",
    "df['DEXINUS'].interpolate(method='linear',\n",
    "                          limit_direction='forward',\n",
    "                          inplace=True)"
   ]
  },
  {
   "cell_type": "code",
   "execution_count": 6,
   "metadata": {
    "ExecuteTime": {
     "end_time": "2021-08-31T11:07:10.326112Z",
     "start_time": "2021-08-31T11:07:10.283235Z"
    },
    "colab": {
     "base_uri": "https://localhost:8080/"
    },
    "id": "NGs0KOB1tuaR",
    "outputId": "1de727ca-277d-4310-a627-2812db473bc8"
   },
   "outputs": [
    {
     "name": "stdout",
     "output_type": "stream",
     "text": [
      "<class 'pandas.core.frame.DataFrame'>\n",
      "DatetimeIndex: 12649 entries, 1973-01-02 to 2021-06-25\n",
      "Data columns (total 1 columns):\n",
      " #   Column   Non-Null Count  Dtype  \n",
      "---  ------   --------------  -----  \n",
      " 0   DEXINUS  12649 non-null  float64\n",
      "dtypes: float64(1)\n",
      "memory usage: 197.6 KB\n"
     ]
    }
   ],
   "source": [
    "df.info()"
   ]
  },
  {
   "cell_type": "markdown",
   "metadata": {
    "id": "nrDAzod0HTo1"
   },
   "source": [
    "# Prepare the data for GRU\n",
    "\n",
    "1.   Apply min max scaler to scale down the data between 0-1\n",
    "2.   reshape the data\n",
    "\n"
   ]
  },
  {
   "cell_type": "code",
   "execution_count": 7,
   "metadata": {
    "ExecuteTime": {
     "end_time": "2021-08-31T11:07:10.357961Z",
     "start_time": "2021-08-31T11:07:10.331098Z"
    },
    "colab": {
     "base_uri": "https://localhost:8080/"
    },
    "id": "9qXcI58ZmorO",
    "outputId": "f645e5ed-2210-4423-f710-2c0e8301ddc0"
   },
   "outputs": [
    {
     "data": {
      "text/plain": [
       "array([[0.01189794],\n",
       "       [0.01189794],\n",
       "       [0.01161124],\n",
       "       ...,\n",
       "       [0.95957569],\n",
       "       [0.95971904],\n",
       "       [0.95971904]])"
      ]
     },
     "execution_count": 7,
     "metadata": {},
     "output_type": "execute_result"
    }
   ],
   "source": [
    "from sklearn.preprocessing import MinMaxScaler\n",
    "scaler = MinMaxScaler()\n",
    "scaler.fit(df)\n",
    "data1 = scaler.transform(df)\n",
    "data1"
   ]
  },
  {
   "cell_type": "code",
   "execution_count": 8,
   "metadata": {
    "ExecuteTime": {
     "end_time": "2021-08-31T11:07:10.389876Z",
     "start_time": "2021-08-31T11:07:10.360953Z"
    },
    "colab": {
     "base_uri": "https://localhost:8080/"
    },
    "id": "CtjCIJaqmonm",
    "outputId": "e02948a4-73a1-47e5-d53a-93bce86dc1e2"
   },
   "outputs": [
    {
     "data": {
      "text/plain": [
       "7431"
      ]
     },
     "execution_count": 8,
     "metadata": {},
     "output_type": "execute_result"
    }
   ],
   "source": [
    "data3 = list(data1[12649-7431:].reshape(7431))\n",
    "len(data3)"
   ]
  },
  {
   "cell_type": "code",
   "execution_count": 9,
   "metadata": {
    "ExecuteTime": {
     "end_time": "2021-08-31T11:07:10.421791Z",
     "start_time": "2021-08-31T11:07:10.391871Z"
    },
    "id": "eSMfsl31uBjq"
   },
   "outputs": [],
   "source": [
    "## Making the lagged arrays\n",
    "\n",
    "def gen_XY(t_list, size):\n",
    "    '''\n",
    "    Generates an autoregressive lagged array.\n",
    "    \n",
    "    Parameters\n",
    "    ----------\n",
    "    1. t_list: (list) Data to generate an autoregressive array out of.\n",
    "    2. size: (int) Number of lagged values to consider.\n",
    "    \n",
    "    Returns\n",
    "    ----------\n",
    "    1. X: (np.ndarray) Autoregressive feature array.\n",
    "    2. Y.T: (np.ndarray) Column array with values of response variable.\n",
    "    \n",
    "    '''\n",
    "    X = np.zeros([1, size])\n",
    "    Y = []\n",
    "    temp_list = []\n",
    "    for i in range(len(t_list) - size):\n",
    "        add_list = t_list[i:i + size]\n",
    "        target = t_list[i + size]\n",
    "        X = np.append(X, np.array([add_list]), axis=0)\n",
    "        Y.append(target)\n",
    "\n",
    "    X = np.delete(X, 0, axis=0)\n",
    "    Y = np.array(Y)\n",
    "\n",
    "    return X, Y.T"
   ]
  },
  {
   "cell_type": "code",
   "execution_count": 10,
   "metadata": {
    "ExecuteTime": {
     "end_time": "2021-08-31T11:07:10.516864Z",
     "start_time": "2021-08-31T11:07:10.423785Z"
    },
    "id": "I4IFdRrdmoht"
   },
   "outputs": [],
   "source": [
    "size = 1\n",
    "X_train3, y_train3 = gen_XY(data3, size)"
   ]
  },
  {
   "cell_type": "code",
   "execution_count": 11,
   "metadata": {
    "ExecuteTime": {
     "end_time": "2021-08-31T11:07:10.532864Z",
     "start_time": "2021-08-31T11:07:10.517869Z"
    },
    "colab": {
     "base_uri": "https://localhost:8080/"
    },
    "id": "MhrQ76x6fHs6",
    "outputId": "def417d8-71a0-4002-f270-24fce2e6e30b"
   },
   "outputs": [
    {
     "data": {
      "text/plain": [
       "(7430, 1)"
      ]
     },
     "execution_count": 11,
     "metadata": {},
     "output_type": "execute_result"
    }
   ],
   "source": [
    "X_train3.shape"
   ]
  },
  {
   "cell_type": "code",
   "execution_count": 12,
   "metadata": {
    "ExecuteTime": {
     "end_time": "2021-08-31T11:07:10.579827Z",
     "start_time": "2021-08-31T11:07:10.533827Z"
    },
    "colab": {
     "base_uri": "https://localhost:8080/"
    },
    "id": "qP0ogtI_moTU",
    "outputId": "f1c88bb5-2bcf-44c3-b58f-5b988f2b2e4d"
   },
   "outputs": [
    {
     "name": "stdout",
     "output_type": "stream",
     "text": [
      "(7430, 1, 1)\n"
     ]
    },
    {
     "data": {
      "text/plain": [
       "array([[[0.31264335]],\n",
       "\n",
       "       [[0.31264335]]])"
      ]
     },
     "execution_count": 12,
     "metadata": {},
     "output_type": "execute_result"
    }
   ],
   "source": [
    "#LSTM Preprocessing\n",
    "X_tr_t3 = X_train3.reshape(X_train3.shape[0], 1, X_train3.shape[1])\n",
    "# X_tr_t3 = X_train3.reshape(X_train3.shape[0],10, 20)\n",
    "print(X_tr_t3.shape)\n",
    "X_tr_t3[:2]"
   ]
  },
  {
   "cell_type": "markdown",
   "metadata": {
    "id": "CNQ6jjitTBLy"
   },
   "source": [
    "# Build and train the model"
   ]
  },
  {
   "cell_type": "code",
   "execution_count": 13,
   "metadata": {
    "ExecuteTime": {
     "end_time": "2021-08-31T11:07:10.735491Z",
     "start_time": "2021-08-31T11:07:10.582856Z"
    },
    "colab": {
     "base_uri": "https://localhost:8080/"
    },
    "id": "g6wc1JvVmoMk",
    "outputId": "f79f95cd-6859-4bda-aa13-9c5c3b3d6f88"
   },
   "outputs": [
    {
     "name": "stdout",
     "output_type": "stream",
     "text": [
      "Model: \"sequential\"\n",
      "_________________________________________________________________\n",
      "Layer (type)                 Output Shape              Param #   \n",
      "=================================================================\n",
      "gru (GRU)                    (None, 7)                 210       \n",
      "_________________________________________________________________\n",
      "dense (Dense)                (None, 1)                 8         \n",
      "=================================================================\n",
      "Total params: 218\n",
      "Trainable params: 218\n",
      "Non-trainable params: 0\n",
      "_________________________________________________________________\n"
     ]
    }
   ],
   "source": [
    "from keras.layers import GRU\n",
    "\n",
    "K.clear_session()\n",
    "model_GRU = Sequential()\n",
    "model_GRU.add(\n",
    "    GRU(7,\n",
    "         input_shape=(1,X_train3.shape[1]),\n",
    "         activation='relu',\n",
    "         kernel_initializer='lecun_uniform',\n",
    "         return_sequences=False))\n",
    "model_GRU.add(Dense(1))\n",
    "model_GRU.summary()"
   ]
  },
  {
   "cell_type": "code",
   "execution_count": 14,
   "metadata": {
    "ExecuteTime": {
     "end_time": "2021-08-31T11:08:05.594993Z",
     "start_time": "2021-08-31T11:07:10.737453Z"
    },
    "colab": {
     "base_uri": "https://localhost:8080/"
    },
    "id": "FB2lBUqxmoFE",
    "outputId": "f3659dfe-2f9c-484c-b2a0-b4ac8bdefff0"
   },
   "outputs": [
    {
     "name": "stdout",
     "output_type": "stream",
     "text": [
      "Epoch 1/100\n",
      "743/743 [==============================] - 19s 1ms/step - loss: 0.0170 - rmse: 0.1724\n",
      "Epoch 2/100\n",
      "743/743 [==============================] - 1s 1ms/step - loss: 0.0015 - rmse: 0.0634\n",
      "Epoch 3/100\n",
      "743/743 [==============================] - 1s 1ms/step - loss: 9.1936e-04 - rmse: 0.0481 - loss: 0.0024 - rmse:  - ETA: 0s - loss: 0.0017 - rmse: 0. - ETA: 0s - loss: 0.0014 \n",
      "Epoch 4/100\n",
      "743/743 [==============================] - 1s 1ms/step - loss: 5.9056e-04 - rmse: 0.0405\n",
      "Epoch 5/100\n",
      "743/743 [==============================] - 1s 1ms/step - loss: 3.8896e-04 - rmse: 0.0357\n",
      "Epoch 6/100\n",
      "743/743 [==============================] - 1s 1ms/step - loss: 2.6677e-04 - rmse: 0.0323\n",
      "Epoch 7/100\n",
      "743/743 [==============================] - 1s 1ms/step - loss: 1.9340e-04 - rmse: 0.0298\n",
      "Epoch 8/100\n",
      "743/743 [==============================] - 1s 1ms/step - loss: 1.4107e-04 - rmse: 0.0277\n",
      "Epoch 9/100\n",
      "743/743 [==============================] - 1s 1ms/step - loss: 1.0253e-04 - rmse: 0.0261\n",
      "Epoch 10/100\n",
      "743/743 [==============================] - 1s 1ms/step - loss: 7.9831e-05 - rmse: 0.0247\n",
      "Epoch 11/100\n",
      "743/743 [==============================] - 1s 1ms/step - loss: 6.5798e-05 - rmse: 0.0235\n",
      "Epoch 12/100\n",
      "743/743 [==============================] - 1s 1ms/step - loss: 5.6038e-05 - rmse: 0.0225\n",
      "Epoch 13/100\n",
      "743/743 [==============================] - 1s 1ms/step - loss: 5.0021e-05 - rmse: 0.0216\n",
      "Epoch 14/100\n",
      "743/743 [==============================] - 1s 1ms/step - loss: 4.6760e-05 - rmse: 0.0208\n",
      "Epoch 15/100\n",
      "743/743 [==============================] - 1s 1ms/step - loss: 4.4099e-05 - rmse: 0.0201\n",
      "Epoch 16/100\n",
      "743/743 [==============================] - 1s 1ms/step - loss: 4.2488e-05 - rmse: 0.0194\n",
      "Epoch 17/100\n",
      "743/743 [==============================] - 1s 1ms/step - loss: 4.0961e-05 - rmse: 0.0189\n",
      "Epoch 18/100\n",
      "743/743 [==============================] - 1s 1ms/step - loss: 3.9481e-05 - rmse: 0.0183\n",
      "Epoch 19/100\n",
      "743/743 [==============================] - 1s 1ms/step - loss: 3.8683e-05 - rmse: 0.0178\n",
      "Epoch 20/100\n",
      "743/743 [==============================] - 1s 1ms/step - loss: 3.7750e-05 - rmse: 0.0174\n",
      "Epoch 21/100\n",
      "743/743 [==============================] - 1s 1ms/step - loss: 3.7060e-05 - rmse: 0.0170\n",
      "Epoch 22/100\n",
      "743/743 [==============================] - 1s 1ms/step - loss: 3.5808e-05 - rmse: 0.0166\n",
      "Epoch 23/100\n",
      "743/743 [==============================] - 1s 1ms/step - loss: 3.5126e-05 - rmse: 0.0163\n",
      "Epoch 24/100\n",
      "743/743 [==============================] - 1s 1ms/step - loss: 3.5500e-05 - rmse: 0.0159: 0s - loss: 4.6907e-05 \n",
      "Epoch 25/100\n",
      "743/743 [==============================] - 1s 1ms/step - loss: 3.4855e-05 - rmse: 0.0156\n",
      "Epoch 26/100\n",
      "743/743 [==============================] - 1s 1ms/step - loss: 3.4342e-05 - rmse: 0.0153\n",
      "Epoch 27/100\n",
      "743/743 [==============================] - 1s 1ms/step - loss: 3.3912e-05 - rmse: 0.0151\n",
      "Epoch 28/100\n",
      "743/743 [==============================] - 1s 1ms/step - loss: 3.3272e-05 - rmse: 0.0148\n",
      "Epoch 29/100\n",
      "743/743 [==============================] - 1s 1ms/step - loss: 3.2983e-05 - rmse: 0.0146\n",
      "Epoch 30/100\n",
      "743/743 [==============================] - 1s 1ms/step - loss: 3.2604e-05 - rmse: 0.0143\n",
      "Epoch 31/100\n",
      "743/743 [==============================] - 1s 1ms/step - loss: 3.2318e-05 - rmse: 0.0141\n",
      "Epoch 32/100\n",
      "743/743 [==============================] - 1s 1ms/step - loss: 3.1816e-05 - rmse: 0.0139\n",
      "Epoch 33/100\n",
      "743/743 [==============================] - 1s 1ms/step - loss: 3.1352e-05 - rmse: 0.0137\n",
      "Epoch 34/100\n",
      "743/743 [==============================] - 1s 1ms/step - loss: 3.0934e-05 - rmse: 0.0135\n",
      "Epoch 35/100\n",
      "743/743 [==============================] - 1s 1ms/step - loss: 3.0178e-05 - rmse: 0.0133\n",
      "Epoch 36/100\n",
      "743/743 [==============================] - 1s 1ms/step - loss: 3.0182e-05 - rmse: 0.0132\n",
      "Epoch 37/100\n",
      "743/743 [==============================] - 1s 1ms/step - loss: 2.9757e-05 - rmse: 0.0130\n",
      "Epoch 38/100\n",
      "743/743 [==============================] - 1s 1ms/step - loss: 2.9352e-05 - rmse: 0.0128\n",
      "Epoch 39/100\n",
      "743/743 [==============================] - 1s 1ms/step - loss: 2.9287e-05 - rmse: 0.0127\n",
      "Epoch 40/100\n",
      "743/743 [==============================] - 1s 1ms/step - loss: 2.9122e-05 - rmse: 0.0125\n",
      "Epoch 41/100\n",
      "743/743 [==============================] - 1s 1ms/step - loss: 2.8899e-05 - rmse: 0.0124\n",
      "Epoch 42/100\n",
      "743/743 [==============================] - 1s 1ms/step - loss: 2.8680e-05 - rmse: 0.0123\n",
      "Epoch 43/100\n",
      "743/743 [==============================] - 1s 1ms/step - loss: 2.8762e-05 - rmse: 0.0121\n",
      "Epoch 00043: early stopping\n"
     ]
    }
   ],
   "source": [
    "model_GRU.compile(\n",
    "    loss=tf.keras.metrics.mean_squared_error,\n",
    "    metrics=[tf.keras.metrics.RootMeanSquaredError(name='rmse')],\n",
    "    optimizer='adam')\n",
    "early_stop = EarlyStopping(monitor='loss', patience=2, verbose=1)\n",
    "history_model_GRU = model_GRU.fit(X_tr_t3,\n",
    "                                    y_train3,\n",
    "                                    epochs=100,\n",
    "                                    batch_size=10,\n",
    "                                    verbose=1,\n",
    "                                    shuffle=False,\n",
    "                                    callbacks=[early_stop])"
   ]
  },
  {
   "cell_type": "code",
   "execution_count": 15,
   "metadata": {
    "ExecuteTime": {
     "end_time": "2021-08-31T11:08:05.663265Z",
     "start_time": "2021-08-31T11:08:05.596960Z"
    },
    "id": "wTEZvwCbvOmw"
   },
   "outputs": [],
   "source": [
    "model_GRU.save('GRU_model.h5')"
   ]
  },
  {
   "cell_type": "code",
   "execution_count": 16,
   "metadata": {
    "ExecuteTime": {
     "end_time": "2021-08-31T11:08:05.806484Z",
     "start_time": "2021-08-31T11:08:05.664014Z"
    },
    "colab": {
     "base_uri": "https://localhost:8080/"
    },
    "id": "yuFibU4dwATI",
    "outputId": "83a38752-c242-4962-c0ec-3b1124a45746"
   },
   "outputs": [],
   "source": [
    "from keras.models import load_model\n",
    "\n",
    "mod_GRU = load_model( r'C:\\Users\\MMM-SM\\21Pypractice\\project\\FinalSubmission\\GRU_model.h5')"
   ]
  },
  {
   "cell_type": "markdown",
   "metadata": {
    "id": "UbaBKV69THe6"
   },
   "source": [
    "# Check the accuracy"
   ]
  },
  {
   "cell_type": "code",
   "execution_count": 17,
   "metadata": {
    "ExecuteTime": {
     "end_time": "2021-08-31T11:08:06.594026Z",
     "start_time": "2021-08-31T11:08:05.807418Z"
    },
    "colab": {
     "base_uri": "https://localhost:8080/"
    },
    "id": "R4PmURMrw6TR",
    "outputId": "071e717a-008a-4772-cd9f-0db30a379251"
   },
   "outputs": [
    {
     "data": {
      "text/plain": [
       "array([[30.77327 ],\n",
       "       [30.77327 ],\n",
       "       [30.77327 ],\n",
       "       ...,\n",
       "       [74.30398 ],\n",
       "       [74.064   ],\n",
       "       [74.074005]], dtype=float32)"
      ]
     },
     "execution_count": 17,
     "metadata": {},
     "output_type": "execute_result"
    }
   ],
   "source": [
    "y_train_pred_GRU = scaler.inverse_transform(mod_GRU.predict(X_tr_t3))\n",
    "y_train_pred_GRU"
   ]
  },
  {
   "cell_type": "code",
   "execution_count": 19,
   "metadata": {
    "ExecuteTime": {
     "end_time": "2021-08-31T11:08:35.190117Z",
     "start_time": "2021-08-31T11:08:34.994994Z"
    },
    "colab": {
     "base_uri": "https://localhost:8080/"
    },
    "id": "dRWdhWA-mn8_",
    "outputId": "fe87736a-45e5-4315-faca-d646dbdf2af5"
   },
   "outputs": [
    {
     "name": "stdout",
     "output_type": "stream",
     "text": [
      "The Scores on Train Data\n",
      "-----------------------\n",
      "The R2 score on the Train set is           :\t0.994\n",
      "The  MAE on the Train set is               :\t0.847\n",
      "The  RMSE on the Train set is              :\t0.981\n",
      "The Adjusted R2 score on the Train set is  :\t0.994\n",
      "The MAPE on Train set is                   :\t2.046 %\n",
      "\n"
     ]
    }
   ],
   "source": [
    "def MAPE(y,yhat):\n",
    "    return np.mean(np.abs((y - yhat)/y)*100)\n",
    "\n",
    "# y_pred_test_lstm = scaler.inverse_transform(model_lstm.predict(X_tst_t))\n",
    "y_train_pred_GRU = scaler.inverse_transform(model_GRU.predict(X_tr_t3))\n",
    "iy_train = scaler.inverse_transform(y_train3.reshape(7431-size,-1))#3519\n",
    "# iy_test = scaler.inverse_transform(y_test.reshape(524,-1))\n",
    "\n",
    "train_mse = metrics.mean_squared_error(iy_train, y_train_pred_GRU)\n",
    "rmse_train = np.sqrt(train_mse)\n",
    "\n",
    "\n",
    "print('The Scores on Train Data')\n",
    "print('-----------------------')\n",
    "print(\"The R2 score on the Train set is           :\\t{:0.3f}\".format(\n",
    "    r2_score(iy_train, y_train_pred_GRU)))\n",
    "print(\"The  MAE on the Train set is               :\\t{:0.3f}\".format(\n",
    "    metrics.mean_absolute_error(iy_train, y_train_pred_GRU)))\n",
    "\n",
    "print(\"The  RMSE on the Train set is              :\\t{:0.3f}\".format(rmse_train))\n",
    "r2_train = r2_score(iy_train, y_train_pred_GRU)\n",
    "print(\"The Adjusted R2 score on the Train set is  :\\t{:0.3f}\".format(\n",
    "    adj_r2_score(r2_train, X_train3.shape[0], X_train3.shape[1])))\n",
    "print('The MAPE on Train set is                   :\\t{:.3f} %\\n'.format(MAPE(iy_train,y_train_pred_GRU)))\n"
   ]
  },
  {
   "cell_type": "markdown",
   "metadata": {
    "id": "W5COMQIdTOTA"
   },
   "source": [
    "# plotting the prediction vs Actuals on train data"
   ]
  },
  {
   "cell_type": "code",
   "execution_count": 20,
   "metadata": {
    "ExecuteTime": {
     "end_time": "2021-08-31T11:08:39.792209Z",
     "start_time": "2021-08-31T11:08:39.572794Z"
    },
    "colab": {
     "base_uri": "https://localhost:8080/",
     "height": 241
    },
    "id": "i7WBN11dmn1E",
    "outputId": "44dde56b-e0f9-4584-c591-5c4675c9b45f"
   },
   "outputs": [
    {
     "data": {
      "image/png": "[encoded data removed]",
      "text/plain": [
       "<Figure size 864x216 with 1 Axes>"
      ]
     },
     "metadata": {
      "needs_background": "light"
     },
     "output_type": "display_data"
    }
   ],
   "source": [
    "plt.figure(figsize=(12, 3))\n",
    "plt.plot(iy_train, label='True')\n",
    "plt.plot(y_train_pred_GRU, label='LSTM')\n",
    "plt.title(\"GRU's_Prediction - Train Data\")\n",
    "plt.xlabel('Observation')\n",
    "plt.ylabel('INR_Scaled')\n",
    "plt.legend()\n",
    "plt.show()"
   ]
  },
  {
   "cell_type": "markdown",
   "metadata": {
    "id": "bGnh6RqnTeA8"
   },
   "source": [
    "# Prediction the future data"
   ]
  },
  {
   "cell_type": "code",
   "execution_count": 21,
   "metadata": {
    "ExecuteTime": {
     "end_time": "2021-08-31T11:08:39.808164Z",
     "start_time": "2021-08-31T11:08:39.796200Z"
    },
    "colab": {
     "base_uri": "https://localhost:8080/"
    },
    "id": "8cOsNZIymnsT",
    "outputId": "165a8518-ddc8-489b-c7c9-58f9c2749b42"
   },
   "outputs": [
    {
     "name": "stdout",
     "output_type": "stream",
     "text": [
      "(1, 1) \n",
      "\n",
      "1\n"
     ]
    },
    {
     "data": {
      "text/plain": [
       "[0.9597190366972478]"
      ]
     },
     "execution_count": 21,
     "metadata": {},
     "output_type": "execute_result"
    }
   ],
   "source": [
    "# Extracting the data to be fed for future predictions\n",
    "\n",
    "x_input=np.array(data3[len(data3)-size:]).reshape(1,size)\n",
    "print(x_input.shape,'\\n')\n",
    "temp_input=list(x_input)\n",
    "temp_input=temp_input[0].tolist()\n",
    "print(len(temp_input))\n",
    "temp_input[:5]"
   ]
  },
  {
   "cell_type": "code",
   "execution_count": 25,
   "metadata": {
    "ExecuteTime": {
     "end_time": "2021-08-31T11:10:20.288338Z",
     "start_time": "2021-08-31T11:10:20.272383Z"
    },
    "colab": {
     "base_uri": "https://localhost:8080/"
    },
    "id": "0gOw3j2pwT8y",
    "outputId": "3a7f0e04-a1e8-43e2-8d2e-9b053555faac"
   },
   "outputs": [
    {
     "name": "stdout",
     "output_type": "stream",
     "text": [
      "[[0.9587729573249817], [0.9578272700309753], [0.9568822979927063], [0.9559380412101746], [0.9549946784973145], [0.9540524482727051], [0.9531116485595703], [0.9521722793579102], [0.9512345790863037], [0.9502987265586853], [0.9493648409843445], [0.9484331011772156], [0.9475036263465881], [0.9465766549110413], [0.9456523656845093], [0.9447308778762817], [0.9438123106956482], [0.9428967833518982], [0.9419844746589661], [0.9410756230354309], [0.9401703476905823], [0.9392687082290649], [0.9383708834648132], [0.9374771118164062], [0.936587393283844], [0.935701847076416], [0.9348207116127014], [0.9339441061019897], [0.9330722689628601], [0.9322049617767334], [0.931342601776123], [0.9304853081703186], [0.9296330809593201], [0.928786039352417], [0.9279444217681885], [0.9271082282066345], [0.9262776374816895], [0.9254525899887085], [0.9246333837509155], [0.9238199591636658], [0.9230125546455383], [0.9222109317779541], [0.9214154481887817], [0.9206261038780212], [0.9198430776596069], [0.919066309928894], [0.9182959198951721], [0.9175320267677307], [0.9167746305465698], [0.9160236716270447], [0.9152795076370239], [0.9145419597625732], [0.9138111472129822], [0.9130870699882507], [0.9123697876930237], [0.9116593599319458], [0.9109558463096619], [0.9102590680122375], [0.909569263458252], [0.9088865518569946], [0.9082107543945312], [0.9075419902801514], [0.9068801403045654], [0.906225323677063], [0.9055776000022888], [0.9049369096755981], [0.9043033719062805], [0.9036768078804016], [0.9030572772026062], [0.9024447798728943], [0.9018393754959106], [0.9012410044670105], [0.9006496667861938], [0.9000654220581055], [0.8994881510734558], [0.8989179134368896], [0.8983545899391174], [0.8977981805801392], [0.8972486257553101], [0.8967060446739197], [0.8961703181266785], [0.8956414461135864], [0.8951193690299988], [0.894603967666626], [0.8940954804420471], [0.8935935497283936], [0.8930982947349548], [0.892609715461731], [0.8921275734901428], [0.8916520476341248], [0.8911829590797424], [0.8907204270362854], [0.8902642726898193], [0.8898144960403442], [0.8893710374832153], [0.8889338970184326], [0.8885030150413513], [0.8880782127380371], [0.88765949010849], [0.88724684715271], [0.8868401646614075], [0.8864394426345825], [0.8860446214675903], [0.8856557011604309], [0.8852726221084595], [0.8848951458930969], [0.884523332118988], [0.8841572999954224], [0.883796751499176], [0.8834417462348938], [0.8830921649932861], [0.8827478289604187], [0.8824089169502258], [0.8820752501487732], [0.8817468285560608], [0.8814234137535095], [0.8811052441596985], [0.8807920813560486], [0.8804838061332703], [0.8801804780960083], [0.8798820376396179], [0.8795883655548096], [0.8792994618415833], [0.8790152072906494], [0.8787355422973633], [0.8784604668617249], [0.8781898021697998], [0.8779236078262329], [0.8776618242263794], [0.8774043321609497], [0.8771510720252991], [0.876902163028717], [0.8766573071479797], [0.8764165639877319], [0.8761797547340393], [0.8759470582008362], [0.8757181167602539], [0.875493049621582], [0.8752717971801758], [0.8750543594360352], [0.874840497970581], [0.8746304512023926], [0.8744239211082458], [0.8742209076881409], [0.8740214109420776], [0.8738254904747009], [0.8736327290534973], [0.8734434247016907], [0.8732573986053467], [0.8730745911598206], [0.8728950619697571], [0.8727186918258667], [0.8725452423095703], [0.872374951839447], [0.872207522392273], [0.8720431327819824], [0.8718816637992859], [0.8717229962348938], [0.8715671896934509], [0.8714141845703125], [0.871263861656189], [0.8711161017417908], [0.8709710836410522], [0.8708285689353943], [0.8706886172294617], [0.8705512285232544], [0.8704162836074829], [0.870283842086792], [0.8701537251472473], [0.8700259923934937], [0.8699004054069519], [0.8697772026062012], [0.8696562647819519], [0.8695374727249146], [0.8694207072257996], [0.869306206703186], [0.8691937923431396], [0.8690833449363708], [0.8689749240875244], [0.8688685297966003], [0.8687641024589539], [0.8686615824699402], [0.8685609102249146], [0.8684622049331665], [0.8683651685714722], [0.8682700395584106], [0.8681766986846924], [0.8680849671363831], [0.8679949641227722], [0.8679065108299255], [0.8678197264671326], [0.8677346706390381], [0.8676511645317078], [0.8675692081451416], [0.86748868227005], [0.8674097061157227], [0.8673322200775146], [0.8672561049461365], [0.8671813607215881], [0.8671080470085144], [0.8670361042022705], [0.8669654726982117], [0.8668962121009827], [0.8668282628059387], [0.8667615056037903], [0.8666961789131165], [0.8666319847106934], [0.8665690422058105], [0.8665072321891785], [0.8664465546607971], [0.866387128829956], [0.8663287162780762], [0.8662714958190918], [0.8662152886390686], [0.8661600947380066], [0.8661059141159058], [0.8660528063774109], [0.8660006523132324], [0.8659494519233704], [0.8658993244171143], [0.8658501505851746], [0.8658017516136169], [0.8657543063163757], [0.8657078146934509], [0.8656622171401978], [0.8656173944473267], [0.8655734658241272], [0.8655304312705994], [0.8654881715774536], [0.8654466271400452], [0.8654059767723083], [0.8653661608695984], [0.865327000617981], [0.8652886152267456], [0.8652509450912476], [0.8652139902114868], [0.8651777505874634], [0.865142285823822], [0.8651074171066284], [0.8650732040405273], [0.8650397062301636], [0.8650068044662476], [0.8649744391441345], [0.864942729473114], [0.8649117350578308], [0.8648812770843506], [0.8648514151573181], [0.8648220896720886], [0.8647932410240173], [0.8647651672363281], [0.8647374510765076], [0.8647103905677795], [0.8646838068962097], [0.8646577000617981], [0.8646320700645447], [0.864607036113739], [0.8645825386047363], [0.8645583987236023], [0.8645346760749817], [0.8645113706588745], [0.8644885420799255], [0.8644660711288452], [0.8644441366195679], [0.864422619342804], [0.8644015789031982], [0.8643808960914612], [0.8643605709075928], [0.8643407225608826], [0.864321231842041], [0.8643020987510681], [0.8642833232879639], [0.8642649054527283], [0.8642467856407166], [0.8642290830612183], [0.8642116189002991], [0.8641945719718933], [0.8641778826713562], [0.864161491394043], [0.8641453385353088], [0.8641296029090881], [0.8641141653060913], [0.8640989065170288], [0.864084005355835], [0.864069402217865], [0.8640550971031189], [0.8640411496162415], [0.8640273213386536], [0.8640137910842896], [0.8640004992485046], [0.8639875650405884], [0.8639748096466064], [0.8639622330665588], [0.8639500737190247], [0.86393803358078], [0.8639262914657593], [0.8639146685600281], [0.863903284072876], [0.863892138004303], [0.8638812899589539], [0.8638706207275391]]\n"
     ]
    }
   ],
   "source": [
    "# demonstrate prediction for next 300 days\n",
    "from numpy import array\n",
    "print(len(temp_input))\n",
    "output=[]\n",
    "n_steps=size\n",
    "i=0\n",
    "while(i<300):\n",
    "    \n",
    "    if(len(temp_input)>size):\n",
    "        x_input=np.array(temp_input[1:])\n",
    "        x_input = x_input.reshape((1,1, n_steps))\n",
    "        yhat = model_GRU.predict(x_input, verbose=0)\n",
    "        temp_input.extend(yhat[0].tolist())\n",
    "        temp_input=temp_input[1:]\n",
    "        output.extend(yhat.tolist())\n",
    "        i=i+1\n",
    "    else:\n",
    "        x_input = x_input.reshape(1,1,n_steps)\n",
    "        yhat = model_GRU.predict(x_input, verbose=0)\n",
    "        temp_input.extend(yhat[0].tolist())\n",
    "        output.extend(yhat.tolist())\n",
    "        i=i+1\n",
    "    \n",
    "\n",
    "print(output)"
   ]
  },
  {
   "cell_type": "markdown",
   "metadata": {
    "id": "Q15RucD6T3cy"
   },
   "source": [
    "# plotting the final predicted along side the previous values"
   ]
  },
  {
   "cell_type": "code",
   "execution_count": 27,
   "metadata": {
    "ExecuteTime": {
     "end_time": "2021-08-31T11:10:41.825180Z",
     "start_time": "2021-08-31T11:10:41.683964Z"
    },
    "colab": {
     "base_uri": "https://localhost:8080/",
     "height": 241
    },
    "id": "fvLwvc6TymbB",
    "outputId": "34995397-1ad3-4a0b-845d-f120d90c4fc5"
   },
   "outputs": [
    {
     "data": {
      "image/png": "[encoded data removed]",
      "text/plain": [
       "<Figure size 1152x216 with 1 Axes>"
      ]
     },
     "metadata": {
      "needs_background": "light"
     },
     "output_type": "display_data"
    }
   ],
   "source": [
    "\n",
    "day_pred=np.arange(130,130+300)\n",
    "plt.figure(figsize=(16, 3))\n",
    "plt.plot(iy_train[7431-size-130:], label='True')\n",
    "plt.plot(day_pred,scaler.inverse_transform(output), label='GRU')\n",
    "plt.title(\"LSTM's_Prediction - NEXT 30 DAYS\")\n",
    "plt.xlabel('Observation')\n",
    "plt.ylabel('INR_Scaled')\n",
    "plt.legend()\n",
    "plt.show()"
   ]
  },
  {
   "cell_type": "code",
   "execution_count": 28,
   "metadata": {
    "ExecuteTime": {
     "end_time": "2021-08-31T11:11:28.993053Z",
     "start_time": "2021-08-31T11:11:28.980088Z"
    },
    "colab": {
     "base_uri": "https://localhost:8080/"
    },
    "id": "XmuC5Qef-07b",
    "outputId": "c3ac929f-0227-486d-b291-f8a7da2eae80"
   },
   "outputs": [
    {
     "name": "stdout",
     "output_type": "stream",
     "text": [
      "PREDICTED VALUES FOR NEXT 300 DAYS\n",
      "--------------------------------\n",
      "\n",
      "[[74.0740015 ]\n",
      " [74.00803036]\n",
      " [73.94210911]\n",
      " [73.87623775]\n",
      " [73.81042877]\n",
      " [73.74469879]\n",
      " [73.6790686 ]\n",
      " [73.61353821]\n",
      " [73.54812424]\n",
      " [73.48283916]\n",
      " [73.41769131]\n",
      " [73.35269314]\n",
      " [73.28785297]\n",
      " [73.22318745]\n",
      " [73.15870903]\n",
      " [73.09442604]\n",
      " [73.03034679]\n",
      " [72.96647961]\n",
      " [72.90283695]\n",
      " [72.83943546]\n",
      " [72.77628345]\n",
      " [72.71338509]\n",
      " [72.65075283]\n",
      " [72.58840332]\n",
      " [72.52633656]\n",
      " [72.46456085]\n",
      " [72.40309284]\n",
      " [72.34194084]\n",
      " [72.28112148]\n",
      " [72.22061813]\n",
      " [72.1604599 ]\n",
      " [72.1006551 ]\n",
      " [72.04120373]\n",
      " [71.98211411]\n",
      " [71.92340286]\n",
      " [71.86507   ]\n",
      " [71.80712799]\n",
      " [71.74957268]\n",
      " [71.69242485]\n",
      " [71.63568035]\n",
      " [71.57935581]\n",
      " [71.5234346 ]\n",
      " [71.46794167]\n",
      " [71.41287701]\n",
      " [71.3582531 ]\n",
      " [71.30406578]\n",
      " [71.25032337]\n",
      " [71.19703419]\n",
      " [71.14419823]\n",
      " [71.09181133]\n",
      " [71.03989845]\n",
      " [70.98844711]\n",
      " [70.93746563]\n",
      " [70.886954  ]\n",
      " [70.83691639]\n",
      " [70.78735695]\n",
      " [70.73827984]\n",
      " [70.68967258]\n",
      " [70.64155182]\n",
      " [70.59392586]\n",
      " [70.54678223]\n",
      " [70.50012924]\n",
      " [70.45395859]\n",
      " [70.40827858]\n",
      " [70.36309338]\n",
      " [70.31839882]\n",
      " [70.27420322]\n",
      " [70.23049412]\n",
      " [70.18727566]\n",
      " [70.14454784]\n",
      " [70.10231483]\n",
      " [70.06057247]\n",
      " [70.01932076]\n",
      " [69.97856384]\n",
      " [69.93829342]\n",
      " [69.89851364]\n",
      " [69.85921619]\n",
      " [69.82040108]\n",
      " [69.78206413]\n",
      " [69.74421368]\n",
      " [69.70684139]\n",
      " [69.66994728]\n",
      " [69.63352718]\n",
      " [69.59757278]\n",
      " [69.56210072]\n",
      " [69.52708603]\n",
      " [69.49253704]\n",
      " [69.45845375]\n",
      " [69.42481953]\n",
      " [69.39164684]\n",
      " [69.35892323]\n",
      " [69.32665699]\n",
      " [69.29483566]\n",
      " [69.26345924]\n",
      " [69.23252357]\n",
      " [69.20202866]\n",
      " [69.17197033]\n",
      " [69.14233612]\n",
      " [69.11312603]\n",
      " [69.08434006]\n",
      " [69.05596989]\n",
      " [69.02801552]\n",
      " [69.00047279]\n",
      " [68.97334171]\n",
      " [68.94661812]\n",
      " [68.92028538]\n",
      " [68.89434765]\n",
      " [68.86881325]\n",
      " [68.84366138]\n",
      " [68.81889622]\n",
      " [68.79450943]\n",
      " [68.77048855]\n",
      " [68.74684605]\n",
      " [68.72356945]\n",
      " [68.70065876]\n",
      " [68.67809734]\n",
      " [68.65590183]\n",
      " [68.6340556 ]\n",
      " [68.61255032]\n",
      " [68.59139015]\n",
      " [68.57057095]\n",
      " [68.55008438]\n",
      " [68.52993046]\n",
      " [68.51010086]\n",
      " [68.49059143]\n",
      " [68.47140217]\n",
      " [68.4525206 ]\n",
      " [68.43395088]\n",
      " [68.41568886]\n",
      " [68.39772621]\n",
      " [68.38005878]\n",
      " [68.36269489]\n",
      " [68.34561375]\n",
      " [68.3288195 ]\n",
      " [68.31229969]\n",
      " [68.29606678]\n",
      " [68.28009583]\n",
      " [68.26439514]\n",
      " [68.24896057]\n",
      " [68.23379211]\n",
      " [68.21887314]\n",
      " [68.20422028]\n",
      " [68.18981274]\n",
      " [68.17565052]\n",
      " [68.16173363]\n",
      " [68.14806622]\n",
      " [68.13461918]\n",
      " [68.12141331]\n",
      " [68.10843613]\n",
      " [68.09568348]\n",
      " [68.08315952]\n",
      " [68.07085594]\n",
      " [68.0587561 ]\n",
      " [68.04687664]\n",
      " [68.03519676]\n",
      " [68.02372894]\n",
      " [68.01246487]\n",
      " [68.00139622]\n",
      " [67.99052715]\n",
      " [67.97985352]\n",
      " [67.96936699]\n",
      " [67.95905926]\n",
      " [67.94894279]\n",
      " [67.93900097]\n",
      " [67.92923794]\n",
      " [67.9196537 ]\n",
      " [67.91023994]\n",
      " [67.90100082]\n",
      " [67.89192387]\n",
      " [67.88301323]\n",
      " [67.87425228]\n",
      " [67.86565765]\n",
      " [67.85722103]\n",
      " [67.8489341 ]\n",
      " [67.84078854]\n",
      " [67.83280098]\n",
      " [67.82495895]\n",
      " [67.81725414]\n",
      " [67.8096907 ]\n",
      " [67.80226864]\n",
      " [67.79498379]\n",
      " [67.78783199]\n",
      " [67.7808091 ]\n",
      " [67.77392342]\n",
      " [67.76715416]\n",
      " [67.76051796]\n",
      " [67.7540065 ]\n",
      " [67.74760731]\n",
      " [67.7413287 ]\n",
      " [67.7351582 ]\n",
      " [67.72910412]\n",
      " [67.72317062]\n",
      " [67.71734524]\n",
      " [67.71162796]\n",
      " [67.70601048]\n",
      " [67.7005011 ]\n",
      " [67.69509567]\n",
      " [67.68978588]\n",
      " [67.68457172]\n",
      " [67.67945736]\n",
      " [67.67443863]\n",
      " [67.66951138]\n",
      " [67.66467976]\n",
      " [67.65993961]\n",
      " [67.65528263]\n",
      " [67.65072544]\n",
      " [67.64624725]\n",
      " [67.64185638]\n",
      " [67.63754452]\n",
      " [67.63331165]\n",
      " [67.62916611]\n",
      " [67.62509125]\n",
      " [67.62109955]\n",
      " [67.61717854]\n",
      " [67.61332821]\n",
      " [67.60954857]\n",
      " [67.60584377]\n",
      " [67.60220551]\n",
      " [67.59863377]\n",
      " [67.59513687]\n",
      " [67.5917065 ]\n",
      " [67.58833019]\n",
      " [67.58502041]\n",
      " [67.58177715]\n",
      " [67.57859627]\n",
      " [67.57546944]\n",
      " [67.57240498]\n",
      " [67.56940289]\n",
      " [67.56645485]\n",
      " [67.56355671]\n",
      " [67.56072094]\n",
      " [67.55794338]\n",
      " [67.55521156]\n",
      " [67.5525338 ]\n",
      " [67.54990593]\n",
      " [67.54732796]\n",
      " [67.54479988]\n",
      " [67.54232586]\n",
      " [67.53989342]\n",
      " [67.53750671]\n",
      " [67.53516991]\n",
      " [67.53287468]\n",
      " [67.53061687]\n",
      " [67.52840481]\n",
      " [67.52624264]\n",
      " [67.52411789]\n",
      " [67.52203472]\n",
      " [67.51998898]\n",
      " [67.51797649]\n",
      " [67.51601807]\n",
      " [67.51408459]\n",
      " [67.51219685]\n",
      " [67.51034237]\n",
      " [67.50852116]\n",
      " [67.50673321]\n",
      " [67.50498684]\n",
      " [67.50327789]\n",
      " [67.50159389]\n",
      " [67.499939  ]\n",
      " [67.49831322]\n",
      " [67.4967207 ]\n",
      " [67.49515312]\n",
      " [67.49362297]\n",
      " [67.49212193]\n",
      " [67.49065414]\n",
      " [67.48921131]\n",
      " [67.48779343]\n",
      " [67.48640881]\n",
      " [67.48504913]\n",
      " [67.48371441]\n",
      " [67.48240463]\n",
      " [67.4811198 ]\n",
      " [67.47985577]\n",
      " [67.47862083]\n",
      " [67.47740253]\n",
      " [67.47621334]\n",
      " [67.4750491 ]\n",
      " [67.47390564]\n",
      " [67.47277882]\n",
      " [67.4716811 ]\n",
      " [67.47060417]\n",
      " [67.46953972]\n",
      " [67.46850021]\n",
      " [67.4674815 ]\n",
      " [67.46648357]\n",
      " [67.4655106 ]\n",
      " [67.46454594]\n",
      " [67.46360207]\n",
      " [67.46267483]\n",
      " [67.46177254]\n",
      " [67.46088272]\n",
      " [67.46000538]\n",
      " [67.45915714]\n",
      " [67.45831722]\n",
      " [67.45749809]\n",
      " [67.45668728]\n",
      " [67.4558931 ]\n",
      " [67.45511555]\n",
      " [67.45435879]\n",
      " [67.4536145 ]]\n"
     ]
    }
   ],
   "source": [
    "print('PREDICTED VALUES FOR NEXT 300 DAYS')\n",
    "print('--------------------------------\\n')\n",
    "result = scaler.inverse_transform(output)\n",
    "# for i in range(len(lst_output)):\n",
    "# for x in result:\n",
    "#   print(x, sep = ', ' )\n",
    "print(result)"
   ]
  },
  {
   "cell_type": "code",
   "execution_count": null,
   "metadata": {
    "id": "amMH5D5sMWs_"
   },
   "outputs": [],
   "source": []
  }
 ],
 "metadata": {
  "accelerator": "GPU",
  "colab": {
   "collapsed_sections": [],
   "name": "LSTM_FINAL.ipynb",
   "provenance": []
  },
  "hide_input": false,
  "kernelspec": {
   "display_name": "Python 3",
   "language": "python",
   "name": "python3"
  },
  "language_info": {
   "codemirror_mode": {
    "name": "ipython",
    "version": 3
   },
   "file_extension": ".py",
   "mimetype": "text/x-python",
   "name": "python",
   "nbconvert_exporter": "python",
   "pygments_lexer": "ipython3",
   "version": "3.8.10"
  },
  "toc": {
   "base_numbering": 1,
   "nav_menu": {},
   "number_sections": true,
   "sideBar": true,
   "skip_h1_title": false,
   "title_cell": "Table of Contents",
   "title_sidebar": "Contents",
   "toc_cell": false,
   "toc_position": {},
   "toc_section_display": true,
   "toc_window_display": false
  },
  "varInspector": {
   "cols": {
    "lenName": 16,
    "lenType": 16,
    "lenVar": 40
   },
   "kernels_config": {
    "python": {
     "delete_cmd_postfix": "",
     "delete_cmd_prefix": "del ",
     "library": "var_list.py",
     "varRefreshCmd": "print(var_dic_list())"
    },
    "r": {
     "delete_cmd_postfix": ") ",
     "delete_cmd_prefix": "rm(",
     "library": "var_list.r",
     "varRefreshCmd": "cat(var_dic_list()) "
    }
   },
   "types_to_exclude": [
    "module",
    "function",
    "builtin_function_or_method",
    "instance",
    "_Feature"
   ],
   "window_display": false
  }
 },
 "nbformat": 4,
 "nbformat_minor": 1
}
